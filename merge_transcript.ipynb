{
 "cells": [
  {
   "cell_type": "code",
   "execution_count": 1,
   "metadata": {},
   "outputs": [],
   "source": [
    "import pandas as pd\n",
    "import json\n",
    "import os"
   ]
  },
  {
   "cell_type": "code",
   "execution_count": 2,
   "metadata": {},
   "outputs": [
    {
     "data": {
      "text/html": [
       "<div>\n",
       "<style scoped>\n",
       "    .dataframe tbody tr th:only-of-type {\n",
       "        vertical-align: middle;\n",
       "    }\n",
       "\n",
       "    .dataframe tbody tr th {\n",
       "        vertical-align: top;\n",
       "    }\n",
       "\n",
       "    .dataframe thead th {\n",
       "        text-align: right;\n",
       "    }\n",
       "</style>\n",
       "<table border=\"1\" class=\"dataframe\">\n",
       "  <thead>\n",
       "    <tr style=\"text-align: right;\">\n",
       "      <th></th>\n",
       "      <th>url</th>\n",
       "      <th>title</th>\n",
       "      <th>desc</th>\n",
       "    </tr>\n",
       "  </thead>\n",
       "  <tbody>\n",
       "    <tr>\n",
       "      <th>0</th>\n",
       "      <td>https://www.youtube.com/watch?v=C0MjY_tpG-I</td>\n",
       "      <td>NZ Māori Party calls for a ‘divorce’ from the ...</td>\n",
       "      <td>Sky News host Peta Credlin says the New Zealan...</td>\n",
       "    </tr>\n",
       "    <tr>\n",
       "      <th>1</th>\n",
       "      <td>https://www.youtube.com/watch?v=vXoqfoAXR44</td>\n",
       "      <td>Is India preparing to take back PoK? Air Force...</td>\n",
       "      <td>Pakistan should start counting its days, as Pr...</td>\n",
       "    </tr>\n",
       "    <tr>\n",
       "      <th>2</th>\n",
       "      <td>https://www.youtube.com/watch?v=mndBZFdPyVw&amp;t=...</td>\n",
       "      <td>How To Make Veg Enchiladas | Vegetarian Enchil...</td>\n",
       "      <td>Veg Enchiladas Recipe | How To Make Enchiladas...</td>\n",
       "    </tr>\n",
       "    <tr>\n",
       "      <th>3</th>\n",
       "      <td>https://www.youtube.com/watch?v=6a_ONOdfJTU</td>\n",
       "      <td>CNN’s Medical Expert Gives HORRIFYING Reason W...</td>\n",
       "      <td>Enjoy Healthy Aging Support of Collagen \\nhttp...</td>\n",
       "    </tr>\n",
       "    <tr>\n",
       "      <th>4</th>\n",
       "      <td>https://www.youtube.com/watch?v=27q2nnvwfUQ&amp;t=14s</td>\n",
       "      <td>Salma Hayek Reveals What Her Daughter Valentin...</td>\n",
       "      <td>“Extra” Special Correspondent Samantha Harris ...</td>\n",
       "    </tr>\n",
       "    <tr>\n",
       "      <th>...</th>\n",
       "      <td>...</td>\n",
       "      <td>...</td>\n",
       "      <td>...</td>\n",
       "    </tr>\n",
       "    <tr>\n",
       "      <th>457</th>\n",
       "      <td>https://www.youtube.com/watch?v=HtF-UWOwges</td>\n",
       "      <td>Watch French It Girl Soko’s Trick for the Ulti...</td>\n",
       "      <td>French musician, actress, and designer-favorit...</td>\n",
       "    </tr>\n",
       "    <tr>\n",
       "      <th>458</th>\n",
       "      <td>https://www.youtube.com/watch?v=4MVHi96NZls</td>\n",
       "      <td>Every Outfit Hailey Bieber Wears in a Week | 7...</td>\n",
       "      <td>Hailey Bieber walks us through her wardrobe fo...</td>\n",
       "    </tr>\n",
       "    <tr>\n",
       "      <th>459</th>\n",
       "      <td>https://www.youtube.com/watch?v=qkWdhln7SGc</td>\n",
       "      <td>How to Decide What's Ordinary and What's Luxur...</td>\n",
       "      <td>Hamish visits Francois Auget, a vintage dealer...</td>\n",
       "    </tr>\n",
       "    <tr>\n",
       "      <th>460</th>\n",
       "      <td>https://www.youtube.com/watch?v=hWHG4m16rCM</td>\n",
       "      <td>Straight Hair WITHOUT Heat!! (Curly Hair Tutor...</td>\n",
       "      <td>Follow me on... \\nInstagram: http://www.instag...</td>\n",
       "    </tr>\n",
       "    <tr>\n",
       "      <th>461</th>\n",
       "      <td>https://www.youtube.com/watch?v=iMCEgHmK4mg</td>\n",
       "      <td>Marisa Tomei's Guide to Natural Skin Care &amp; Ev...</td>\n",
       "      <td>Acclaimed actor Marisa Tomei reveals her skin ...</td>\n",
       "    </tr>\n",
       "  </tbody>\n",
       "</table>\n",
       "<p>462 rows × 3 columns</p>\n",
       "</div>"
      ],
      "text/plain": [
       "                                                   url  \\\n",
       "0          https://www.youtube.com/watch?v=C0MjY_tpG-I   \n",
       "1          https://www.youtube.com/watch?v=vXoqfoAXR44   \n",
       "2    https://www.youtube.com/watch?v=mndBZFdPyVw&t=...   \n",
       "3          https://www.youtube.com/watch?v=6a_ONOdfJTU   \n",
       "4    https://www.youtube.com/watch?v=27q2nnvwfUQ&t=14s   \n",
       "..                                                 ...   \n",
       "457        https://www.youtube.com/watch?v=HtF-UWOwges   \n",
       "458        https://www.youtube.com/watch?v=4MVHi96NZls   \n",
       "459        https://www.youtube.com/watch?v=qkWdhln7SGc   \n",
       "460        https://www.youtube.com/watch?v=hWHG4m16rCM   \n",
       "461        https://www.youtube.com/watch?v=iMCEgHmK4mg   \n",
       "\n",
       "                                                 title  \\\n",
       "0    NZ Māori Party calls for a ‘divorce’ from the ...   \n",
       "1    Is India preparing to take back PoK? Air Force...   \n",
       "2    How To Make Veg Enchiladas | Vegetarian Enchil...   \n",
       "3    CNN’s Medical Expert Gives HORRIFYING Reason W...   \n",
       "4    Salma Hayek Reveals What Her Daughter Valentin...   \n",
       "..                                                 ...   \n",
       "457  Watch French It Girl Soko’s Trick for the Ulti...   \n",
       "458  Every Outfit Hailey Bieber Wears in a Week | 7...   \n",
       "459  How to Decide What's Ordinary and What's Luxur...   \n",
       "460  Straight Hair WITHOUT Heat!! (Curly Hair Tutor...   \n",
       "461  Marisa Tomei's Guide to Natural Skin Care & Ev...   \n",
       "\n",
       "                                                  desc  \n",
       "0    Sky News host Peta Credlin says the New Zealan...  \n",
       "1    Pakistan should start counting its days, as Pr...  \n",
       "2    Veg Enchiladas Recipe | How To Make Enchiladas...  \n",
       "3    Enjoy Healthy Aging Support of Collagen \\nhttp...  \n",
       "4    “Extra” Special Correspondent Samantha Harris ...  \n",
       "..                                                 ...  \n",
       "457  French musician, actress, and designer-favorit...  \n",
       "458  Hailey Bieber walks us through her wardrobe fo...  \n",
       "459  Hamish visits Francois Auget, a vintage dealer...  \n",
       "460  Follow me on... \\nInstagram: http://www.instag...  \n",
       "461  Acclaimed actor Marisa Tomei reveals her skin ...  \n",
       "\n",
       "[462 rows x 3 columns]"
      ]
     },
     "execution_count": 2,
     "metadata": {},
     "output_type": "execute_result"
    }
   ],
   "source": [
    "df = pd.read_csv('data/extra_data.csv')\n",
    "df"
   ]
  },
  {
   "cell_type": "code",
   "execution_count": 3,
   "metadata": {},
   "outputs": [],
   "source": [
    "def get_video_id(url):\n",
    "    if \"youtube\" in url:\n",
    "        # print(url)\n",
    "        try:\n",
    "            return url.split(\"watch?v=\")[1].split(\"&\")[0]\n",
    "        except:\n",
    "            print(url)\n",
    "    else:\n",
    "        return url.split(\"/\")[-2]\n",
    "df['video_id'] = df['url'].apply(lambda x: f\"{get_video_id(x)}.mp3.json\")"
   ]
  },
  {
   "cell_type": "code",
   "execution_count": 4,
   "metadata": {},
   "outputs": [
    {
     "data": {
      "text/plain": [
       "0      C0MjY_tpG-I.mp3.json\n",
       "1      vXoqfoAXR44.mp3.json\n",
       "2      mndBZFdPyVw.mp3.json\n",
       "3      6a_ONOdfJTU.mp3.json\n",
       "4      27q2nnvwfUQ.mp3.json\n",
       "               ...         \n",
       "457    HtF-UWOwges.mp3.json\n",
       "458    4MVHi96NZls.mp3.json\n",
       "459    qkWdhln7SGc.mp3.json\n",
       "460    hWHG4m16rCM.mp3.json\n",
       "461    iMCEgHmK4mg.mp3.json\n",
       "Name: video_id, Length: 462, dtype: object"
      ]
     },
     "execution_count": 4,
     "metadata": {},
     "output_type": "execute_result"
    }
   ],
   "source": [
    "df['video_id']"
   ]
  },
  {
   "cell_type": "code",
   "execution_count": 5,
   "metadata": {},
   "outputs": [],
   "source": [
    "def get_transcript(x):\n",
    "    with open(os.path.join(\"/home/shreygupta/Downloads/transcripts\", x), 'r') as f:\n",
    "        data = json.load(f)\n",
    "    transcript = \"\"\n",
    "    if \"combinedRecognizedPhrases\" in data and len(data[\"combinedRecognizedPhrases\"]):\n",
    "        transcript = data[\"combinedRecognizedPhrases\"][0][\"display\"]\n",
    "    return transcript\n",
    "df['transcript'] = df['video_id'].apply(lambda x: get_transcript(x))"
   ]
  },
  {
   "cell_type": "code",
   "execution_count": 6,
   "metadata": {},
   "outputs": [],
   "source": [
    "transcripts = os.listdir(\"../Downloads/transcripts\")\n",
    "# print(transcripts)\n",
    "df['check'] = df['video_id'].apply(lambda x: x in transcripts)"
   ]
  },
  {
   "cell_type": "code",
   "execution_count": 7,
   "metadata": {},
   "outputs": [
    {
     "data": {
      "text/plain": [
       "Series([], Name: video_id, dtype: object)"
      ]
     },
     "execution_count": 7,
     "metadata": {},
     "output_type": "execute_result"
    }
   ],
   "source": [
    "df[df['check'] == False]['video_id']"
   ]
  },
  {
   "cell_type": "code",
   "execution_count": 8,
   "metadata": {},
   "outputs": [],
   "source": [
    "df.drop(columns=[\"video_id\", \"check\"], inplace=True)"
   ]
  },
  {
   "cell_type": "code",
   "execution_count": 9,
   "metadata": {},
   "outputs": [],
   "source": [
    "df.drop_duplicates(inplace=True)"
   ]
  },
  {
   "cell_type": "code",
   "execution_count": 10,
   "metadata": {},
   "outputs": [],
   "source": [
    "df.to_csv('data/extra_data_2.csv', index=False)"
   ]
  },
  {
   "cell_type": "code",
   "execution_count": null,
   "metadata": {},
   "outputs": [],
   "source": []
  }
 ],
 "metadata": {
  "kernelspec": {
   "display_name": "hate_speech_env",
   "language": "python",
   "name": "python3"
  },
  "language_info": {
   "codemirror_mode": {
    "name": "ipython",
    "version": 3
   },
   "file_extension": ".py",
   "mimetype": "text/x-python",
   "name": "python",
   "nbconvert_exporter": "python",
   "pygments_lexer": "ipython3",
   "version": "3.10.9"
  },
  "orig_nbformat": 4,
  "vscode": {
   "interpreter": {
    "hash": "1b6cc2797df5b890432b3042b64dd1442c8828b309ca87122f4a2847a2739658"
   }
  }
 },
 "nbformat": 4,
 "nbformat_minor": 2
}
