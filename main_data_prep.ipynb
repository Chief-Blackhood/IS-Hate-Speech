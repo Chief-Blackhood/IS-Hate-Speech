{
 "cells": [
  {
   "cell_type": "code",
   "execution_count": 1,
   "metadata": {},
   "outputs": [],
   "source": [
    "import pandas as pd\n",
    "import numpy as np\n",
    "import json\n",
    "import heapq\n",
    "import demoji\n",
    "import re"
   ]
  },
  {
   "cell_type": "code",
   "execution_count": 2,
   "metadata": {},
   "outputs": [],
   "source": [
    "preds = np.load('test_preds.npy').squeeze()\n",
    "labels = np.load('test_labels.npy').squeeze()"
   ]
  },
  {
   "cell_type": "code",
   "execution_count": 18,
   "metadata": {},
   "outputs": [],
   "source": [
    "fail_idx = np.where(preds != labels)[0]"
   ]
  },
  {
   "cell_type": "code",
   "execution_count": 7,
   "metadata": {},
   "outputs": [],
   "source": [
    "df = pd.read_csv('./data/with_aug/test.csv')"
   ]
  },
  {
   "cell_type": "code",
   "execution_count": 20,
   "metadata": {},
   "outputs": [],
   "source": [
    "df['match'] = True\n",
    "df.loc[fail_idx, 'match'] = False"
   ]
  },
  {
   "cell_type": "code",
   "execution_count": 21,
   "metadata": {},
   "outputs": [
    {
     "data": {
      "text/html": [
       "<div>\n",
       "<style scoped>\n",
       "    .dataframe tbody tr th:only-of-type {\n",
       "        vertical-align: middle;\n",
       "    }\n",
       "\n",
       "    .dataframe tbody tr th {\n",
       "        vertical-align: top;\n",
       "    }\n",
       "\n",
       "    .dataframe thead th {\n",
       "        text-align: right;\n",
       "    }\n",
       "</style>\n",
       "<table border=\"1\" class=\"dataframe\">\n",
       "  <thead>\n",
       "    <tr style=\"text-align: right;\">\n",
       "      <th></th>\n",
       "      <th>url</th>\n",
       "      <th>category</th>\n",
       "      <th>comment</th>\n",
       "      <th>label</th>\n",
       "      <th>match</th>\n",
       "    </tr>\n",
       "  </thead>\n",
       "  <tbody>\n",
       "    <tr>\n",
       "      <th>0</th>\n",
       "      <td>https://www.bitchute.com/video/PbQ2FwGZFYOm/</td>\n",
       "      <td>news &amp; politics</td>\n",
       "      <td>\"Minister Freeland\" = kyke controlling your ba...</td>\n",
       "      <td>yes</td>\n",
       "      <td>True</td>\n",
       "    </tr>\n",
       "    <tr>\n",
       "      <th>1</th>\n",
       "      <td>https://www.youtube.com/watch?v=EKgEj5asL3o</td>\n",
       "      <td>health</td>\n",
       "      <td>Americans: “MSG is unhealthy”\\nAlso Americans:...</td>\n",
       "      <td>yes</td>\n",
       "      <td>True</td>\n",
       "    </tr>\n",
       "    <tr>\n",
       "      <th>2</th>\n",
       "      <td>https://www.youtube.com/watch?v=2tM1LFFxeKg</td>\n",
       "      <td>fitness</td>\n",
       "      <td>0:23 did I just hear Doomguy taking a missle t...</td>\n",
       "      <td>no</td>\n",
       "      <td>False</td>\n",
       "    </tr>\n",
       "    <tr>\n",
       "      <th>3</th>\n",
       "      <td>https://www.youtube.com/watch?v=oTRiwBmleGA</td>\n",
       "      <td>news &amp; politics</td>\n",
       "      <td>Change the word begging instead humiliation</td>\n",
       "      <td>yes</td>\n",
       "      <td>True</td>\n",
       "    </tr>\n",
       "    <tr>\n",
       "      <th>4</th>\n",
       "      <td>https://www.youtube.com/watch?v=WKa11G1Jpfs</td>\n",
       "      <td>religion</td>\n",
       "      <td>Gaitonde was right.. 21 din hai aapke pas. Bac...</td>\n",
       "      <td>no</td>\n",
       "      <td>True</td>\n",
       "    </tr>\n",
       "  </tbody>\n",
       "</table>\n",
       "</div>"
      ],
      "text/plain": [
       "                                            url         category  \\\n",
       "0  https://www.bitchute.com/video/PbQ2FwGZFYOm/  news & politics   \n",
       "1   https://www.youtube.com/watch?v=EKgEj5asL3o           health   \n",
       "2   https://www.youtube.com/watch?v=2tM1LFFxeKg          fitness   \n",
       "3   https://www.youtube.com/watch?v=oTRiwBmleGA  news & politics   \n",
       "4   https://www.youtube.com/watch?v=WKa11G1Jpfs         religion   \n",
       "\n",
       "                                             comment label  match  \n",
       "0  \"Minister Freeland\" = kyke controlling your ba...   yes   True  \n",
       "1  Americans: “MSG is unhealthy”\\nAlso Americans:...   yes   True  \n",
       "2  0:23 did I just hear Doomguy taking a missle t...    no  False  \n",
       "3        Change the word begging instead humiliation   yes   True  \n",
       "4  Gaitonde was right.. 21 din hai aapke pas. Bac...    no   True  "
      ]
     },
     "execution_count": 21,
     "metadata": {},
     "output_type": "execute_result"
    }
   ],
   "source": [
    "df.head()"
   ]
  },
  {
   "cell_type": "code",
   "execution_count": 18,
   "metadata": {},
   "outputs": [],
   "source": [
    "df[df['match'] == False].to_csv('test.csv')"
   ]
  },
  {
   "cell_type": "code",
   "execution_count": 2,
   "metadata": {},
   "outputs": [],
   "source": [
    "comments = pd.read_csv('./data/with_aug/train.csv')\n",
    "metadata = pd.read_csv('./data/extra_data_trans.csv')"
   ]
  },
  {
   "cell_type": "code",
   "execution_count": 3,
   "metadata": {},
   "outputs": [],
   "source": [
    "df = pd.merge(comments, metadata, how='left', on='url')"
   ]
  },
  {
   "cell_type": "code",
   "execution_count": 17,
   "metadata": {},
   "outputs": [
    {
     "data": {
      "text/html": [
       "<div>\n",
       "<style scoped>\n",
       "    .dataframe tbody tr th:only-of-type {\n",
       "        vertical-align: middle;\n",
       "    }\n",
       "\n",
       "    .dataframe tbody tr th {\n",
       "        vertical-align: top;\n",
       "    }\n",
       "\n",
       "    .dataframe thead th {\n",
       "        text-align: right;\n",
       "    }\n",
       "</style>\n",
       "<table border=\"1\" class=\"dataframe\">\n",
       "  <thead>\n",
       "    <tr style=\"text-align: right;\">\n",
       "      <th></th>\n",
       "      <th>url</th>\n",
       "      <th>transcript</th>\n",
       "    </tr>\n",
       "  </thead>\n",
       "  <tbody>\n",
       "    <tr>\n",
       "      <th>202</th>\n",
       "      <td>https://www.youtube.com/watch?v=glR4fKs7WSU</td>\n",
       "      <td>But good morning, although this is. Certainly....</td>\n",
       "    </tr>\n",
       "    <tr>\n",
       "      <th>329</th>\n",
       "      <td>https://www.bitchute.com/video/GLWib2Ae8PCx/</td>\n",
       "      <td>So some of you just don't believe that my dog'...</td>\n",
       "    </tr>\n",
       "    <tr>\n",
       "      <th>332</th>\n",
       "      <td>https://www.youtube.com/watch?v=lWQONFEHqpc</td>\n",
       "      <td>NaN</td>\n",
       "    </tr>\n",
       "    <tr>\n",
       "      <th>340</th>\n",
       "      <td>https://www.youtube.com/watch?v=0BTlDRddyK4</td>\n",
       "      <td>Yeah.</td>\n",
       "    </tr>\n",
       "    <tr>\n",
       "      <th>500</th>\n",
       "      <td>https://www.youtube.com/watch?v=3gcQrFsUFzQ</td>\n",
       "      <td>NaN</td>\n",
       "    </tr>\n",
       "    <tr>\n",
       "      <th>503</th>\n",
       "      <td>https://www.bitchute.com/video/ZruneWL9UZId/</td>\n",
       "      <td>NaN</td>\n",
       "    </tr>\n",
       "    <tr>\n",
       "      <th>504</th>\n",
       "      <td>https://www.youtube.com/watch?v=yDAcEJmqY6U</td>\n",
       "      <td>NaN</td>\n",
       "    </tr>\n",
       "    <tr>\n",
       "      <th>522</th>\n",
       "      <td>https://www.youtube.com/watch?v=1SVLhgWHm1A</td>\n",
       "      <td>Hayden getting really excited, though. I think...</td>\n",
       "    </tr>\n",
       "    <tr>\n",
       "      <th>694</th>\n",
       "      <td>https://www.youtube.com/watch?v=ds5MbgbXLBo</td>\n",
       "      <td>Home cooks tonight. You will be replicating a ...</td>\n",
       "    </tr>\n",
       "    <tr>\n",
       "      <th>775</th>\n",
       "      <td>https://www.youtube.com/watch?v=Hyfc_MLpkRw</td>\n",
       "      <td>NaN</td>\n",
       "    </tr>\n",
       "    <tr>\n",
       "      <th>788</th>\n",
       "      <td>https://www.bitchute.com/video/kdsvw258hAL8/</td>\n",
       "      <td>NaN</td>\n",
       "    </tr>\n",
       "    <tr>\n",
       "      <th>815</th>\n",
       "      <td>https://www.bitchute.com/video/jyfLYIIje8FS/</td>\n",
       "      <td>White privilege. Think about it. Whose flesh t...</td>\n",
       "    </tr>\n",
       "    <tr>\n",
       "      <th>977</th>\n",
       "      <td>https://www.youtube.com/watch?v=lAZobMyRy8o</td>\n",
       "      <td>Yeah. Was it good? Oh yeah. This is Asterix, h...</td>\n",
       "    </tr>\n",
       "    <tr>\n",
       "      <th>1018</th>\n",
       "      <td>https://www.bitchute.com/video/2XXGIFJmsPH7/</td>\n",
       "      <td>NaN</td>\n",
       "    </tr>\n",
       "    <tr>\n",
       "      <th>1059</th>\n",
       "      <td>https://www.youtube.com/watch?v=bOsk1Io1qYY</td>\n",
       "      <td>NaN</td>\n",
       "    </tr>\n",
       "    <tr>\n",
       "      <th>1067</th>\n",
       "      <td>https://www.bitchute.com/video/LoYqrZ840Its/</td>\n",
       "      <td>NaN</td>\n",
       "    </tr>\n",
       "    <tr>\n",
       "      <th>1095</th>\n",
       "      <td>https://www.youtube.com/watch?v=m2kOu6J2Zhc</td>\n",
       "      <td>NaN</td>\n",
       "    </tr>\n",
       "    <tr>\n",
       "      <th>1292</th>\n",
       "      <td>https://www.youtube.com/watch?v=BHCVJHSFXxo</td>\n",
       "      <td>NaN</td>\n",
       "    </tr>\n",
       "    <tr>\n",
       "      <th>1645</th>\n",
       "      <td>https://www.youtube.com/watch?v=V4mZjcAyqsI</td>\n",
       "      <td>NaN</td>\n",
       "    </tr>\n",
       "    <tr>\n",
       "      <th>1968</th>\n",
       "      <td>https://www.youtube.com/watch?v=cO2pjrjMozs</td>\n",
       "      <td>NaN</td>\n",
       "    </tr>\n",
       "    <tr>\n",
       "      <th>2054</th>\n",
       "      <td>https://www.bitchute.com/video/tjgnaLRL9uzE/</td>\n",
       "      <td>NaN</td>\n",
       "    </tr>\n",
       "    <tr>\n",
       "      <th>2074</th>\n",
       "      <td>https://www.youtube.com/watch?v=7o39NrSwfb8</td>\n",
       "      <td>NaN</td>\n",
       "    </tr>\n",
       "    <tr>\n",
       "      <th>2143</th>\n",
       "      <td>https://www.bitchute.com/video/riMRzNLbbLH0/</td>\n",
       "      <td>Mcnuggets you did. When you buy. Yes. Question...</td>\n",
       "    </tr>\n",
       "    <tr>\n",
       "      <th>2318</th>\n",
       "      <td>https://www.youtube.com/watch?v=g7LQS84IL4U</td>\n",
       "      <td>NaN</td>\n",
       "    </tr>\n",
       "    <tr>\n",
       "      <th>2437</th>\n",
       "      <td>https://www.youtube.com/watch?v=SPEeoHEZSB8</td>\n",
       "      <td>Shut up.</td>\n",
       "    </tr>\n",
       "    <tr>\n",
       "      <th>2960</th>\n",
       "      <td>https://www.bitchute.com/video/NGTyxsCNS5Yt/</td>\n",
       "      <td>NaN</td>\n",
       "    </tr>\n",
       "    <tr>\n",
       "      <th>3097</th>\n",
       "      <td>https://www.youtube.com/watch?v=5EktU-ITKwE</td>\n",
       "      <td>NaN</td>\n",
       "    </tr>\n",
       "    <tr>\n",
       "      <th>3268</th>\n",
       "      <td>https://www.bitchute.com/video/UNB7iw1M7Uco/</td>\n",
       "      <td>NaN</td>\n",
       "    </tr>\n",
       "    <tr>\n",
       "      <th>4184</th>\n",
       "      <td>https://www.bitchute.com/video/Bb7rY7Id73Dd/</td>\n",
       "      <td>NaN</td>\n",
       "    </tr>\n",
       "    <tr>\n",
       "      <th>4339</th>\n",
       "      <td>https://www.youtube.com/watch?v=iNxJf6V6nds</td>\n",
       "      <td>Company is simple habit and we're seeking $600...</td>\n",
       "    </tr>\n",
       "    <tr>\n",
       "      <th>4552</th>\n",
       "      <td>https://www.youtube.com/watch?v=qEyl_XGasmk</td>\n",
       "      <td>NaN</td>\n",
       "    </tr>\n",
       "    <tr>\n",
       "      <th>4632</th>\n",
       "      <td>https://www.youtube.com/watch?v=xOToL-SSkKI</td>\n",
       "      <td>NaN</td>\n",
       "    </tr>\n",
       "    <tr>\n",
       "      <th>4669</th>\n",
       "      <td>https://www.bitchute.com/video/GUpoV4hO5hBs/</td>\n",
       "      <td>NaN</td>\n",
       "    </tr>\n",
       "    <tr>\n",
       "      <th>5085</th>\n",
       "      <td>https://www.bitchute.com/video/AQxG8h8CdCVJ/</td>\n",
       "      <td>NaN</td>\n",
       "    </tr>\n",
       "    <tr>\n",
       "      <th>6058</th>\n",
       "      <td>https://www.youtube.com/watch?v=Y-6Mw9yFQoI</td>\n",
       "      <td>NaN</td>\n",
       "    </tr>\n",
       "    <tr>\n",
       "      <th>6324</th>\n",
       "      <td>https://www.bitchute.com/video/DFlrLnZgwjaM/</td>\n",
       "      <td>NaN</td>\n",
       "    </tr>\n",
       "    <tr>\n",
       "      <th>7162</th>\n",
       "      <td>https://www.bitchute.com/video/rrlaAz5J0hQh/</td>\n",
       "      <td>NaN</td>\n",
       "    </tr>\n",
       "  </tbody>\n",
       "</table>\n",
       "</div>"
      ],
      "text/plain": [
       "                                               url  \\\n",
       "202    https://www.youtube.com/watch?v=glR4fKs7WSU   \n",
       "329   https://www.bitchute.com/video/GLWib2Ae8PCx/   \n",
       "332    https://www.youtube.com/watch?v=lWQONFEHqpc   \n",
       "340    https://www.youtube.com/watch?v=0BTlDRddyK4   \n",
       "500    https://www.youtube.com/watch?v=3gcQrFsUFzQ   \n",
       "503   https://www.bitchute.com/video/ZruneWL9UZId/   \n",
       "504    https://www.youtube.com/watch?v=yDAcEJmqY6U   \n",
       "522    https://www.youtube.com/watch?v=1SVLhgWHm1A   \n",
       "694    https://www.youtube.com/watch?v=ds5MbgbXLBo   \n",
       "775    https://www.youtube.com/watch?v=Hyfc_MLpkRw   \n",
       "788   https://www.bitchute.com/video/kdsvw258hAL8/   \n",
       "815   https://www.bitchute.com/video/jyfLYIIje8FS/   \n",
       "977    https://www.youtube.com/watch?v=lAZobMyRy8o   \n",
       "1018  https://www.bitchute.com/video/2XXGIFJmsPH7/   \n",
       "1059   https://www.youtube.com/watch?v=bOsk1Io1qYY   \n",
       "1067  https://www.bitchute.com/video/LoYqrZ840Its/   \n",
       "1095   https://www.youtube.com/watch?v=m2kOu6J2Zhc   \n",
       "1292   https://www.youtube.com/watch?v=BHCVJHSFXxo   \n",
       "1645   https://www.youtube.com/watch?v=V4mZjcAyqsI   \n",
       "1968   https://www.youtube.com/watch?v=cO2pjrjMozs   \n",
       "2054  https://www.bitchute.com/video/tjgnaLRL9uzE/   \n",
       "2074   https://www.youtube.com/watch?v=7o39NrSwfb8   \n",
       "2143  https://www.bitchute.com/video/riMRzNLbbLH0/   \n",
       "2318   https://www.youtube.com/watch?v=g7LQS84IL4U   \n",
       "2437   https://www.youtube.com/watch?v=SPEeoHEZSB8   \n",
       "2960  https://www.bitchute.com/video/NGTyxsCNS5Yt/   \n",
       "3097   https://www.youtube.com/watch?v=5EktU-ITKwE   \n",
       "3268  https://www.bitchute.com/video/UNB7iw1M7Uco/   \n",
       "4184  https://www.bitchute.com/video/Bb7rY7Id73Dd/   \n",
       "4339   https://www.youtube.com/watch?v=iNxJf6V6nds   \n",
       "4552   https://www.youtube.com/watch?v=qEyl_XGasmk   \n",
       "4632   https://www.youtube.com/watch?v=xOToL-SSkKI   \n",
       "4669  https://www.bitchute.com/video/GUpoV4hO5hBs/   \n",
       "5085  https://www.bitchute.com/video/AQxG8h8CdCVJ/   \n",
       "6058   https://www.youtube.com/watch?v=Y-6Mw9yFQoI   \n",
       "6324  https://www.bitchute.com/video/DFlrLnZgwjaM/   \n",
       "7162  https://www.bitchute.com/video/rrlaAz5J0hQh/   \n",
       "\n",
       "                                             transcript  \n",
       "202   But good morning, although this is. Certainly....  \n",
       "329   So some of you just don't believe that my dog'...  \n",
       "332                                                 NaN  \n",
       "340                                               Yeah.  \n",
       "500                                                 NaN  \n",
       "503                                                 NaN  \n",
       "504                                                 NaN  \n",
       "522   Hayden getting really excited, though. I think...  \n",
       "694   Home cooks tonight. You will be replicating a ...  \n",
       "775                                                 NaN  \n",
       "788                                                 NaN  \n",
       "815   White privilege. Think about it. Whose flesh t...  \n",
       "977   Yeah. Was it good? Oh yeah. This is Asterix, h...  \n",
       "1018                                                NaN  \n",
       "1059                                                NaN  \n",
       "1067                                                NaN  \n",
       "1095                                                NaN  \n",
       "1292                                                NaN  \n",
       "1645                                                NaN  \n",
       "1968                                                NaN  \n",
       "2054                                                NaN  \n",
       "2074                                                NaN  \n",
       "2143  Mcnuggets you did. When you buy. Yes. Question...  \n",
       "2318                                                NaN  \n",
       "2437                                           Shut up.  \n",
       "2960                                                NaN  \n",
       "3097                                                NaN  \n",
       "3268                                                NaN  \n",
       "4184                                                NaN  \n",
       "4339  Company is simple habit and we're seeking $600...  \n",
       "4552                                                NaN  \n",
       "4632                                                NaN  \n",
       "4669                                                NaN  \n",
       "5085                                                NaN  \n",
       "6058                                                NaN  \n",
       "6324                                                NaN  \n",
       "7162                                                NaN  "
      ]
     },
     "execution_count": 17,
     "metadata": {},
     "output_type": "execute_result"
    }
   ],
   "source": [
    "df[df.isnull().any(axis=1)][['url', 'transcript']].drop_duplicates(subset=['url', 'transcript'])"
   ]
  },
  {
   "cell_type": "code",
   "execution_count": 1,
   "metadata": {},
   "outputs": [],
   "source": [
    "import json"
   ]
  },
  {
   "cell_type": "code",
   "execution_count": 12,
   "metadata": {},
   "outputs": [],
   "source": [
    "with open('./non_hate_youtube_data.json') as f:\n",
    "    cur_data = json.load(f)"
   ]
  },
  {
   "cell_type": "code",
   "execution_count": 13,
   "metadata": {},
   "outputs": [],
   "source": [
    "with open('./metadata/non_hate_youtube_data.json') as f:\n",
    "    prev_data = json.load(f)"
   ]
  },
  {
   "cell_type": "code",
   "execution_count": 14,
   "metadata": {},
   "outputs": [],
   "source": [
    "for video_data in prev_data:\n",
    "    if video_data['url'] in ['https://www.youtube.com/watch?v=O_AHDyUmqs', 'https://www.youtube.com/watch?v=G>gw6erIp_Qc']:\n",
    "        print(\"hi\")\n",
    "        cur_data.append(video_data)"
   ]
  },
  {
   "cell_type": "code",
   "execution_count": 11,
   "metadata": {},
   "outputs": [],
   "source": [
    "with open('./youtube_data.json', 'w') as f:\n",
    "    json.dump(cur_data, f)"
   ]
  },
  {
   "cell_type": "markdown",
   "metadata": {},
   "source": [
    "## Extracting key phrases beforehand"
   ]
  },
  {
   "cell_type": "code",
   "execution_count": 4,
   "metadata": {},
   "outputs": [],
   "source": [
    "from keybert import KeyBERT"
   ]
  },
  {
   "cell_type": "code",
   "execution_count": 2,
   "metadata": {},
   "outputs": [],
   "source": [
    "metadata = pd.read_csv('./data/extra_data_trans.csv')"
   ]
  },
  {
   "cell_type": "code",
   "execution_count": 45,
   "metadata": {},
   "outputs": [
    {
     "data": {
      "text/html": [
       "<div>\n",
       "<style scoped>\n",
       "    .dataframe tbody tr th:only-of-type {\n",
       "        vertical-align: middle;\n",
       "    }\n",
       "\n",
       "    .dataframe tbody tr th {\n",
       "        vertical-align: top;\n",
       "    }\n",
       "\n",
       "    .dataframe thead th {\n",
       "        text-align: right;\n",
       "    }\n",
       "</style>\n",
       "<table border=\"1\" class=\"dataframe\">\n",
       "  <thead>\n",
       "    <tr style=\"text-align: right;\">\n",
       "      <th></th>\n",
       "      <th>url</th>\n",
       "      <th>title</th>\n",
       "      <th>desc</th>\n",
       "      <th>transcript</th>\n",
       "      <th>key_phrases_desc_bert</th>\n",
       "      <th>key_phrases_transcript_bert</th>\n",
       "      <th>key_phrases_desc_long</th>\n",
       "      <th>key_phrases_transcript_long</th>\n",
       "    </tr>\n",
       "  </thead>\n",
       "  <tbody>\n",
       "    <tr>\n",
       "      <th>0</th>\n",
       "      <td>https://www.youtube.com/watch?v=C0MjY_tpG-I</td>\n",
       "      <td>NZ Māori Party calls for a ‘divorce’ from the ...</td>\n",
       "      <td>Sky News host Peta Credlin says the New Zealan...</td>\n",
       "      <td>It was yesterday we were celebrating the recor...</td>\n",
       "      <td>monarchy ms peta party calling divorce credlin...</td>\n",
       "      <td>maori party ideas haven cancelling queen quest...</td>\n",
       "      <td>monarchy ms peta party calling divorce credlin...</td>\n",
       "      <td>maori party ideas haven cancelling queen quest...</td>\n",
       "    </tr>\n",
       "    <tr>\n",
       "      <th>1</th>\n",
       "      <td>https://www.youtube.com/watch?v=vXoqfoAXR44</td>\n",
       "      <td>Is India preparing to take back PoK? Air Force...</td>\n",
       "      <td>Pakistan should start counting its days, as Pr...</td>\n",
       "      <td>Prime Minister Narendra Modi has finally put h...</td>\n",
       "      <td>pakistan start counting pedal illegally occupi...</td>\n",
       "      <td>soon capture kashmir gas pedal illegally china...</td>\n",
       "      <td>pakistan start counting pedal illegally occupi...</td>\n",
       "      <td>soon capture kashmir gas pedal illegally china...</td>\n",
       "    </tr>\n",
       "    <tr>\n",
       "      <th>2</th>\n",
       "      <td>https://www.youtube.com/watch?v=mndBZFdPyVw&amp;t=...</td>\n",
       "      <td>How To Make Veg Enchiladas | Vegetarian Enchil...</td>\n",
       "      <td>Veg Enchiladas Recipe | How To Make Enchiladas...</td>\n",
       "      <td>Hi guys, welcome to Rajshri Food. This is the ...</td>\n",
       "      <td>veg enchiladas recipe rajshri filling tbsp sur...</td>\n",
       "      <td>making bean enchiladas salt absolutely check b...</td>\n",
       "      <td>veg enchiladas recipe rajshri filling tbsp sur...</td>\n",
       "      <td>making bean enchiladas salt absolutely check b...</td>\n",
       "    </tr>\n",
       "    <tr>\n",
       "      <th>3</th>\n",
       "      <td>https://www.youtube.com/watch?v=6a_ONOdfJTU</td>\n",
       "      <td>CNN’s Medical Expert Gives HORRIFYING Reason W...</td>\n",
       "      <td>Enjoy Healthy Aging Support of Collagen \\nhttp...</td>\n",
       "      <td>We're witnessing a major narrative shift when ...</td>\n",
       "      <td>collagen http healthwithgary mask mandates pre...</td>\n",
       "      <td>mandates end cnn yeah mean worried decrease ho...</td>\n",
       "      <td>collagen http healthwithgary mask mandates pre...</td>\n",
       "      <td>mandates end cnn yeah mean worried decrease ho...</td>\n",
       "    </tr>\n",
       "    <tr>\n",
       "      <th>4</th>\n",
       "      <td>https://www.youtube.com/watch?v=27q2nnvwfUQ&amp;t=14s</td>\n",
       "      <td>Salma Hayek Reveals What Her Daughter Valentin...</td>\n",
       "      <td>“Extra” Special Correspondent Samantha Harris ...</td>\n",
       "      <td>Hello Hello beauty you got looking fabulous an...</td>\n",
       "      <td>watch eternals daughter valentina salma harris...</td>\n",
       "      <td>young latina women talking superhero calling h...</td>\n",
       "      <td>watch eternals daughter valentina salma harris...</td>\n",
       "      <td>young latina women talking superhero calling h...</td>\n",
       "    </tr>\n",
       "  </tbody>\n",
       "</table>\n",
       "</div>"
      ],
      "text/plain": [
       "                                                 url  \\\n",
       "0        https://www.youtube.com/watch?v=C0MjY_tpG-I   \n",
       "1        https://www.youtube.com/watch?v=vXoqfoAXR44   \n",
       "2  https://www.youtube.com/watch?v=mndBZFdPyVw&t=...   \n",
       "3        https://www.youtube.com/watch?v=6a_ONOdfJTU   \n",
       "4  https://www.youtube.com/watch?v=27q2nnvwfUQ&t=14s   \n",
       "\n",
       "                                               title  \\\n",
       "0  NZ Māori Party calls for a ‘divorce’ from the ...   \n",
       "1  Is India preparing to take back PoK? Air Force...   \n",
       "2  How To Make Veg Enchiladas | Vegetarian Enchil...   \n",
       "3  CNN’s Medical Expert Gives HORRIFYING Reason W...   \n",
       "4  Salma Hayek Reveals What Her Daughter Valentin...   \n",
       "\n",
       "                                                desc  \\\n",
       "0  Sky News host Peta Credlin says the New Zealan...   \n",
       "1  Pakistan should start counting its days, as Pr...   \n",
       "2  Veg Enchiladas Recipe | How To Make Enchiladas...   \n",
       "3  Enjoy Healthy Aging Support of Collagen \\nhttp...   \n",
       "4  “Extra” Special Correspondent Samantha Harris ...   \n",
       "\n",
       "                                          transcript  \\\n",
       "0  It was yesterday we were celebrating the recor...   \n",
       "1  Prime Minister Narendra Modi has finally put h...   \n",
       "2  Hi guys, welcome to Rajshri Food. This is the ...   \n",
       "3  We're witnessing a major narrative shift when ...   \n",
       "4  Hello Hello beauty you got looking fabulous an...   \n",
       "\n",
       "                               key_phrases_desc_bert  \\\n",
       "0  monarchy ms peta party calling divorce credlin...   \n",
       "1  pakistan start counting pedal illegally occupi...   \n",
       "2  veg enchiladas recipe rajshri filling tbsp sur...   \n",
       "3  collagen http healthwithgary mask mandates pre...   \n",
       "4  watch eternals daughter valentina salma harris...   \n",
       "\n",
       "                         key_phrases_transcript_bert  \\\n",
       "0  maori party ideas haven cancelling queen quest...   \n",
       "1  soon capture kashmir gas pedal illegally china...   \n",
       "2  making bean enchiladas salt absolutely check b...   \n",
       "3  mandates end cnn yeah mean worried decrease ho...   \n",
       "4  young latina women talking superhero calling h...   \n",
       "\n",
       "                               key_phrases_desc_long  \\\n",
       "0  monarchy ms peta party calling divorce credlin...   \n",
       "1  pakistan start counting pedal illegally occupi...   \n",
       "2  veg enchiladas recipe rajshri filling tbsp sur...   \n",
       "3  collagen http healthwithgary mask mandates pre...   \n",
       "4  watch eternals daughter valentina salma harris...   \n",
       "\n",
       "                         key_phrases_transcript_long  \n",
       "0  maori party ideas haven cancelling queen quest...  \n",
       "1  soon capture kashmir gas pedal illegally china...  \n",
       "2  making bean enchiladas salt absolutely check b...  \n",
       "3  mandates end cnn yeah mean worried decrease ho...  \n",
       "4  young latina women talking superhero calling h...  "
      ]
     },
     "execution_count": 45,
     "metadata": {},
     "output_type": "execute_result"
    }
   ],
   "source": [
    "metadata.head()"
   ]
  },
  {
   "cell_type": "code",
   "execution_count": 34,
   "metadata": {},
   "outputs": [],
   "source": [
    "kw_model = KeyBERT()"
   ]
  },
  {
   "cell_type": "code",
   "execution_count": 5,
   "metadata": {},
   "outputs": [],
   "source": [
    "def preprocess(text=''):\n",
    "    if text != text:\n",
    "        return ''\n",
    "    new_text = []\n",
    "\n",
    "    for t in text.split(\" \"):\n",
    "        t = '@user' if t.startswith('@') and len(t) > 1 else t\n",
    "        t = 'http' if t.startswith('http') else t\n",
    "        new_text.append(t)\n",
    "    return \" \".join(new_text)\n",
    "\n",
    "def process_keyphrase_text(kw_model, text, max_length, key_phrase_count):\n",
    "    doc = ' '.join(text.split()[:max_length])\n",
    "    keywords = kw_model.extract_keywords(doc, top_n=key_phrase_count, use_mmr=True,\n",
    "                                            diversity=0.7, keyphrase_ngram_range=[1, 3])\n",
    "    doc = ' '.join([keyword[0] for keyword in keywords])\n",
    "    return doc"
   ]
  },
  {
   "cell_type": "code",
   "execution_count": null,
   "metadata": {},
   "outputs": [],
   "source": [
    "print(preprocess('SKy news'))\n",
    "process_keyphrase_text(kw_model, 'SKy news', 200, 50)\n"
   ]
  },
  {
   "cell_type": "code",
   "execution_count": null,
   "metadata": {},
   "outputs": [],
   "source": [
    "metadata['key_phrases_desc_bert'] = metadata['desc'].apply(lambda x: process_keyphrase_text(kw_model, preprocess(x), 200, 50))"
   ]
  },
  {
   "cell_type": "code",
   "execution_count": null,
   "metadata": {},
   "outputs": [],
   "source": [
    "metadata['key_phrases_transcript_bert'] = metadata['transcript'].apply(lambda x: process_keyphrase_text(kw_model, preprocess(x), 1000, 150))"
   ]
  },
  {
   "cell_type": "code",
   "execution_count": null,
   "metadata": {},
   "outputs": [],
   "source": [
    "metadata['key_phrases_desc_long'] = metadata['desc'].apply(lambda x: process_keyphrase_text(kw_model, preprocess(x), 300, 100))"
   ]
  },
  {
   "cell_type": "code",
   "execution_count": null,
   "metadata": {},
   "outputs": [],
   "source": [
    "metadata['key_phrases_transcript_long'] = metadata['transcript'].apply(lambda x: process_keyphrase_text(kw_model, preprocess(x), 2400, 400))"
   ]
  },
  {
   "cell_type": "code",
   "execution_count": 46,
   "metadata": {},
   "outputs": [],
   "source": [
    "metadata.to_csv('./data/extra_data_trans.csv')"
   ]
  },
  {
   "cell_type": "markdown",
   "metadata": {},
   "source": [
    "## Compute other comment metadata"
   ]
  },
  {
   "cell_type": "code",
   "execution_count": 12,
   "metadata": {},
   "outputs": [],
   "source": [
    "# TODO\n",
    "# filter top 1000 comments for all videos. Store the comment and url.\n",
    "# process the text, remove the links, mentions and add the emojis back\n",
    "# get the similarity score between the dataset comments & the other comments\n",
    "# Renormalize the score and filter to take the middle [0.2-0.8] comments. \n",
    "# Find the key phrases for these comments and store it "
   ]
  },
  {
   "cell_type": "code",
   "execution_count": 62,
   "metadata": {},
   "outputs": [],
   "source": [
    "with open('metadata/youtube_data.json') as f:\n",
    "    ytHateData = json.load(f)"
   ]
  },
  {
   "cell_type": "code",
   "execution_count": 63,
   "metadata": {},
   "outputs": [],
   "source": [
    "with open('metadata/non_hate_youtube_data.json') as f:\n",
    "    ytNonHateData = json.load(f)"
   ]
  },
  {
   "cell_type": "code",
   "execution_count": 64,
   "metadata": {},
   "outputs": [],
   "source": [
    "with open('metadata/bitchute_data.json') as f:\n",
    "    bitchuteData = json.load(f)"
   ]
  },
  {
   "cell_type": "code",
   "execution_count": 65,
   "metadata": {},
   "outputs": [],
   "source": [
    "comments = {}"
   ]
  },
  {
   "cell_type": "code",
   "execution_count": 66,
   "metadata": {},
   "outputs": [],
   "source": [
    "for data in ytHateData:\n",
    "    comments[data['url']] = []\n",
    "    heap = []\n",
    "    for comment in data['comments']:\n",
    "        if comment['top_comment']['totalReplyCount'] > 0:\n",
    "            comments[data['url']].append(comment['top_comment']['textOriginal'])\n",
    "        if len(heap) > 1000:\n",
    "            if heap[0][0] < comment['top_comment']['likeCount']:\n",
    "                heapq.heappushpop(heap, [comment['top_comment']['likeCount'], comment['top_comment']['textOriginal']])\n",
    "        else:\n",
    "            heapq.heappush(heap, [comment['top_comment']['likeCount'], comment['top_comment']['textOriginal']])\n",
    "    n = 1000 - len(comments[data['url']])\n",
    "    top_comments = heapq.nlargest(n, heap, key=lambda x: x[0])\n",
    "    for comment in top_comments:\n",
    "        comments[data['url']].append(comment[1])"
   ]
  },
  {
   "cell_type": "code",
   "execution_count": 67,
   "metadata": {},
   "outputs": [],
   "source": [
    "for data in ytNonHateData:\n",
    "    if data['url'] not in comments:\n",
    "        comments[data['url']] = []\n",
    "    else:\n",
    "        continue\n",
    "    heap = []\n",
    "    for comment in data['comments']:\n",
    "        if comment['top_comment']['totalReplyCount'] > 0:\n",
    "            comments[data['url']].append(comment['top_comment']['textOriginal'])\n",
    "        if len(heap) > 1000:\n",
    "            if heap[0][0] < comment['top_comment']['likeCount']:\n",
    "                heapq.heappushpop(heap, [comment['top_comment']['likeCount'], comment['top_comment']['textOriginal']])\n",
    "        else:\n",
    "            heapq.heappush(heap, [comment['top_comment']['likeCount'], comment['top_comment']['textOriginal']])\n",
    "    n = 1000 - len(comments[data['url']])\n",
    "    top_comments = heapq.nlargest(n, heap, key=lambda x: x[0])\n",
    "    for comment in top_comments:\n",
    "        comments[data['url']].append(comment[1])"
   ]
  },
  {
   "cell_type": "code",
   "execution_count": 68,
   "metadata": {},
   "outputs": [],
   "source": [
    "for data in bitchuteData:\n",
    "    comments[data['url']] = []\n",
    "    heap = []\n",
    "    for comment in data['comments']['values']:\n",
    "        if len(heap) > 1000:\n",
    "            if heap[0][0] < comment[10]:\n",
    "                heapq.heappushpop(heap, [comment[10], comment[4]])\n",
    "        else:\n",
    "            heapq.heappush(heap, [comment[10], comment[4]])\n",
    "    n = 1000 - len(comments[data['url']])\n",
    "    top_comments = heapq.nlargest(n, heap, key=lambda x: x[0])\n",
    "    for comment in top_comments:\n",
    "        comments[data['url']].append(comment[1])"
   ]
  },
  {
   "cell_type": "code",
   "execution_count": 69,
   "metadata": {},
   "outputs": [
    {
     "data": {
      "text/plain": [
       "['Show this to any BLM and they will make excuses and justify his actions.😂brain washed niggers',\n",
       " \"He's not JUST racist. They are satanists, stealing and eating our children. \\n \\n(EVIDENCE LINKS BELOW) PRAY!!!! #GODisFORus!! Our Corrupt Leaders are under judgement and are being removed. Ask Jesus what to do, and you will outsmart our enemies, just as President Trump has been doing for 4 years. Trump will have a second term. SEE the rally sizes via youtube videos; Trump has thousands and thousands of supporters at each and every rally, while Biden is hard pressed to gain a hundred people. In fact, his prior rallies were 19 people, and 12 people before that were half media. \\n \\nEVIDENCE OF CORRUPT DEMOCRAPS -- Sidney Powell-Weiner laptop-HRC server • 98,603 views -- https://www.youtube.com/watch?v=s2JZffZUGhg -- Mar 12, 2020\\n \\nDEMS DAMNING SATANIC EVIDENCE - WARNING: ACTUAL CRIME SCENE PHOTOS ON THIS PAGE -- DO NOT VIEW IN PRESENCE OF CHILDREN -- https://beforeitsnews.com/alternative/2020/08/pedogate-2020-massive-update-3729028.html\\n \\nSMART PEOPLE in Miami threatened to boycott the restaurant Kamala visited. -- https://twitchy.com/brads-313037/2020/09/16/miami-restaurant-unhappy-with-the-visit-made-by-kamala-harris-as-customers-threaten-to-boycott/?fbclid=IwAR2p-thVQOZMSYS2w_50Xetm8FtF8DuP-n2nv2uVIsz0e2Rtl9Q92Lt-wx4 -- 16SEP2020 \\n \\nWATCH THIS VIDEO that the Corrupt DEMS do not want the world to see, which explains why the Corrupt Ones are hellbent against Trump, in their attempt to avoid arrests... \\n \\nDonald J. Trump: The Long Road to the White House (1980 - 2017) \\n-- https://www.youtube.com/watch?v=305-erOr3jk - youtube.com -- and while you're there, watch a few of the many #WalkAway videos to find out why so many DEMS have left the party. It's of Biblical proportions! \\n \\nWATCH the 'longer version of the videos' from the CLIPS that DEMS / MSM report on the news - TO SEE DEM LIES, that even a child can twist the facts to blame another person. The TELL is when they pile on absurdities to cement their lie. \\n \\n#Trump2020 The Sequel: FINISH DRAINING THE CORRUPT SWAMP !!! 🇺🇸🌟💝🌟🇺🇸 #GODisFORus!! #JesusANSWERS\",\n",
       " 'this guy needs to be hung.he is a fricken crook. he is a puppet of the rich elites of the world. these elites are our enemies not china or russia etc. the gates, rothchilds, rockefellers, morgans of the world. we have to go after these evil people. this covid was no accident, wars are no accident. these evil bastards are responsible.',\n",
       " 'I didn’t know Biden was so racist, he definitely got my vote. ',\n",
       " 'That piece of shit just needs to croke! What a total piece of shit! I cannot believe that anyone would vote for this racist demon! And they call Trump racist!!!! I will go to war before this devil steps one foot back in the Whitehouse!',\n",
       " \"The sad part is that the left will still vote for this racist prick anyway, because they don't actually care about their own supposed principles; they care about NOTHING MORE than feeling good about themselves, like they're on the right side of history or some shit!\",\n",
       " 'I don’t know if they offered any non-racist arguments at the time, but on its face, I’d say that FORCED integration isn’t integration at all... its just forcing two very different communities together that may or may not want to associate with each other 🤷\\u200d♂️',\n",
       " \"This is when cnn wasn't owned by damned globalist Traitors! Why the hell wasn't this shown before the election???\",\n",
       " '\"racist prick\" as opposed to the racially tratorous politicians?',\n",
       " \"Whats really bullshit is you can't even find videos like this on YouTube or any of that bullshit so everyone can see the hypocrisy of everything their selling once and for all\",\n",
       " 'Biden seems filthy. Compared to him, Trump is an angel.',\n",
       " 'WTF I love Joe Biden now',\n",
       " \"What an interesting little film, wonder why the film isn't on YouTube as well?\\nYes in my dreams. We all know why it's not on ThemTube!\",\n",
       " 'Shit if this Joe Biden ran for POTUS the majority would vote for him. Its either he is a flip flopping snake, a puppet or a demented soul now, probably all three he hasnt spoken with the zeal shown here in decades!\\n',\n",
       " 'How do we get Trump to tweet this?',\n",
       " 'He was based literally call them niggers',\n",
       " '...proof positive that retarded slow Joe should be hung for high crimes along with his rapist, thieving son!',\n",
       " \"I agree that government should not force people to associate with groups they don't want to. This is my issue with bussing, allow integration to happen naturally remove the barriers and unfair laws but don't force it. \",\n",
       " 'Your a hero in my book! Fuck YouTube!! ',\n",
       " 'Creepy Joe is an unbelievable motherfucker.',\n",
       " 'Yes he is racist. The older he gets the harder it is for him to hide that fact.',\n",
       " 'Democrats are the real racists.',\n",
       " 'when will they open their eyes\\n',\n",
       " 'Who does a racist vote for now? Biden has the experience. ',\n",
       " 'This is going to be a crazy four years.',\n",
       " 'The \"Biden\" in the White House is an imposter.  Compare earlobes and chin of NEW Biden vs pictures of Biden over six months old.  Two different people.  Watched a video of \"Biden\" skipping two steps at a time to board a helicopter.  The old Biden would not be able to do that.  Compare at Bing images     https://binged.it/2YC8Zfn',\n",
       " \"Youtube deleted this video because they know it's the truth\",\n",
       " 'Fuck Jewtube indeed.',\n",
       " \"https://youtu.be/rFsq5dhyRt0  Tom Homan..The left planned the border crisis, it's 'by design' \",\n",
       " 'IF ONLY White Dems / leftists like him ( that are latent racists ) would drop their phony love for blacks, and join hands with Based White Racist groups, channel all their wealth and power ,to buy back all the media , and regain all of OUR Power !!!!',\n",
       " 'Burn in Hell Joe',\n",
       " \"IKR? That's some bullshit and the Jews fucking own YouTube, so it should change its name to Jewtube.\",\n",
       " 'Wow, this is the 2nd video of RACIST JOE BIDEN. This time he said the N word. How can anyone love such hate??? #MyHeartCRIES #FoolsForDivision \\nGOD is separating His people, choose a side wisely in this battle between GOOD vs EVIL. ',\n",
       " 'Exactly!!! But harris is worse! ',\n",
       " 'Biden might be 135 yrs old. ',\n",
       " 'Biden has been plagiarizing the words and probably articles of others for decades. May he get caught every time since his literally demented brain has trouble coming up with stuff.',\n",
       " 'If those crime bill that he passed was implemented as he envisioned, Hunter will be his first victim.\\n',\n",
       " \"Why couldn't we get this Joe Biden instead of the anti-White asshole we have now?\",\n",
       " \"Biden's Lies Matter. Buck Fiden.\",\n",
       " 'Based Joe Biden',\n",
       " 'Racist Joe, stole the American democracy and got 30,000 solders in Washington to protect him from the \"Bad people\". ',\n",
       " 'Some good footage of the original Joe',\n",
       " 'CNN 2020:Yay Biden hes a Superhero\\nBiden 2021: Im not a Socialist never was\\nCNN 2021: Biden is a horrible racist',\n",
       " \"Forcing ppl to cohabitate against their will is a violation of human rights, especially when one group commits upwards of 90% of all violent crime and sexual assault against the other. Ppl have the right to raise their families in peace in whatever environment they feel is best suited for themselves and their families. I think everyone who wants to intermingle should have an option to do so and those who don't should be left alone to live life as they see fit. No person has the right to dictate how another person will live their life and raise their children. Forced cohabitation is immoral and unnecessary, there simply isn't any justification for it at all.\",\n",
       " 'Joe \"the potato\" Biden and Kamaltoe Harris will at least be super easy to make fun of for 4years, should the fraud be allowed to stand ',\n",
       " 'I like this Joe Biden more than the current one.',\n",
       " 'They are all so cuked after niggers right now... Especially Biden... back then he was based I would say, but Soros needs niggers in the west more than anything... so they need to change their beliefs and genocide us with niggers. Too bad',\n",
       " \"Look at his ears before and after.\\nAnd his eye colour changed too!\\n\\nHe's clearly and a clone!\",\n",
       " 'wow, 30 years really makes a difference   :)\\n',\n",
       " \"What's the problem with busing? Can someone tell me? I hate biden but idk what the problem is with busing.\",\n",
       " 'Everyone please share this on Facebook. Help wake people up. I have posted it for my 600 friends.\\n  (😅 where are these 600 \"friends\" when I need help moving?)',\n",
       " \"You're not pro-Jim Crow? Very odd; our people must survive. \",\n",
       " \"Slow Joe can't call Trump racist if he is racist himself. \",\n",
       " \"Mainstream media doesn't want you knowing this\",\n",
       " 'https://www.bitchute.com/video/Q7LSQPTZNoU1/\\n\\xa0The Chinese Communist Party is the single largest body of animal penis eating,\\xa0 Godless,\\xa0 human organ thieves,\\xa0 and intellectual property stealing, counterfeiting people in human history. I am at war with the CCP and all who do business with them under the guise that they are just trying to make a living and feed their families.\\xa0 Burn in the hell you are creating for yourselves cause we are coming for you.Reply',\n",
       " 'I sincerely invite you to watch my covid documentary (the ONLY Documentary out there which disproves its EXISTENCE)\\n\\nhttps://www.bitchute.com/video/VJmvdgskiq1U/\\n\\nThe video surpassed 20k views on bitchute alone!\\n\\nORIGINAL CONTENT \\n\\nThank you 🙏',\n",
       " 'gtfo',\n",
       " 'funny i was looking for this on youtube 2 show my friend and it was no where to be found. thanks bitchute',\n",
       " 'What a bunch of fake ass people',\n",
       " 'Assassinating him will make him a hero, you fool!\\n',\n",
       " 'Because black children ruin good schools and are generally very loud, obnoxious, rude, disrespectful, aggressive, violent, lazy, stupid, and mean.',\n",
       " 'Beat it normie!',\n",
       " 'Hang on to your wallet.',\n",
       " \"Glad to see I'm not the only one that believes thAT!\",\n",
       " 'Fuck the liberals!',\n",
       " \"Joe Biden is not a racist. He is a stalwart  warrior and the POTUS. You will bend the knee to Captain O'Biden\",\n",
       " 'Or the reports of Election Fraud are correct in spite of the denials.',\n",
       " 'I bet that Bidens son is  dirtier  than Obama is',\n",
       " 'He may need to die before Hunter gets his. Papa protects!!!!!!',\n",
       " 'Great video! ',\n",
       " 'This motherfucker fucking cheated indeed.',\n",
       " \"She's still a bitch.\",\n",
       " 'Words are not hate.',\n",
       " 'https://youtu.be/Bk6KPhczPOw?t=1',\n",
       " 'You would be too if you were exposed to large numbers of blacks. That’s why Jim Crow was implemented in the first place. They behaved no differently during reconstruction than they do now. Jim Crow kept them in line.',\n",
       " 'Then they must go to an exclusive private school where their kids are in a sterilized environment. \\n',\n",
       " \"If California didn't have all those Dominion voting machines you, Kamal Aroush would not be in the Senate, Attorney General or anything else.  In Oakland California where you say you are from there is a public transit system called AC Transit and you got on the bus like everyone else.  Go back to Benghazi!\",\n",
       " 'To late for that.\\nLong time since when US went multicultural.\\nSo easily divided as a nation with hardly no effort.\\n',\n",
       " \"NY BLM leader vows street protests if 'old ways' of policing return https://youtu.be/Ctl9BxdQ8w4?t=2\",\n",
       " \"I bet he isn't.  Barry is smart.   That makes it even dirtier.  Hunter is a fumb duck, and is dirty because he just can't help it.\",\n",
       " 'You will not replace us.',\n",
       " 'not my problem ',\n",
       " \"Suck my dick Joe Biden! You're nothing but fake chickenshit! \",\n",
       " 'now hes attacking whites, i guess the plan is to just beat down the minority, is he making these laws for himself or for us, maybe the prisons were flooded so they could be privatized',\n",
       " \"https://www.bitchute.com/video/76EiBTjFkZeN/\\nDon't Make the Black Kids Angry \\nWhite Girl Bleed Alot \",\n",
       " 'The womans reaction at 10:26 is priceless.  🤣',\n",
       " \"biden must've had a stroke or cerebral hemorrhage sometime between all this footage and when he became barry's VP. Or maybe, the Deep State tortured / brainwashed him, and fucked his brain up so that he's like a zombified version of himself, a version that's 100% controllable.\",\n",
       " 'One thing I could do for grandpa here is own his momma for being a fucking child molesting, racist freakazoid. \\n\\nI could even make grandpa here my bitch any time seeing how blatantly stupid he is.',\n",
       " 'I hear ya and the Bidens can suck my dick anytime.',\n",
       " 'You sure she is worse? Or maybe her brain works better so she can do more.',\n",
       " 'that was his script the jews gave him in the 70s.to get their pedo shabbas goy in.now he did a switch cause his whoremaster told him so.because the end goal was always to kill off aryan people.']"
      ]
     },
     "execution_count": 69,
     "metadata": {},
     "output_type": "execute_result"
    }
   ],
   "source": [
    "comments['https://www.bitchute.com/video/DFlrLnZgwjaM/']"
   ]
  },
  {
   "cell_type": "code",
   "execution_count": 70,
   "metadata": {},
   "outputs": [],
   "source": [
    "with open('top_other_comments_all_data.json', 'w') as f:\n",
    "    json.dump(comments, f, indent=2)"
   ]
  },
  {
   "cell_type": "markdown",
   "metadata": {},
   "source": [
    "### Text processing, get score with comments in dataset"
   ]
  },
  {
   "cell_type": "code",
   "execution_count": 2,
   "metadata": {},
   "outputs": [],
   "source": [
    "with open('top_other_comments_all_data.json', 'r') as f:\n",
    "    comments = json.load(f)"
   ]
  },
  {
   "cell_type": "code",
   "execution_count": 9,
   "metadata": {},
   "outputs": [],
   "source": [
    "def process_text(text=''):\n",
    "    if text != text:\n",
    "        return ''\n",
    "    new_text = []\n",
    "\n",
    "    for t in text.split(\" \"):\n",
    "        t = '@user' if t.startswith('@') and len(t) > 1 else t\n",
    "        t = 'http' if t.startswith('http') else t\n",
    "        t = re.sub(r'http\\S+', '', t)\n",
    "        new_text.append(t)\n",
    "    new_text = \" \".join(new_text)\n",
    "    new_text = demoji.replace_with_desc(new_text, sep=' ')\n",
    "    return new_text"
   ]
  },
  {
   "cell_type": "code",
   "execution_count": 4,
   "metadata": {},
   "outputs": [
    {
     "data": {
      "text/plain": [
       "\" rolling on the floor laughing Real People don't need QUEENS or Kings.\""
      ]
     },
     "execution_count": 4,
     "metadata": {},
     "output_type": "execute_result"
    }
   ],
   "source": [
    "demoji.replace_with_desc(\"🤣Real People don't need QUEENS or Kings.\", sep=' ')"
   ]
  },
  {
   "cell_type": "code",
   "execution_count": 5,
   "metadata": {},
   "outputs": [
    {
     "ename": "KeyboardInterrupt",
     "evalue": "",
     "output_type": "error",
     "traceback": [
      "\u001b[0;31m---------------------------------------------------------------------------\u001b[0m",
      "\u001b[0;31mKeyboardInterrupt\u001b[0m                         Traceback (most recent call last)",
      "\u001b[0;32m/var/folders/63/8sk6p42d28b00trfq5r8lp0h0000gn/T/ipykernel_16251/3423540738.py\u001b[0m in \u001b[0;36m<module>\u001b[0;34m\u001b[0m\n\u001b[1;32m      1\u001b[0m \u001b[0;32mfor\u001b[0m \u001b[0murl\u001b[0m\u001b[0;34m,\u001b[0m \u001b[0mcomment_arr\u001b[0m \u001b[0;32min\u001b[0m \u001b[0mcomments\u001b[0m\u001b[0;34m.\u001b[0m\u001b[0mitems\u001b[0m\u001b[0;34m(\u001b[0m\u001b[0;34m)\u001b[0m\u001b[0;34m:\u001b[0m\u001b[0;34m\u001b[0m\u001b[0;34m\u001b[0m\u001b[0m\n\u001b[1;32m      2\u001b[0m     \u001b[0;32mfor\u001b[0m \u001b[0mi\u001b[0m \u001b[0;32min\u001b[0m \u001b[0mrange\u001b[0m\u001b[0;34m(\u001b[0m\u001b[0mlen\u001b[0m\u001b[0;34m(\u001b[0m\u001b[0mcomment_arr\u001b[0m\u001b[0;34m)\u001b[0m\u001b[0;34m)\u001b[0m\u001b[0;34m:\u001b[0m\u001b[0;34m\u001b[0m\u001b[0;34m\u001b[0m\u001b[0m\n\u001b[0;32m----> 3\u001b[0;31m         \u001b[0mcomment_arr\u001b[0m\u001b[0;34m[\u001b[0m\u001b[0mi\u001b[0m\u001b[0;34m]\u001b[0m \u001b[0;34m=\u001b[0m \u001b[0mprocess_text\u001b[0m\u001b[0;34m(\u001b[0m\u001b[0mcomment_arr\u001b[0m\u001b[0;34m[\u001b[0m\u001b[0mi\u001b[0m\u001b[0;34m]\u001b[0m\u001b[0;34m)\u001b[0m\u001b[0;34m\u001b[0m\u001b[0;34m\u001b[0m\u001b[0m\n\u001b[0m",
      "\u001b[0;32m/var/folders/63/8sk6p42d28b00trfq5r8lp0h0000gn/T/ipykernel_16251/1142575930.py\u001b[0m in \u001b[0;36mprocess_text\u001b[0;34m(text)\u001b[0m\n\u001b[1;32m     10\u001b[0m         \u001b[0mnew_text\u001b[0m\u001b[0;34m.\u001b[0m\u001b[0mappend\u001b[0m\u001b[0;34m(\u001b[0m\u001b[0mt\u001b[0m\u001b[0;34m)\u001b[0m\u001b[0;34m\u001b[0m\u001b[0;34m\u001b[0m\u001b[0m\n\u001b[1;32m     11\u001b[0m     \u001b[0mnew_text\u001b[0m \u001b[0;34m=\u001b[0m \u001b[0;34m\" \"\u001b[0m\u001b[0;34m.\u001b[0m\u001b[0mjoin\u001b[0m\u001b[0;34m(\u001b[0m\u001b[0mnew_text\u001b[0m\u001b[0;34m)\u001b[0m\u001b[0;34m\u001b[0m\u001b[0;34m\u001b[0m\u001b[0m\n\u001b[0;32m---> 12\u001b[0;31m     \u001b[0mnew_text\u001b[0m \u001b[0;34m=\u001b[0m \u001b[0mdemoji\u001b[0m\u001b[0;34m.\u001b[0m\u001b[0mreplace_with_desc\u001b[0m\u001b[0;34m(\u001b[0m\u001b[0mnew_text\u001b[0m\u001b[0;34m,\u001b[0m \u001b[0msep\u001b[0m\u001b[0;34m=\u001b[0m\u001b[0;34m' '\u001b[0m\u001b[0;34m)\u001b[0m\u001b[0;34m\u001b[0m\u001b[0;34m\u001b[0m\u001b[0m\n\u001b[0m\u001b[1;32m     13\u001b[0m     \u001b[0;32mreturn\u001b[0m \u001b[0mnew_text\u001b[0m\u001b[0;34m\u001b[0m\u001b[0;34m\u001b[0m\u001b[0m\n",
      "\u001b[0;32m~/virtualenv/IS/lib/python3.8/site-packages/demoji/__init__.py\u001b[0m in \u001b[0;36mwrapper\u001b[0;34m(*args, **kwargs)\u001b[0m\n\u001b[1;32m     82\u001b[0m     \u001b[0;32mdef\u001b[0m \u001b[0mwrapper\u001b[0m\u001b[0;34m(\u001b[0m\u001b[0;34m*\u001b[0m\u001b[0margs\u001b[0m\u001b[0;34m,\u001b[0m \u001b[0;34m**\u001b[0m\u001b[0mkwargs\u001b[0m\u001b[0;34m)\u001b[0m\u001b[0;34m:\u001b[0m\u001b[0;34m\u001b[0m\u001b[0;34m\u001b[0m\u001b[0m\n\u001b[1;32m     83\u001b[0m         \u001b[0mset_emoji_pattern\u001b[0m\u001b[0;34m(\u001b[0m\u001b[0;34m)\u001b[0m\u001b[0;34m\u001b[0m\u001b[0;34m\u001b[0m\u001b[0m\n\u001b[0;32m---> 84\u001b[0;31m         \u001b[0;32mreturn\u001b[0m \u001b[0mfunc\u001b[0m\u001b[0;34m(\u001b[0m\u001b[0;34m*\u001b[0m\u001b[0margs\u001b[0m\u001b[0;34m,\u001b[0m \u001b[0;34m**\u001b[0m\u001b[0mkwargs\u001b[0m\u001b[0;34m)\u001b[0m\u001b[0;34m\u001b[0m\u001b[0;34m\u001b[0m\u001b[0m\n\u001b[0m\u001b[1;32m     85\u001b[0m \u001b[0;34m\u001b[0m\u001b[0m\n\u001b[1;32m     86\u001b[0m     \u001b[0;32mreturn\u001b[0m \u001b[0mwrapper\u001b[0m\u001b[0;34m\u001b[0m\u001b[0;34m\u001b[0m\u001b[0m\n",
      "\u001b[0;32m~/virtualenv/IS/lib/python3.8/site-packages/demoji/__init__.py\u001b[0m in \u001b[0;36mreplace_with_desc\u001b[0;34m(string, sep)\u001b[0m\n\u001b[1;32m    146\u001b[0m     \"\"\"\n\u001b[1;32m    147\u001b[0m \u001b[0;34m\u001b[0m\u001b[0m\n\u001b[0;32m--> 148\u001b[0;31m     \u001b[0mfound\u001b[0m \u001b[0;34m=\u001b[0m \u001b[0mfindall\u001b[0m\u001b[0;34m(\u001b[0m\u001b[0mstring\u001b[0m\u001b[0;34m)\u001b[0m\u001b[0;34m\u001b[0m\u001b[0;34m\u001b[0m\u001b[0m\n\u001b[0m\u001b[1;32m    149\u001b[0m     \u001b[0mresult\u001b[0m \u001b[0;34m=\u001b[0m \u001b[0mstring\u001b[0m\u001b[0;34m\u001b[0m\u001b[0;34m\u001b[0m\u001b[0m\n\u001b[1;32m    150\u001b[0m     \u001b[0;32mfor\u001b[0m \u001b[0memoji\u001b[0m\u001b[0;34m,\u001b[0m \u001b[0mdesc\u001b[0m \u001b[0;32min\u001b[0m \u001b[0mfound\u001b[0m\u001b[0;34m.\u001b[0m\u001b[0mitems\u001b[0m\u001b[0;34m(\u001b[0m\u001b[0;34m)\u001b[0m\u001b[0;34m:\u001b[0m\u001b[0;34m\u001b[0m\u001b[0;34m\u001b[0m\u001b[0m\n",
      "\u001b[0;32m~/virtualenv/IS/lib/python3.8/site-packages/demoji/__init__.py\u001b[0m in \u001b[0;36mwrapper\u001b[0;34m(*args, **kwargs)\u001b[0m\n\u001b[1;32m     82\u001b[0m     \u001b[0;32mdef\u001b[0m \u001b[0mwrapper\u001b[0m\u001b[0;34m(\u001b[0m\u001b[0;34m*\u001b[0m\u001b[0margs\u001b[0m\u001b[0;34m,\u001b[0m \u001b[0;34m**\u001b[0m\u001b[0mkwargs\u001b[0m\u001b[0;34m)\u001b[0m\u001b[0;34m:\u001b[0m\u001b[0;34m\u001b[0m\u001b[0;34m\u001b[0m\u001b[0m\n\u001b[1;32m     83\u001b[0m         \u001b[0mset_emoji_pattern\u001b[0m\u001b[0;34m(\u001b[0m\u001b[0;34m)\u001b[0m\u001b[0;34m\u001b[0m\u001b[0;34m\u001b[0m\u001b[0m\n\u001b[0;32m---> 84\u001b[0;31m         \u001b[0;32mreturn\u001b[0m \u001b[0mfunc\u001b[0m\u001b[0;34m(\u001b[0m\u001b[0;34m*\u001b[0m\u001b[0margs\u001b[0m\u001b[0;34m,\u001b[0m \u001b[0;34m**\u001b[0m\u001b[0mkwargs\u001b[0m\u001b[0;34m)\u001b[0m\u001b[0;34m\u001b[0m\u001b[0;34m\u001b[0m\u001b[0m\n\u001b[0m\u001b[1;32m     85\u001b[0m \u001b[0;34m\u001b[0m\u001b[0m\n\u001b[1;32m     86\u001b[0m     \u001b[0;32mreturn\u001b[0m \u001b[0mwrapper\u001b[0m\u001b[0;34m\u001b[0m\u001b[0;34m\u001b[0m\u001b[0m\n",
      "\u001b[0;32m~/virtualenv/IS/lib/python3.8/site-packages/demoji/__init__.py\u001b[0m in \u001b[0;36mfindall\u001b[0;34m(string)\u001b[0m\n\u001b[1;32m     97\u001b[0m     \"\"\"\n\u001b[1;32m     98\u001b[0m \u001b[0;34m\u001b[0m\u001b[0m\n\u001b[0;32m---> 99\u001b[0;31m     \u001b[0;32mreturn\u001b[0m \u001b[0;34m{\u001b[0m\u001b[0mf\u001b[0m\u001b[0;34m:\u001b[0m \u001b[0m_CODE_TO_DESC\u001b[0m\u001b[0;34m[\u001b[0m\u001b[0mf\u001b[0m\u001b[0;34m]\u001b[0m \u001b[0;32mfor\u001b[0m \u001b[0mf\u001b[0m \u001b[0;32min\u001b[0m \u001b[0mset\u001b[0m\u001b[0;34m(\u001b[0m\u001b[0m_EMOJI_PAT\u001b[0m\u001b[0;34m.\u001b[0m\u001b[0mfindall\u001b[0m\u001b[0;34m(\u001b[0m\u001b[0mstring\u001b[0m\u001b[0;34m)\u001b[0m\u001b[0;34m)\u001b[0m\u001b[0;34m}\u001b[0m\u001b[0;34m\u001b[0m\u001b[0;34m\u001b[0m\u001b[0m\n\u001b[0m\u001b[1;32m    100\u001b[0m \u001b[0;34m\u001b[0m\u001b[0m\n\u001b[1;32m    101\u001b[0m \u001b[0;34m\u001b[0m\u001b[0m\n",
      "\u001b[0;31mKeyboardInterrupt\u001b[0m: "
     ]
    }
   ],
   "source": [
    "for url, comment_arr in comments.items():\n",
    "    for i in range(len(comment_arr)):\n",
    "        comment_arr[i] = process_text(comment_arr[i])"
   ]
  },
  {
   "cell_type": "code",
   "execution_count": 75,
   "metadata": {},
   "outputs": [],
   "source": [
    "for url, comment_arr in comments.items():\n",
    "    for i in range(len(comment_arr)):\n",
    "        comment_arr[i] = re.sub('\\\\s+', ' ', comment_arr[i])"
   ]
  },
  {
   "cell_type": "code",
   "execution_count": 76,
   "metadata": {},
   "outputs": [],
   "source": [
    "with open('top_other_comments_all_data.json', 'w') as f:\n",
    "    json.dump(comments, f, indent=2)"
   ]
  },
  {
   "cell_type": "code",
   "execution_count": 77,
   "metadata": {},
   "outputs": [
    {
     "data": {
      "text/plain": [
       "'Did she just say that a Republic, the USA, isn’t free? It was so intelligent till right at the end.'"
      ]
     },
     "execution_count": 77,
     "metadata": {},
     "output_type": "execute_result"
    }
   ],
   "source": [
    "s = \"Did she just say that a Republic, the USA, isn\\\\u2019t free? It was so intelligent till right at the end.\"\n",
    "s.encode('ascii').decode('unicode-escape').encode('utf-16', 'surrogatepass').decode('utf-16')"
   ]
  },
  {
   "cell_type": "code",
   "execution_count": 78,
   "metadata": {},
   "outputs": [
    {
     "data": {
      "text/plain": [
       "'The queen of England hasn’t been paying her rent to the Maori people since 1840 she owns the Maori people $8 trillion dollars Plus GST and interest'"
      ]
     },
     "execution_count": 78,
     "metadata": {},
     "output_type": "execute_result"
    }
   ],
   "source": [
    "comments['https://www.youtube.com/watch?v=C0MjY_tpG-I'][2]"
   ]
  },
  {
   "cell_type": "code",
   "execution_count": 79,
   "metadata": {},
   "outputs": [],
   "source": [
    "lens = []\n",
    "sum = 0\n",
    "for url, arr in comments.items():\n",
    "    lens.append(len(arr))\n",
    "    sum+=len(arr)"
   ]
  },
  {
   "cell_type": "code",
   "execution_count": 80,
   "metadata": {},
   "outputs": [
    {
     "data": {
      "text/plain": [
       "431"
      ]
     },
     "execution_count": 80,
     "metadata": {},
     "output_type": "execute_result"
    }
   ],
   "source": [
    "len(lens)"
   ]
  },
  {
   "cell_type": "markdown",
   "metadata": {},
   "source": [
    "## Handle bleurt scores"
   ]
  },
  {
   "cell_type": "code",
   "execution_count": 7,
   "metadata": {},
   "outputs": [],
   "source": [
    "with open('bleurt_results.json', 'r') as f:\n",
    "    data = json.load(f)"
   ]
  },
  {
   "cell_type": "code",
   "execution_count": 8,
   "metadata": {},
   "outputs": [],
   "source": [
    "for i, comment_data in enumerate(data):\n",
    "    comment_data['scores'] = sorted(comment_data['scores'], key=lambda x: x[1], reverse=True)"
   ]
  },
  {
   "cell_type": "code",
   "execution_count": 9,
   "metadata": {},
   "outputs": [],
   "source": [
    "num_comments_per_url = {}\n",
    "for i, comment_data in enumerate(data):\n",
    "    if comment_data['url'] not in num_comments_per_url:\n",
    "        num_comments_per_url[comment_data['url']] = 1\n",
    "    else:\n",
    "       num_comments_per_url[comment_data['url']] += 1 "
   ]
  },
  {
   "cell_type": "code",
   "execution_count": 10,
   "metadata": {},
   "outputs": [],
   "source": [
    "import numpy as np\n",
    "  \n",
    "# explicit function to normalize array\n",
    "def normalize(arr, t_min, t_max):\n",
    "    norm_arr = []\n",
    "    diff = t_max - t_min\n",
    "    diff_arr = max(arr) - min(arr)\n",
    "    for i in arr:\n",
    "        temp = (((i - min(arr))*diff)/diff_arr) + t_min\n",
    "        norm_arr.append(temp)\n",
    "    return norm_arr\n",
    "  \n",
    "range_to_normalize = (0, 1)\n"
   ]
  },
  {
   "cell_type": "code",
   "execution_count": 15,
   "metadata": {},
   "outputs": [],
   "source": [
    "\n",
    "for i, comment_data in enumerate(data):\n",
    "    arr = []\n",
    "    for comment, score in comment_data['scores']:\n",
    "        arr.append(score)\n",
    "\n",
    "    normalized_array_1d = normalize(\n",
    "        arr, range_to_normalize[0], \n",
    "    range_to_normalize[1])\n",
    "    for i, comment_score_pair in enumerate(comment_data['scores']):\n",
    "        comment_data['scores'][i][1] = normalized_array_1d[i]\n"
   ]
  },
  {
   "cell_type": "code",
   "execution_count": 45,
   "metadata": {},
   "outputs": [
    {
     "data": {
      "text/plain": [
       "('Me: sneeze* Periods: ORAORAORAORA',\n",
       " [['A period is pretty much just our uterus punishing us for not getting pregnant. *\"You had ONE job!\"*',\n",
       "   0.1543544977903366],\n",
       "  [\"I remember telling my boyfriend I was on my period, he asked me how I know I'm on my period every month. unamused face Edit: He's an ex now\",\n",
       "   0.1539486050605774],\n",
       "  ['Bruh i have my period rrom The mormintele and that jeans that im pregnant? face with tears of joy I’m just 9 years old I will be 10 in 2 months',\n",
       "   0.15297424793243408],\n",
       "  ['People with periods not just girls just saying', 0.1523372083902359],\n",
       "  [\"I'm 11, and I think I'm on my period.. I was shocked when I found out\",\n",
       "   0.15216313302516937],\n",
       "  ['Why do humans have periods more often than other mammals?',\n",
       "   0.15187081694602966],\n",
       "  ['Yep. No babies for me!', 0.15180999040603638],\n",
       "  [\"Wait- My dog bleeds everynow and then down there. So you're telling me my female dog doesn't have a period?\",\n",
       "   0.1518002450466156],\n",
       "  ['I hate my life I wanna be a male', 0.15177056193351746],\n",
       "  ['So you’re telling me my body want a baby ever since I was just NINE YEARS OLD?',\n",
       "   0.15170113742351532],\n",
       "  [\"Yes this is why girls are stronger than boys because boys can't stand periods pain. But girls bear the pain and work the same time like my mother. I am a 12 years old girl and I started my periods yesterday this is my 2nd day and it was paining a few seconds ago too much pain can't bear it. If girls are stronger than boys is true then like over here backhand index pointing down backhand index pointing down backhand index pointing down backhand index pointing down \",\n",
       "   0.15169081091880798],\n",
       "  [\"Hey I feel sorry ya'll, I'm a guy who studies to be a doctor and I knows things, well the fact is we boys have issues too. We can't detect half the color you can. Also girls can sence twice the more smell than boys. But we have an advantage though, we can see 2x more brighter in dark. I mean we have twice the rod cells and I basically can see everything if there's a tiny source of light, like from the moon. Also we are healthier. But you sometimes we also wish that we were like you, there's a lots of pressure on us and we live a lot shorter than you will. The society Dislikes us, you have many rights and all and we barely have any. Also after puberty the throat will became big and it's like having a cough throughout our entire life, also our thing can get inflated at random times so it's always risky to be out there or we'll be exposed. We can even lactate, the society won't here us or our pain, he have to hide somewhere and cry there making sure nobody notices us. the conclusion is everyone is equal and every person have goods and bads. Still wanna thank ya'll for suffering all these\",\n",
       "   0.15115314722061157],\n",
       "  ['Woah woah woah, have we forgotten that female dogs also have periods?',\n",
       "   0.15084019303321838],\n",
       "  ['When you named all animals with periods you didn’t mention dogs!?',\n",
       "   0.15047968924045563],\n",
       "  ['I’m on my period rn and I’m about to go nuts I CANT STAND IT ( it’s not my first time) I can’t do this anymore loudly crying face loudly crying face loudly crying face I don’t like like feeling of it',\n",
       "   0.15020401775836945],\n",
       "  [\"Dog don't menstruate? My dog did blood regularly, that's how I learnt what periods was\",\n",
       "   0.15020033717155457],\n",
       "  ['Uterus plans for baby Me: WHY TF WAS MY UTERUS AT AGE 11',\n",
       "   0.14987953007221222],\n",
       "  ['Omg I just got mine flushed face *And it really hurts* drop of blood pensive face ',\n",
       "   0.14941361546516418],\n",
       "  [\"guys are so lucky because they don't have periods if they don't periods then girls shouldn't hzve it too\",\n",
       "   0.14894501864910126],\n",
       "  ['When I started my period I look down in the toilet and I said-“Who put ketchup in the toilet”',\n",
       "   0.14875631034374237],\n",
       "  [\"I wonder why so few creatures (including humans) get periods... Why don't more get them? thinking face \",\n",
       "   0.14866238832473755],\n",
       "  ['To all the lovely girls... Who face periods, U have lots of lots of respect and love from our side...... heart suit heart suit heart suit -On behalf of all men hugging face ',\n",
       "   0.1483783721923828],\n",
       "  ['But if i google Dogs and so on do have a period to. why ?',\n",
       "   0.1483496129512787],\n",
       "  [\"I thought women had periods to make men's lives miserable!!?\",\n",
       "   0.1478559970855713],\n",
       "  ['Dogs menstruate too!', 0.14762213826179504],\n",
       "  ['YeP bOys bE luCky', 0.14708849787712097],\n",
       "  ['Nobody: Literally no-one : Not even god : Pads when your opening one in a bathroom : CRRRRKKKSSKKKHHHSSSK',\n",
       "   0.14694197475910187],\n",
       "  ['fun fact: boys have periods too also when women have menopause men have same thing i dont know what is called but any way what i mean is that we both have chromosome BIG X so thx to it was have some common',\n",
       "   0.14642322063446045],\n",
       "  ['Wait why is my pee red?', 0.14566369354724884],\n",
       "  ['Transwoman HOW you like THAT BOYS? face with tears of joy face with tears of joy clapping hands: dark skin tone clapping hands: dark skin tone clapping hands: dark skin tone ',\n",
       "   0.14551801979541779],\n",
       "  ['I hate the cramps, the periods, and the pain I go through....... persevering face loudly crying face loudly crying face ',\n",
       "   0.14550626277923584],\n",
       "  ['i cant believe this bigotry! men can periods too! i demand to have a talk with whoever is in charge!',\n",
       "   0.14531639218330383],\n",
       "  ['How do women know when they are on their period?', 0.14525951445102692],\n",
       "  ['Idc if i will get period if I’m becoming trans flexed biceps ',\n",
       "   0.14465481042861938],\n",
       "  [\"Simple: Uterus wants baby.we don't have baby. Uterus angry\",\n",
       "   0.14464233815670013],\n",
       "  ['I got my period rn at this very second and now this is recommended to me. Tf loudly crying face ',\n",
       "   0.14460435509681702],\n",
       "  ['me being a twelve year old girl trying to search up why i have periods and seeing this, makes me never want kids :/',\n",
       "   0.14389558136463165],\n",
       "  ['Dogs also menstruate', 0.14364713430404663],\n",
       "  ['Dogs also menstruate', 0.14364713430404663],\n",
       "  ['Dogs also menstruate', 0.14364713430404663],\n",
       "  ['I dunno why woman take pills so they dunt have a period, they need it.',\n",
       "   0.1432606428861618],\n",
       "  ['ooooh, to weed out the bad ones... Now if only we women had a way to weed out the terrible men and find a suitable baby-daddy. lol hahahahahaha',\n",
       "   0.14265304803848267],\n",
       "  ['Dogs menstruate... and chicken do too. Fun fact: Eggs are their Menstruation. egg woman shrugging: light skin tone ',\n",
       "   0.1423240602016449],\n",
       "  [\"I'm scared I'm 12 and I just got my period pensive face confounded face \",\n",
       "   0.14228707551956177],\n",
       "  ['Please update your language. Not all who have a period are women. Thank you. red heart ',\n",
       "   0.1420564502477646],\n",
       "  ['i’m happy about my period because i got it so late and felt like a boy and when i finally got it I WAS SO GRATEFUL THAT I WAS NORMAL!!!',\n",
       "   0.14189137518405914],\n",
       "  ['My dog does it too', 0.14174631237983704],\n",
       "  ['no. once i get mine ima kill myself', 0.14161601662635803],\n",
       "  ['A while ago I had this weird pinkish bleeding and at first I thought it was my period but it wasn’t. I’m 15 so I’ve had my period before and I knew I was getting it soon so that’s what I thought at first but then I realized it was more pink and seemed weird. Then it stopped after like a few minutes. No pain or anything like normal for me. Then the next week or so I actually got my period. Do you know what this means? I tried googling it and couldn’t find anything',\n",
       "   0.1415628343820572],\n",
       "  ['The one thing I hate about periods is having cramps! This makes me wanna have my uterus removed! confounded face ',\n",
       "   0.14108222723007202]])"
      ]
     },
     "execution_count": 45,
     "metadata": {},
     "output_type": "execute_result"
    }
   ],
   "source": [
    "data[15]['comment'], data[15]['scores'][300:350]"
   ]
  },
  {
   "cell_type": "code",
   "execution_count": 46,
   "metadata": {},
   "outputs": [],
   "source": [
    "data_to_store = []\n",
    "for i, comment_data in enumerate(data):\n",
    "    one_data_to_store = {}\n",
    "    one_data_to_store['url'] = comment_data['url']\n",
    "    one_data_to_store['comment'] = comment_data['comment']\n",
    "    one_data_to_store['other_comments'] = set()\n",
    "    for comment, score in comment_data['scores'][num_comments_per_url[comment_data['url']]:]:\n",
    "        if score > 0.15:\n",
    "            one_data_to_store['other_comments'].add(comment)\n",
    "    one_data_to_store['other_comments'] = list(one_data_to_store['other_comments'])\n",
    "    data_to_store.append(one_data_to_store)"
   ]
  },
  {
   "cell_type": "code",
   "execution_count": 47,
   "metadata": {},
   "outputs": [],
   "source": [
    "with open('other_comments_metadata.json', 'w') as f:\n",
    "    json.dump(data_to_store, f, indent=2)"
   ]
  },
  {
   "cell_type": "code",
   "execution_count": 1,
   "metadata": {},
   "outputs": [],
   "source": [
    "from keybert import KeyBERT\n",
    "import json"
   ]
  },
  {
   "cell_type": "code",
   "execution_count": 2,
   "metadata": {},
   "outputs": [],
   "source": [
    "with open('other_comments_metadata.json', 'r') as f:\n",
    "    metadata_other_comments = json.load(f)"
   ]
  },
  {
   "cell_type": "code",
   "execution_count": 3,
   "metadata": {},
   "outputs": [],
   "source": [
    "kw_model = KeyBERT()"
   ]
  },
  {
   "cell_type": "code",
   "execution_count": 13,
   "metadata": {},
   "outputs": [],
   "source": [
    "for i, comment_data in enumerate(metadata_other_comments):\n",
    "    metadata_other_comments[i]['combined_text'] = ' '.join(comment_data['other_comments'])\n",
    "    del metadata_other_comments[i]['other_comments']\n",
    "    comment_data['key_phrases_other_comments'] = process_keyphrase_text(kw_model, preprocess(text), 2400, 400)"
   ]
  },
  {
   "cell_type": "markdown",
   "metadata": {},
   "source": [
    "Last clean up"
   ]
  },
  {
   "cell_type": "code",
   "execution_count": 85,
   "metadata": {},
   "outputs": [],
   "source": [
    "with open('keyphrases_other_comments.json', 'r') as f:\n",
    "    data = json.load(f)"
   ]
  },
  {
   "cell_type": "code",
   "execution_count": 86,
   "metadata": {},
   "outputs": [],
   "source": [
    "for i, comment_data in enumerate(data):\n",
    "    del data[i]['combined_text']"
   ]
  },
  {
   "cell_type": "code",
   "execution_count": 87,
   "metadata": {},
   "outputs": [],
   "source": [
    "with open('keyphrases_other_comments.json', 'w') as f:\n",
    "    json.dump(data, f, indent=2)"
   ]
  },
  {
   "cell_type": "code",
   "execution_count": 88,
   "metadata": {},
   "outputs": [],
   "source": [
    "csv_to_store = {\"url\": [], \"comment\": [], \"key_phrases_other_comments\": []}\n",
    "for i, comment_data in enumerate(data):\n",
    "    csv_to_store['url'].append(comment_data['url'])\n",
    "    csv_to_store['comment'].append(comment_data['comment'])\n",
    "    csv_to_store['key_phrases_other_comments'].append(comment_data['key_phrases_other_comments'])"
   ]
  },
  {
   "cell_type": "code",
   "execution_count": 89,
   "metadata": {},
   "outputs": [],
   "source": [
    "import pandas as pd\n",
    "\n",
    "df = pd.DataFrame(csv_to_store)"
   ]
  },
  {
   "cell_type": "code",
   "execution_count": 90,
   "metadata": {},
   "outputs": [
    {
     "data": {
      "text/html": [
       "<div>\n",
       "<style scoped>\n",
       "    .dataframe tbody tr th:only-of-type {\n",
       "        vertical-align: middle;\n",
       "    }\n",
       "\n",
       "    .dataframe tbody tr th {\n",
       "        vertical-align: top;\n",
       "    }\n",
       "\n",
       "    .dataframe thead th {\n",
       "        text-align: right;\n",
       "    }\n",
       "</style>\n",
       "<table border=\"1\" class=\"dataframe\">\n",
       "  <thead>\n",
       "    <tr style=\"text-align: right;\">\n",
       "      <th></th>\n",
       "      <th>url</th>\n",
       "      <th>comment</th>\n",
       "      <th>key_phrases_other_comments</th>\n",
       "    </tr>\n",
       "  </thead>\n",
       "  <tbody>\n",
       "    <tr>\n",
       "      <th>0</th>\n",
       "      <td>https://www.youtube.com/watch?v=BhSucJ1KDcU</td>\n",
       "      <td>Un sorry I can’t unsee this. mindless pretenders.</td>\n",
       "      <td>instead kim beautiful covert promotions fail r...</td>\n",
       "    </tr>\n",
       "    <tr>\n",
       "      <th>1</th>\n",
       "      <td>https://www.youtube.com/watch?v=BhSucJ1KDcU</td>\n",
       "      <td>i'm sorry but i can't see this</td>\n",
       "      <td>vogue empowerment kim realistic inclusivity sa...</td>\n",
       "    </tr>\n",
       "    <tr>\n",
       "      <th>2</th>\n",
       "      <td>https://www.youtube.com/watch?v=BhSucJ1KDcU</td>\n",
       "      <td>i'm sorry i can't see</td>\n",
       "      <td>beauty standards celebrities great video sayin...</td>\n",
       "    </tr>\n",
       "    <tr>\n",
       "      <th>3</th>\n",
       "      <td>https://www.youtube.com/watch?v=BhSucJ1KDcU</td>\n",
       "      <td>i'm sorry i can't see it</td>\n",
       "      <td>kim video body generations think ironic heart ...</td>\n",
       "    </tr>\n",
       "    <tr>\n",
       "      <th>4</th>\n",
       "      <td>https://www.youtube.com/watch?v=BhSucJ1KDcU</td>\n",
       "      <td>i'm sorry i can't see this</td>\n",
       "      <td>kim video body especially younger generations ...</td>\n",
       "    </tr>\n",
       "  </tbody>\n",
       "</table>\n",
       "</div>"
      ],
      "text/plain": [
       "                                           url  \\\n",
       "0  https://www.youtube.com/watch?v=BhSucJ1KDcU   \n",
       "1  https://www.youtube.com/watch?v=BhSucJ1KDcU   \n",
       "2  https://www.youtube.com/watch?v=BhSucJ1KDcU   \n",
       "3  https://www.youtube.com/watch?v=BhSucJ1KDcU   \n",
       "4  https://www.youtube.com/watch?v=BhSucJ1KDcU   \n",
       "\n",
       "                                             comment  \\\n",
       "0  Un sorry I can’t unsee this. mindless pretenders.   \n",
       "1                     i'm sorry but i can't see this   \n",
       "2                              i'm sorry i can't see   \n",
       "3                           i'm sorry i can't see it   \n",
       "4                         i'm sorry i can't see this   \n",
       "\n",
       "                          key_phrases_other_comments  \n",
       "0  instead kim beautiful covert promotions fail r...  \n",
       "1  vogue empowerment kim realistic inclusivity sa...  \n",
       "2  beauty standards celebrities great video sayin...  \n",
       "3  kim video body generations think ironic heart ...  \n",
       "4  kim video body especially younger generations ...  "
      ]
     },
     "execution_count": 90,
     "metadata": {},
     "output_type": "execute_result"
    }
   ],
   "source": [
    "df.head()"
   ]
  },
  {
   "cell_type": "code",
   "execution_count": 91,
   "metadata": {},
   "outputs": [],
   "source": [
    "df.to_csv('data/extra_data_other_comments.csv', index=False)"
   ]
  },
  {
   "cell_type": "markdown",
   "metadata": {},
   "source": [
    "## Checking which comments are being incorrectly classified"
   ]
  },
  {
   "cell_type": "code",
   "execution_count": 2,
   "metadata": {},
   "outputs": [],
   "source": [
    "labels = np.load('./npy_files/test_labels_ethereal-blaze-26.npy')\n",
    "preds = np.load('./npy_files/test_preds_ethereal-blaze-26.npy')"
   ]
  },
  {
   "cell_type": "code",
   "execution_count": 3,
   "metadata": {},
   "outputs": [],
   "source": [
    "comments = pd.read_csv('data/with_aug/test.csv')"
   ]
  },
  {
   "cell_type": "code",
   "execution_count": 4,
   "metadata": {},
   "outputs": [],
   "source": [
    "fail_idx = np.where(np.not_equal(preds, labels))[0]"
   ]
  },
  {
   "cell_type": "code",
   "execution_count": 5,
   "metadata": {},
   "outputs": [],
   "source": [
    "failed_preds = comments.loc[fail_idx]"
   ]
  },
  {
   "cell_type": "code",
   "execution_count": 6,
   "metadata": {},
   "outputs": [],
   "source": [
    "failed_preds.to_csv('model_failed_results.csv')"
   ]
  },
  {
   "cell_type": "markdown",
   "metadata": {},
   "source": [
    "## Checking training data for nan"
   ]
  },
  {
   "cell_type": "code",
   "execution_count": 3,
   "metadata": {},
   "outputs": [],
   "source": [
    "metadata = pd.read_csv('data/extra_data_other_comments.csv')"
   ]
  },
  {
   "cell_type": "code",
   "execution_count": 4,
   "metadata": {},
   "outputs": [],
   "source": [
    "metadata = metadata.replace(np.nan, '', regex=True)"
   ]
  },
  {
   "cell_type": "code",
   "execution_count": 17,
   "metadata": {},
   "outputs": [
    {
     "data": {
      "text/html": [
       "<div>\n",
       "<style scoped>\n",
       "    .dataframe tbody tr th:only-of-type {\n",
       "        vertical-align: middle;\n",
       "    }\n",
       "\n",
       "    .dataframe tbody tr th {\n",
       "        vertical-align: top;\n",
       "    }\n",
       "\n",
       "    .dataframe thead th {\n",
       "        text-align: right;\n",
       "    }\n",
       "</style>\n",
       "<table border=\"1\" class=\"dataframe\">\n",
       "  <thead>\n",
       "    <tr style=\"text-align: right;\">\n",
       "      <th></th>\n",
       "      <th>url</th>\n",
       "      <th>comment</th>\n",
       "      <th>key_phrases_other_comments</th>\n",
       "    </tr>\n",
       "  </thead>\n",
       "  <tbody>\n",
       "  </tbody>\n",
       "</table>\n",
       "</div>"
      ],
      "text/plain": [
       "Empty DataFrame\n",
       "Columns: [url, comment, key_phrases_other_comments]\n",
       "Index: []"
      ]
     },
     "execution_count": 17,
     "metadata": {},
     "output_type": "execute_result"
    }
   ],
   "source": [
    "metadata[metadata.isnull().any(axis=1)]"
   ]
  },
  {
   "cell_type": "code",
   "execution_count": 5,
   "metadata": {},
   "outputs": [],
   "source": [
    "metadata.to_csv('data/extra_data_other_comments.csv', index=False)"
   ]
  },
  {
   "cell_type": "markdown",
   "metadata": {},
   "source": [
    "### Cleaning with_aug data"
   ]
  },
  {
   "cell_type": "code",
   "execution_count": 6,
   "metadata": {},
   "outputs": [],
   "source": [
    "train_comment = pd.read_csv('data/hate_towards_whom_aug/train.csv')\n",
    "test_comment = pd.read_csv('data/hate_towards_whom_aug/test.csv')"
   ]
  },
  {
   "cell_type": "code",
   "execution_count": 7,
   "metadata": {},
   "outputs": [
    {
     "data": {
      "text/plain": [
       "6485"
      ]
     },
     "execution_count": 7,
     "metadata": {},
     "output_type": "execute_result"
    }
   ],
   "source": [
    "train_comment.target.value_counts().sum()"
   ]
  },
  {
   "cell_type": "code",
   "execution_count": 10,
   "metadata": {},
   "outputs": [],
   "source": [
    "for i, row in train_comment.iterrows():\n",
    "    train_comment.iloc[i]['comment'] = process_text(train_comment.iloc[i]['comment'])\n",
    "    train_comment.iloc[i]['comment'] = re.sub('\\\\s+', ' ', train_comment.iloc[i]['comment'])\n",
    "\n",
    "for i, row in test_comment.iterrows():\n",
    "    test_comment.iloc[i]['comment'] = process_text(test_comment.iloc[i]['comment'])\n",
    "    test_comment.iloc[i]['comment'] = re.sub('\\\\s+', ' ', test_comment.iloc[i]['comment'])"
   ]
  },
  {
   "cell_type": "code",
   "execution_count": 11,
   "metadata": {},
   "outputs": [],
   "source": [
    "train_comment.drop_duplicates(inplace=True)\n",
    "test_comment.drop_duplicates(inplace=True)"
   ]
  },
  {
   "cell_type": "code",
   "execution_count": 12,
   "metadata": {},
   "outputs": [],
   "source": [
    "train_comment.to_csv('data/hate_towards_whom_aug/train.csv', index=False)\n",
    "test_comment.to_csv('data/hate_towards_whom_aug/test.csv', index=False)"
   ]
  },
  {
   "cell_type": "markdown",
   "metadata": {},
   "source": [
    "### Merging other comments checks"
   ]
  },
  {
   "cell_type": "code",
   "execution_count": 13,
   "metadata": {},
   "outputs": [],
   "source": [
    "train_merged = pd.merge(train_comment, metadata, how='left', on=['url', 'comment'])\n",
    "test_merged = pd.merge(test_comment, metadata, how='left', on=['url', 'comment'])"
   ]
  },
  {
   "cell_type": "code",
   "execution_count": 14,
   "metadata": {},
   "outputs": [],
   "source": [
    "trans_merged = pd.read_csv('data/extra_data_trans.csv')"
   ]
  },
  {
   "cell_type": "code",
   "execution_count": 15,
   "metadata": {},
   "outputs": [
    {
     "data": {
      "text/html": [
       "<div>\n",
       "<style scoped>\n",
       "    .dataframe tbody tr th:only-of-type {\n",
       "        vertical-align: middle;\n",
       "    }\n",
       "\n",
       "    .dataframe tbody tr th {\n",
       "        vertical-align: top;\n",
       "    }\n",
       "\n",
       "    .dataframe thead th {\n",
       "        text-align: right;\n",
       "    }\n",
       "</style>\n",
       "<table border=\"1\" class=\"dataframe\">\n",
       "  <thead>\n",
       "    <tr style=\"text-align: right;\">\n",
       "      <th></th>\n",
       "      <th>url</th>\n",
       "      <th>title</th>\n",
       "      <th>desc</th>\n",
       "      <th>transcript</th>\n",
       "      <th>key_phrases_desc_bert</th>\n",
       "      <th>key_phrases_transcript_bert</th>\n",
       "      <th>key_phrases_desc_long</th>\n",
       "      <th>key_phrases_transcript_long</th>\n",
       "    </tr>\n",
       "  </thead>\n",
       "  <tbody>\n",
       "    <tr>\n",
       "      <th>0</th>\n",
       "      <td>https://www.youtube.com/watch?v=C0MjY_tpG-I</td>\n",
       "      <td>NZ Māori Party calls for a ‘divorce’ from the ...</td>\n",
       "      <td>Sky News host Peta Credlin says the New Zealan...</td>\n",
       "      <td>It was yesterday we were celebrating the recor...</td>\n",
       "      <td>monarchy ms peta party calling divorce credlin...</td>\n",
       "      <td>maori party ideas haven cancelling queen quest...</td>\n",
       "      <td>monarchy ms peta party calling divorce credlin...</td>\n",
       "      <td>maori party ideas haven cancelling queen quest...</td>\n",
       "    </tr>\n",
       "    <tr>\n",
       "      <th>1</th>\n",
       "      <td>https://www.youtube.com/watch?v=vXoqfoAXR44</td>\n",
       "      <td>Is India preparing to take back PoK? Air Force...</td>\n",
       "      <td>Pakistan should start counting its days, as Pr...</td>\n",
       "      <td>Prime Minister Narendra Modi has finally put h...</td>\n",
       "      <td>pakistan start counting pedal illegally occupi...</td>\n",
       "      <td>soon capture kashmir gas pedal illegally china...</td>\n",
       "      <td>pakistan start counting pedal illegally occupi...</td>\n",
       "      <td>soon capture kashmir gas pedal illegally china...</td>\n",
       "    </tr>\n",
       "    <tr>\n",
       "      <th>2</th>\n",
       "      <td>https://www.youtube.com/watch?v=mndBZFdPyVw&amp;t=...</td>\n",
       "      <td>How To Make Veg Enchiladas | Vegetarian Enchil...</td>\n",
       "      <td>Veg Enchiladas Recipe | How To Make Enchiladas...</td>\n",
       "      <td>Hi guys, welcome to Rajshri Food. This is the ...</td>\n",
       "      <td>veg enchiladas recipe rajshri filling tbsp sur...</td>\n",
       "      <td>making bean enchiladas salt absolutely check b...</td>\n",
       "      <td>veg enchiladas recipe rajshri filling tbsp sur...</td>\n",
       "      <td>making bean enchiladas salt absolutely check b...</td>\n",
       "    </tr>\n",
       "  </tbody>\n",
       "</table>\n",
       "</div>"
      ],
      "text/plain": [
       "                                                 url  \\\n",
       "0        https://www.youtube.com/watch?v=C0MjY_tpG-I   \n",
       "1        https://www.youtube.com/watch?v=vXoqfoAXR44   \n",
       "2  https://www.youtube.com/watch?v=mndBZFdPyVw&t=...   \n",
       "\n",
       "                                               title  \\\n",
       "0  NZ Māori Party calls for a ‘divorce’ from the ...   \n",
       "1  Is India preparing to take back PoK? Air Force...   \n",
       "2  How To Make Veg Enchiladas | Vegetarian Enchil...   \n",
       "\n",
       "                                                desc  \\\n",
       "0  Sky News host Peta Credlin says the New Zealan...   \n",
       "1  Pakistan should start counting its days, as Pr...   \n",
       "2  Veg Enchiladas Recipe | How To Make Enchiladas...   \n",
       "\n",
       "                                          transcript  \\\n",
       "0  It was yesterday we were celebrating the recor...   \n",
       "1  Prime Minister Narendra Modi has finally put h...   \n",
       "2  Hi guys, welcome to Rajshri Food. This is the ...   \n",
       "\n",
       "                               key_phrases_desc_bert  \\\n",
       "0  monarchy ms peta party calling divorce credlin...   \n",
       "1  pakistan start counting pedal illegally occupi...   \n",
       "2  veg enchiladas recipe rajshri filling tbsp sur...   \n",
       "\n",
       "                         key_phrases_transcript_bert  \\\n",
       "0  maori party ideas haven cancelling queen quest...   \n",
       "1  soon capture kashmir gas pedal illegally china...   \n",
       "2  making bean enchiladas salt absolutely check b...   \n",
       "\n",
       "                               key_phrases_desc_long  \\\n",
       "0  monarchy ms peta party calling divorce credlin...   \n",
       "1  pakistan start counting pedal illegally occupi...   \n",
       "2  veg enchiladas recipe rajshri filling tbsp sur...   \n",
       "\n",
       "                         key_phrases_transcript_long  \n",
       "0  maori party ideas haven cancelling queen quest...  \n",
       "1  soon capture kashmir gas pedal illegally china...  \n",
       "2  making bean enchiladas salt absolutely check b...  "
      ]
     },
     "execution_count": 15,
     "metadata": {},
     "output_type": "execute_result"
    }
   ],
   "source": [
    "trans_merged.head(3)"
   ]
  },
  {
   "cell_type": "code",
   "execution_count": 24,
   "metadata": {},
   "outputs": [],
   "source": [
    "test_df = pd.merge(test_merged, trans_merged, how='left', on='url')\n",
    "train_df = pd.merge(train_merged, trans_merged, how='left', on='url')"
   ]
  },
  {
   "cell_type": "code",
   "execution_count": 17,
   "metadata": {},
   "outputs": [
    {
     "data": {
      "text/plain": [
       "Index(['url', 'category', 'comment', 'label', 'target',\n",
       "       'key_phrases_other_comments', 'title', 'desc', 'transcript',\n",
       "       'key_phrases_desc_bert', 'key_phrases_transcript_bert',\n",
       "       'key_phrases_desc_long', 'key_phrases_transcript_long'],\n",
       "      dtype='object')"
      ]
     },
     "execution_count": 17,
     "metadata": {},
     "output_type": "execute_result"
    }
   ],
   "source": [
    "df.columns"
   ]
  },
  {
   "cell_type": "code",
   "execution_count": 18,
   "metadata": {},
   "outputs": [
    {
     "data": {
      "text/plain": [
       "'WHITE PEOPLE  woman pouting: light skin tone  man pouting: light skin tone  IN THEIR FINEST MOMENT  thumbs up: light skin tone  thumbs up: medium-light skin tone  thumbs up: medium skin tone '"
      ]
     },
     "execution_count": 18,
     "metadata": {},
     "output_type": "execute_result"
    }
   ],
   "source": [
    "new_text='WHITE PEOPLE 🙎🏻‍♀️🙎🏻‍♂️ IN THEIR FINEST MOMENT 👍🏻👍🏼👍🏽'\n",
    "demoji.replace_with_desc(new_text, sep=' ')"
   ]
  },
  {
   "cell_type": "code",
   "execution_count": 26,
   "metadata": {},
   "outputs": [],
   "source": [
    "train_df.to_csv('train_combined.csv')"
   ]
  },
  {
   "cell_type": "code",
   "execution_count": 27,
   "metadata": {},
   "outputs": [],
   "source": [
    "test_df.to_csv('test_combined.csv')"
   ]
  },
  {
   "cell_type": "code",
   "execution_count": 41,
   "metadata": {},
   "outputs": [],
   "source": [
    "train_df[train_df['comment'].str.contains('\"Ew, I don\\'t eat msg seasoned food\" said Karen while smoking her cigarette')].to_csv('test_example.csv')"
   ]
  },
  {
   "cell_type": "code",
   "execution_count": 26,
   "metadata": {},
   "outputs": [
    {
     "data": {
      "text/plain": [
       "('\"Minister Freeland\" = kyke controlling your bank account.',\n",
       " 'Canada tells people how they can get their bank accounts unfrozen if they donated to the Trucker c..',\n",
       " 'trucker convoy liberal shutdown anti vaccine bank accounts canada tells people movements look reacted agree unfrozen donated machine machine does antifa versus mandate protests http ones raging blm react does agree support liberal think look people versus donated trucker mandate does tells reacted tells people bank canada reacted blm antifa anti vaccine mandate protests shutdown raging machine machine protests http think ones accounts unfrozen look reacted blm support movements react anti shutdown liberal versus react anti support donated trucker convoy trucker donated agree support movements convoy mandate protests vaccine does agree convoy liberal think liberal think ones',\n",
       " 'banks emergencies act constituents donated according rcmp rcmp unfrozen stop blockade occupation person certain account frozen mistaken use powers turn minister freeland leaders organizers protests including small action vet connection swap behle avec 50 needs speak police people trucks institutions names mp stated illegal action given financial government going concerned information financial institutions unfreeze going donor including frozen participation way occupation way account conservative use person certain wondering case mistaken ll organization communicate police organization avec person needs 50 bank accounts turn names granted frozen illegal emergencies donated small connection according rcmp given financial participation illegal blockades concerned accounts wondering granted banks small amounts communicate financial institutions blockade swap institutions concerned accounts donors ll turn unfreeze freeland rcmp act person certain account stop emergencies act government frozen wondering case trucks occupations blockades way account unfrozen speak given unfreeze accounts participation illegal going powers granted government going donor accounts frozen participation person needs including small donors people connection occupation blockade leaders bank illegal action vet occupations case certain blockades information according behle avec person minister account protests unfrozen stop blockade stated constituents act government organizers mistaken use bank accounts frozen swap protests people trucks powers granted banks stated institutions unfreeze accounts occupation person certain including granted banks emergencies vet small donors ll bank accounts institutions concerned donors names leaders organizers police frozen participation illegal frozen illegal action occupations blockades information way account occupation blockade swap behle donated financial institutions names account frozen illegal minister freeland rcmp participation freeland needs donor including small conservative mp institutions unfreeze small donated small amounts stop blockade occupation frozen account unfrozen stop banks emergencies mistaken financial institutions concerned organization communicate financial person government mp stated constituents blockades organization ll turn minister action illegal amounts 50 bank communicate accounts frozen wondering institutions names leaders use powers donors ll police organization communicate amounts 50 vet connection occupation wondering case',\n",
       " '',\n",
       " 'yes')"
      ]
     },
     "execution_count": 26,
     "metadata": {},
     "output_type": "execute_result"
    }
   ],
   "source": [
    "df['comment'][0], df['title'][0], df['key_phrases_desc_bert'][0], df['key_phrases_transcript_bert'][0], df['key_phrases_other_comments'][0], df['label'][0]"
   ]
  },
  {
   "cell_type": "code",
   "execution_count": 105,
   "metadata": {},
   "outputs": [
    {
     "data": {
      "text/html": [
       "<div>\n",
       "<style scoped>\n",
       "    .dataframe tbody tr th:only-of-type {\n",
       "        vertical-align: middle;\n",
       "    }\n",
       "\n",
       "    .dataframe tbody tr th {\n",
       "        vertical-align: top;\n",
       "    }\n",
       "\n",
       "    .dataframe thead th {\n",
       "        text-align: right;\n",
       "    }\n",
       "</style>\n",
       "<table border=\"1\" class=\"dataframe\">\n",
       "  <thead>\n",
       "    <tr style=\"text-align: right;\">\n",
       "      <th></th>\n",
       "      <th>url</th>\n",
       "      <th>category</th>\n",
       "      <th>comment</th>\n",
       "      <th>label</th>\n",
       "      <th>key_phrases_other_comments</th>\n",
       "    </tr>\n",
       "  </thead>\n",
       "  <tbody>\n",
       "  </tbody>\n",
       "</table>\n",
       "</div>"
      ],
      "text/plain": [
       "Empty DataFrame\n",
       "Columns: [url, category, comment, label, key_phrases_other_comments]\n",
       "Index: []"
      ]
     },
     "execution_count": 105,
     "metadata": {},
     "output_type": "execute_result"
    }
   ],
   "source": [
    "train_merged[train_merged.isnull().any(axis=1)]"
   ]
  },
  {
   "cell_type": "code",
   "execution_count": 106,
   "metadata": {},
   "outputs": [
    {
     "data": {
      "text/html": [
       "<div>\n",
       "<style scoped>\n",
       "    .dataframe tbody tr th:only-of-type {\n",
       "        vertical-align: middle;\n",
       "    }\n",
       "\n",
       "    .dataframe tbody tr th {\n",
       "        vertical-align: top;\n",
       "    }\n",
       "\n",
       "    .dataframe thead th {\n",
       "        text-align: right;\n",
       "    }\n",
       "</style>\n",
       "<table border=\"1\" class=\"dataframe\">\n",
       "  <thead>\n",
       "    <tr style=\"text-align: right;\">\n",
       "      <th></th>\n",
       "      <th>url</th>\n",
       "      <th>category</th>\n",
       "      <th>comment</th>\n",
       "      <th>label</th>\n",
       "      <th>key_phrases_other_comments</th>\n",
       "    </tr>\n",
       "  </thead>\n",
       "  <tbody>\n",
       "  </tbody>\n",
       "</table>\n",
       "</div>"
      ],
      "text/plain": [
       "Empty DataFrame\n",
       "Columns: [url, category, comment, label, key_phrases_other_comments]\n",
       "Index: []"
      ]
     },
     "execution_count": 106,
     "metadata": {},
     "output_type": "execute_result"
    }
   ],
   "source": [
    "test_merged[test_merged.isnull().any(axis=1)]"
   ]
  },
  {
   "cell_type": "code",
   "execution_count": 107,
   "metadata": {},
   "outputs": [
    {
     "name": "stdout",
     "output_type": "stream",
     "text": [
      "208\n",
      "6530\n"
     ]
    }
   ],
   "source": [
    "print(len(test_merged))\n",
    "print(len(train_merged))"
   ]
  },
  {
   "cell_type": "markdown",
   "metadata": {},
   "source": [
    "1. comment\n",
    "2. comment + title\n",
    "3. comment + description\n",
    "4. comment + transcript\n",
    "5. comment + other_comments\n",
    "6. comment + title + description\n",
    "7. comment + title + description + transcript\n",
    "8. comment + title + description + transcript + other_comments"
   ]
  },
  {
   "cell_type": "markdown",
   "metadata": {},
   "source": [
    "### Testing some stats"
   ]
  },
  {
   "cell_type": "code",
   "execution_count": 8,
   "metadata": {},
   "outputs": [],
   "source": [
    "train_comment = pd.read_csv('data/with_aug/train.csv')\n",
    "test_comment = pd.read_csv('data/with_aug/test.csv')"
   ]
  },
  {
   "cell_type": "code",
   "execution_count": 9,
   "metadata": {},
   "outputs": [
    {
     "data": {
      "text/plain": [
       "6529"
      ]
     },
     "execution_count": 9,
     "metadata": {},
     "output_type": "execute_result"
    }
   ],
   "source": [
    "len(train_comment)"
   ]
  },
  {
   "cell_type": "code",
   "execution_count": 11,
   "metadata": {},
   "outputs": [
    {
     "data": {
      "text/html": [
       "<div>\n",
       "<style scoped>\n",
       "    .dataframe tbody tr th:only-of-type {\n",
       "        vertical-align: middle;\n",
       "    }\n",
       "\n",
       "    .dataframe tbody tr th {\n",
       "        vertical-align: top;\n",
       "    }\n",
       "\n",
       "    .dataframe thead th {\n",
       "        text-align: right;\n",
       "    }\n",
       "</style>\n",
       "<table border=\"1\" class=\"dataframe\">\n",
       "  <thead>\n",
       "    <tr style=\"text-align: right;\">\n",
       "      <th></th>\n",
       "      <th>url</th>\n",
       "      <th>category</th>\n",
       "      <th>comment</th>\n",
       "      <th>label</th>\n",
       "    </tr>\n",
       "  </thead>\n",
       "  <tbody>\n",
       "    <tr>\n",
       "      <th>0</th>\n",
       "      <td>https://www.youtube.com/watch?v=BhSucJ1KDcU</td>\n",
       "      <td>fashion &amp; beauty</td>\n",
       "      <td>Un sorry I can’t unsee this. mindless pretenders.</td>\n",
       "      <td>yes</td>\n",
       "    </tr>\n",
       "    <tr>\n",
       "      <th>1</th>\n",
       "      <td>https://www.youtube.com/watch?v=BhSucJ1KDcU</td>\n",
       "      <td>fashion &amp; beauty</td>\n",
       "      <td>i'm sorry but i can't see this</td>\n",
       "      <td>yes</td>\n",
       "    </tr>\n",
       "    <tr>\n",
       "      <th>2</th>\n",
       "      <td>https://www.youtube.com/watch?v=BhSucJ1KDcU</td>\n",
       "      <td>fashion &amp; beauty</td>\n",
       "      <td>i'm sorry i can't see</td>\n",
       "      <td>yes</td>\n",
       "    </tr>\n",
       "    <tr>\n",
       "      <th>3</th>\n",
       "      <td>https://www.youtube.com/watch?v=BhSucJ1KDcU</td>\n",
       "      <td>fashion &amp; beauty</td>\n",
       "      <td>i'm sorry i can't see it</td>\n",
       "      <td>yes</td>\n",
       "    </tr>\n",
       "    <tr>\n",
       "      <th>4</th>\n",
       "      <td>https://www.youtube.com/watch?v=BhSucJ1KDcU</td>\n",
       "      <td>fashion &amp; beauty</td>\n",
       "      <td>i'm sorry i can't see this</td>\n",
       "      <td>yes</td>\n",
       "    </tr>\n",
       "    <tr>\n",
       "      <th>...</th>\n",
       "      <td>...</td>\n",
       "      <td>...</td>\n",
       "      <td>...</td>\n",
       "      <td>...</td>\n",
       "    </tr>\n",
       "    <tr>\n",
       "      <th>6524</th>\n",
       "      <td>https://www.youtube.com/watch?v=pG7mHUnW06Q</td>\n",
       "      <td>news &amp; politics</td>\n",
       "      <td>the lebonese women are beautiful</td>\n",
       "      <td>no</td>\n",
       "    </tr>\n",
       "    <tr>\n",
       "      <th>6525</th>\n",
       "      <td>https://www.youtube.com/watch?v=pG7mHUnW06Q</td>\n",
       "      <td>news &amp; politics</td>\n",
       "      <td>those lebonese women are stunning</td>\n",
       "      <td>no</td>\n",
       "    </tr>\n",
       "    <tr>\n",
       "      <th>6526</th>\n",
       "      <td>https://www.youtube.com/watch?v=pG7mHUnW06Q</td>\n",
       "      <td>news &amp; politics</td>\n",
       "      <td>lebonese women are gorgeous</td>\n",
       "      <td>no</td>\n",
       "    </tr>\n",
       "    <tr>\n",
       "      <th>6527</th>\n",
       "      <td>https://www.youtube.com/watch?v=pG7mHUnW06Q</td>\n",
       "      <td>news &amp; politics</td>\n",
       "      <td>the lebonese women are gorgeous</td>\n",
       "      <td>no</td>\n",
       "    </tr>\n",
       "    <tr>\n",
       "      <th>6528</th>\n",
       "      <td>https://www.youtube.com/watch?v=pG7mHUnW06Q</td>\n",
       "      <td>news &amp; politics</td>\n",
       "      <td>those lebonese women are gorgeous</td>\n",
       "      <td>no</td>\n",
       "    </tr>\n",
       "  </tbody>\n",
       "</table>\n",
       "<p>6529 rows × 4 columns</p>\n",
       "</div>"
      ],
      "text/plain": [
       "                                              url          category  \\\n",
       "0     https://www.youtube.com/watch?v=BhSucJ1KDcU  fashion & beauty   \n",
       "1     https://www.youtube.com/watch?v=BhSucJ1KDcU  fashion & beauty   \n",
       "2     https://www.youtube.com/watch?v=BhSucJ1KDcU  fashion & beauty   \n",
       "3     https://www.youtube.com/watch?v=BhSucJ1KDcU  fashion & beauty   \n",
       "4     https://www.youtube.com/watch?v=BhSucJ1KDcU  fashion & beauty   \n",
       "...                                           ...               ...   \n",
       "6524  https://www.youtube.com/watch?v=pG7mHUnW06Q   news & politics   \n",
       "6525  https://www.youtube.com/watch?v=pG7mHUnW06Q   news & politics   \n",
       "6526  https://www.youtube.com/watch?v=pG7mHUnW06Q   news & politics   \n",
       "6527  https://www.youtube.com/watch?v=pG7mHUnW06Q   news & politics   \n",
       "6528  https://www.youtube.com/watch?v=pG7mHUnW06Q   news & politics   \n",
       "\n",
       "                                                comment label  \n",
       "0     Un sorry I can’t unsee this. mindless pretenders.   yes  \n",
       "1                        i'm sorry but i can't see this   yes  \n",
       "2                                 i'm sorry i can't see   yes  \n",
       "3                              i'm sorry i can't see it   yes  \n",
       "4                            i'm sorry i can't see this   yes  \n",
       "...                                                 ...   ...  \n",
       "6524                   the lebonese women are beautiful    no  \n",
       "6525                  those lebonese women are stunning    no  \n",
       "6526                        lebonese women are gorgeous    no  \n",
       "6527                    the lebonese women are gorgeous    no  \n",
       "6528                  those lebonese women are gorgeous    no  \n",
       "\n",
       "[6529 rows x 4 columns]"
      ]
     },
     "execution_count": 11,
     "metadata": {},
     "output_type": "execute_result"
    }
   ],
   "source": [
    "train_comment.drop_duplicates()"
   ]
  },
  {
   "cell_type": "code",
   "execution_count": 5,
   "metadata": {},
   "outputs": [
    {
     "data": {
      "text/plain": [
       "208"
      ]
     },
     "execution_count": 5,
     "metadata": {},
     "output_type": "execute_result"
    }
   ],
   "source": [
    "len(test_comment)"
   ]
  },
  {
   "cell_type": "markdown",
   "metadata": {},
   "source": [
    "Making the data single target"
   ]
  },
  {
   "cell_type": "code",
   "execution_count": 2,
   "metadata": {},
   "outputs": [],
   "source": [
    "train_df = pd.read_csv('./data/hate_towards_whom_aug/train.csv')\n",
    "test_df = pd.read_csv('./data/hate_towards_whom_aug/test.csv')"
   ]
  },
  {
   "cell_type": "code",
   "execution_count": 5,
   "metadata": {},
   "outputs": [
    {
     "data": {
      "text/plain": [
       "None                       2927\n",
       "Individual                 1650\n",
       "Community                  1305\n",
       "Location                    251\n",
       "Organisation                177\n",
       "Community,Individual         84\n",
       "Community,Organisation       39\n",
       "Community,Location           24\n",
       "Individual,Organisation      22\n",
       "Location,Organisation         6\n",
       "Name: target, dtype: int64"
      ]
     },
     "execution_count": 5,
     "metadata": {},
     "output_type": "execute_result"
    }
   ],
   "source": [
    "train_df['target'].value_counts()"
   ]
  },
  {
   "cell_type": "code",
   "execution_count": 8,
   "metadata": {},
   "outputs": [],
   "source": [
    "for i, row in train_df.iterrows():\n",
    "    targets = row['target'].split(',')\n",
    "    if len(targets) == 1:\n",
    "        continue\n",
    "    if targets[0] == 'Community':\n",
    "        if targets[1] == 'Individual':\n",
    "            train_df['target'][i] = targets[0]\n",
    "        else:\n",
    "           train_df['target'][i] = targets[1]\n",
    "    elif targets[0] == 'Individual':\n",
    "        train_df['target'][i] = 'Organisation'\n",
    "    elif targets[0] == 'Location':\n",
    "        train_df['target'][i] = targets[0]"
   ]
  },
  {
   "cell_type": "code",
   "execution_count": 9,
   "metadata": {},
   "outputs": [
    {
     "data": {
      "text/plain": [
       "None            2927\n",
       "Individual      1650\n",
       "Community       1389\n",
       "Location         281\n",
       "Organisation     238\n",
       "Name: target, dtype: int64"
      ]
     },
     "execution_count": 9,
     "metadata": {},
     "output_type": "execute_result"
    }
   ],
   "source": [
    "train_df['target'].value_counts()"
   ]
  },
  {
   "cell_type": "code",
   "execution_count": 10,
   "metadata": {},
   "outputs": [],
   "source": [
    "for i, row in test_df.iterrows():\n",
    "    targets = row['target'].split(',')\n",
    "    if len(targets) == 1:\n",
    "        continue\n",
    "    if targets[0] == 'Community':\n",
    "        if targets[1] == 'Individual':\n",
    "            test_df['target'][i] = targets[0]\n",
    "        else:\n",
    "           test_df['target'][i] = targets[1]\n",
    "    elif targets[0] == 'Individual':\n",
    "        test_df['target'][i] = 'Organisation'\n",
    "    elif targets[0] == 'Location':\n",
    "        test_df['target'][i] = targets[0]"
   ]
  },
  {
   "cell_type": "code",
   "execution_count": 11,
   "metadata": {},
   "outputs": [
    {
     "data": {
      "text/plain": [
       "None            102\n",
       "Individual       50\n",
       "Community        32\n",
       "Location         12\n",
       "Organisation     11\n",
       "Name: target, dtype: int64"
      ]
     },
     "execution_count": 11,
     "metadata": {},
     "output_type": "execute_result"
    }
   ],
   "source": [
    "test_df['target'].value_counts()"
   ]
  },
  {
   "cell_type": "code",
   "execution_count": 12,
   "metadata": {},
   "outputs": [],
   "source": [
    "test_df.to_csv('./data/hate_towards_whom_aug_single/test.csv', index=False)\n",
    "train_df.to_csv('./data/hate_towards_whom_aug_single/train.csv', index=False)"
   ]
  },
  {
   "cell_type": "code",
   "execution_count": null,
   "metadata": {},
   "outputs": [],
   "source": []
  }
 ],
 "metadata": {
  "kernelspec": {
   "display_name": "Python 3.8.9 64-bit",
   "language": "python",
   "name": "python3"
  },
  "language_info": {
   "codemirror_mode": {
    "name": "ipython",
    "version": 3
   },
   "file_extension": ".py",
   "mimetype": "text/x-python",
   "name": "python",
   "nbconvert_exporter": "python",
   "pygments_lexer": "ipython3",
   "version": "3.8.12"
  },
  "orig_nbformat": 4,
  "vscode": {
   "interpreter": {
    "hash": "c5613aab4ecbc566f677d86816432298c21e49c6be719c2e37efad0cf0ed1b4a"
   }
  }
 },
 "nbformat": 4,
 "nbformat_minor": 2
}
