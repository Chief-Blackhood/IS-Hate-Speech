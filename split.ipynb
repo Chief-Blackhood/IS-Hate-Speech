{
 "cells": [
  {
   "cell_type": "code",
   "execution_count": 1,
   "metadata": {},
   "outputs": [],
   "source": [
    "import pandas as pd\n",
    "from sklearn.model_selection import GroupShuffleSplit\n",
    "from tqdm import tqdm"
   ]
  },
  {
   "cell_type": "code",
   "execution_count": 2,
   "metadata": {},
   "outputs": [],
   "source": [
    "hate_orig = pd.read_csv(\"data/without_aug/train.csv\")\n",
    "hate_aug = pd.read_csv(\"data/with_aug/train.csv\")"
   ]
  },
  {
   "cell_type": "code",
   "execution_count": 12,
   "metadata": {},
   "outputs": [
    {
     "data": {
      "text/plain": [
       "(1853, 4)"
      ]
     },
     "execution_count": 12,
     "metadata": {},
     "output_type": "execute_result"
    }
   ],
   "source": [
    "hate_orig.shape"
   ]
  },
  {
   "cell_type": "code",
   "execution_count": 24,
   "metadata": {},
   "outputs": [
    {
     "name": "stderr",
     "output_type": "stream",
     "text": [
      "100%|██████████| 10000/10000 [00:23<00:00, 428.43it/s]"
     ]
    },
    {
     "name": "stdout",
     "output_type": "stream",
     "text": [
      "8012 1577\n"
     ]
    },
    {
     "name": "stderr",
     "output_type": "stream",
     "text": [
      "\n"
     ]
    }
   ],
   "source": [
    "groups = hate_orig['url']\n",
    "\n",
    "best_state = 0\n",
    "min_diff = 1000000\n",
    "for random_state in tqdm(range(0, 10000)):\n",
    "    gss = GroupShuffleSplit(n_splits=1, test_size=0.25, random_state=random_state)\n",
    "\n",
    "    for train_index, test_index in gss.split(hate_orig, groups=groups):\n",
    "        hate_orig_train = hate_orig.iloc[train_index]\n",
    "        hate_orig_val = hate_orig.iloc[test_index]\n",
    "\n",
    "    try:\n",
    "        count_train = hate_orig_train['category'].value_counts().to_dict()\n",
    "        count_test = hate_orig_val['category'].value_counts().to_dict()\n",
    "        diff = {k : count_train[k] - count_test[k] * 9 for k in count_train}\n",
    "        value_sum = sum(map(abs, diff.values()))\n",
    "        if value_sum < min_diff:\n",
    "            best_state = random_state\n",
    "            min_diff = value_sum\n",
    "    except:\n",
    "        continue\n",
    "\n",
    "print(best_state, min_diff)\n",
    "gss = GroupShuffleSplit(n_splits=1, test_size=0.25, random_state=best_state)\n",
    "\n",
    "for train_index, test_index in gss.split(hate_orig, groups=groups):\n",
    "    hate_orig_train = hate_orig.iloc[train_index]\n",
    "    hate_orig_val = hate_orig.iloc[test_index]\n",
    "\n"
   ]
  },
  {
   "cell_type": "code",
   "execution_count": 25,
   "metadata": {},
   "outputs": [
    {
     "data": {
      "text/plain": [
       "((343, 4), (1510, 4))"
      ]
     },
     "execution_count": 25,
     "metadata": {},
     "output_type": "execute_result"
    }
   ],
   "source": [
    "hate_orig_val.shape, hate_orig_train.shape"
   ]
  },
  {
   "cell_type": "code",
   "execution_count": 28,
   "metadata": {},
   "outputs": [],
   "source": [
    "hate_orig_val.to_csv('data/with_aug_ttv/eval.csv', index=False)\n",
    "hate_orig_train.to_csv('data/with_aug_ttv/train.csv', index=False)"
   ]
  },
  {
   "cell_type": "code",
   "execution_count": 31,
   "metadata": {},
   "outputs": [],
   "source": [
    "urls_in_val = list(set(hate_orig_val['url'].to_list()))"
   ]
  },
  {
   "cell_type": "code",
   "execution_count": 32,
   "metadata": {},
   "outputs": [
    {
     "data": {
      "text/plain": [
       "90"
      ]
     },
     "execution_count": 32,
     "metadata": {},
     "output_type": "execute_result"
    }
   ],
   "source": [
    "len(urls_in_val)"
   ]
  },
  {
   "cell_type": "code",
   "execution_count": 33,
   "metadata": {},
   "outputs": [
    {
     "name": "stdout",
     "output_type": "stream",
     "text": [
      "(4407, 4)\n",
      "(3577, 4)\n"
     ]
    }
   ],
   "source": [
    "print(hate_aug.shape)\n",
    "hate_aug = hate_aug[~hate_aug['url'].isin(urls_in_val)]\n",
    "print(hate_aug.shape)"
   ]
  },
  {
   "cell_type": "code",
   "execution_count": 34,
   "metadata": {},
   "outputs": [],
   "source": [
    "hate_aug.to_csv('data/with_aug_ttv/train.csv', index=False)"
   ]
  },
  {
   "cell_type": "code",
   "execution_count": null,
   "metadata": {},
   "outputs": [],
   "source": []
  }
 ],
 "metadata": {
  "kernelspec": {
   "display_name": "hate_speech_env",
   "language": "python",
   "name": "python3"
  },
  "language_info": {
   "codemirror_mode": {
    "name": "ipython",
    "version": 3
   },
   "file_extension": ".py",
   "mimetype": "text/x-python",
   "name": "python",
   "nbconvert_exporter": "python",
   "pygments_lexer": "ipython3",
   "version": "3.10.9"
  },
  "orig_nbformat": 4,
  "vscode": {
   "interpreter": {
    "hash": "1b6cc2797df5b890432b3042b64dd1442c8828b309ca87122f4a2847a2739658"
   }
  }
 },
 "nbformat": 4,
 "nbformat_minor": 2
}
