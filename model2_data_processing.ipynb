{
 "cells": [
  {
   "cell_type": "code",
   "execution_count": 11,
   "metadata": {},
   "outputs": [],
   "source": [
    "import json\n",
    "import pandas as pd\n",
    "# from keybert import KeyBert"
   ]
  },
  {
   "cell_type": "code",
   "execution_count": 1,
   "metadata": {},
   "outputs": [
    {
     "name": "stderr",
     "output_type": "stream",
     "text": [
      "Downloading: 100%|██████████| 1.18k/1.18k [00:00<00:00, 358kB/s]\n",
      "Downloading: 100%|██████████| 190/190 [00:00<00:00, 75.2kB/s]\n",
      "Downloading: 100%|██████████| 10.2k/10.2k [00:00<00:00, 3.62MB/s]\n",
      "Downloading: 100%|██████████| 612/612 [00:00<00:00, 179kB/s]\n",
      "Downloading: 100%|██████████| 116/116 [00:00<00:00, 62.4kB/s]\n",
      "Downloading: 100%|██████████| 39.3k/39.3k [00:00<00:00, 187kB/s] \n",
      "Downloading: 100%|██████████| 349/349 [00:00<00:00, 116kB/s]\n",
      "Downloading: 100%|██████████| 90.9M/90.9M [00:05<00:00, 15.3MB/s]\n",
      "Downloading: 100%|██████████| 53.0/53.0 [00:00<00:00, 28.9kB/s]\n",
      "Downloading: 100%|██████████| 112/112 [00:00<00:00, 51.4kB/s]\n",
      "Downloading: 100%|██████████| 466k/466k [00:00<00:00, 588kB/s] \n",
      "Downloading: 100%|██████████| 350/350 [00:00<00:00, 141kB/s]\n",
      "Downloading: 100%|██████████| 13.2k/13.2k [00:00<00:00, 67.9kB/s]\n",
      "Downloading: 100%|██████████| 232k/232k [00:00<00:00, 276kB/s]  \n"
     ]
    },
    {
     "name": "stdout",
     "output_type": "stream",
     "text": [
      "Ignored unknown kwarg option direction\n",
      "Ignored unknown kwarg option direction\n",
      "Ignored unknown kwarg option direction\n"
     ]
    }
   ],
   "source": [
    "from keybert import KeyBERT\n",
    "\n",
    "doc = \"\"\"\n",
    "         Supervised learning is the machine learning task of learning a function that\n",
    "         maps an input to an output based on example input-output pairs. It infers a\n",
    "         function from labeled training data consisting of a set of training examples.\n",
    "         In supervised learning, each example is a pair consisting of an input object\n",
    "         (typically a vector) and a desired output value (also called the supervisory signal).\n",
    "         A supervised learning algorithm analyzes the training data and produces an inferred function,\n",
    "         which can be used for mapping new examples. An optimal scenario will allow for the\n",
    "         algorithm to correctly determine the class labels for unseen instances. This requires\n",
    "         the learning algorithm to generalize from the training data to unseen situations in a\n",
    "         'reasonable' way (see inductive bias).\n",
    "      \"\"\"\n",
    "kw_model = KeyBERT()\n",
    "keywords = kw_model.extract_keywords(doc)"
   ]
  },
  {
   "cell_type": "code",
   "execution_count": 34,
   "metadata": {},
   "outputs": [
    {
     "name": "stdout",
     "output_type": "stream",
     "text": [
      "Ignored unknown kwarg option direction\n",
      "Ignored unknown kwarg option direction\n",
      "Ignored unknown kwarg option direction\n",
      "Ignored unknown kwarg option direction\n"
     ]
    },
    {
     "data": {
      "text/plain": [
       "[('supervised learning', 0.6779),\n",
       " ('signal supervised', 0.6152),\n",
       " ('examples supervised', 0.6112),\n",
       " ('labeled training', 0.6013),\n",
       " ('learning function', 0.5755),\n",
       " ('learning algorithm', 0.5632),\n",
       " ('learning machine', 0.5598),\n",
       " ('machine learning', 0.5555),\n",
       " ('training data', 0.5271),\n",
       " ('learning task', 0.5121),\n",
       " ('learning example', 0.476),\n",
       " ('function labeled', 0.4752),\n",
       " ('task learning', 0.4698),\n",
       " ('training examples', 0.4668),\n",
       " ('generalize training', 0.4619),\n",
       " ('analyzes training', 0.4605),\n",
       " ('class labels', 0.389),\n",
       " ('set training', 0.3647),\n",
       " ('supervisory signal', 0.3626),\n",
       " ('data unseen', 0.3604),\n",
       " ('requires learning', 0.3557),\n",
       " ('algorithm generalize', 0.351),\n",
       " ('unseen instances', 0.3365),\n",
       " ('labels unseen', 0.3335),\n",
       " ('inferred function', 0.3296),\n",
       " ('data produces', 0.3294),\n",
       " ('inductive bias', 0.3281),\n",
       " ('called supervisory', 0.3261),\n",
       " ('algorithm analyzes', 0.319),\n",
       " ('output based', 0.2966),\n",
       " ('determine class', 0.2962),\n",
       " ('function maps', 0.2875),\n",
       " ('example input', 0.2815),\n",
       " ('data consisting', 0.2785),\n",
       " ('input object', 0.2773),\n",
       " ('infers function', 0.2641),\n",
       " ('produces inferred', 0.2603),\n",
       " ('object typically', 0.259),\n",
       " ('function used', 0.2589),\n",
       " ('input output', 0.2523),\n",
       " ('based example', 0.248),\n",
       " ('examples optimal', 0.2388),\n",
       " ('unseen situations', 0.2245),\n",
       " ('new examples', 0.2243),\n",
       " ('algorithm correctly', 0.211),\n",
       " ('way inductive', 0.2095),\n",
       " ('typically vector', 0.2058),\n",
       " ('maps input', 0.2054),\n",
       " ('mapping new', 0.2027),\n",
       " ('consisting input', 0.2027),\n",
       " ('allow algorithm', 0.1795),\n",
       " ('instances requires', 0.1746),\n",
       " ('pairs infers', 0.1729),\n",
       " ('output pairs', 0.171),\n",
       " ('value called', 0.166),\n",
       " ('used mapping', 0.1626),\n",
       " ('output value', 0.158),\n",
       " ('correctly determine', 0.1536),\n",
       " ('example pair', 0.1483),\n",
       " ('desired output', 0.141),\n",
       " ('vector desired', 0.1173),\n",
       " ('situations reasonable', 0.1074),\n",
       " ('optimal scenario', 0.1044),\n",
       " ('scenario allow', 0.0736),\n",
       " ('pair consisting', 0.0589),\n",
       " ('consisting set', 0.0543),\n",
       " ('reasonable way', 0.0165)]"
      ]
     },
     "execution_count": 34,
     "metadata": {},
     "output_type": "execute_result"
    }
   ],
   "source": [
    "kw_model.extract_keywords(doc, keyphrase_ngram_range=(2, 2), stop_words='english', top_n=200)"
   ]
  },
  {
   "cell_type": "code",
   "execution_count": 12,
   "metadata": {},
   "outputs": [],
   "source": [
    "with open('youtube_data.json', 'r') as f:\n",
    "    data = json.load(f)"
   ]
  },
  {
   "cell_type": "code",
   "execution_count": 13,
   "metadata": {},
   "outputs": [],
   "source": [
    "temp_dic = ({'url': [], 'title': [], 'desc': []})"
   ]
  },
  {
   "cell_type": "code",
   "execution_count": 14,
   "metadata": {},
   "outputs": [],
   "source": [
    "for item in data:\n",
    "    title = item['stats']['title'].encode('utf-16', 'surrogatepass').decode('utf-16')\n",
    "    desc = item['stats']['description'].encode('utf-16', 'surrogatepass').decode('utf-16') \n",
    "    url = item['url']\n",
    "    temp_dic['url'].append(url)\n",
    "    temp_dic['title'].append(title)\n",
    "    temp_dic['desc'].append(desc)"
   ]
  },
  {
   "cell_type": "code",
   "execution_count": 15,
   "metadata": {},
   "outputs": [
    {
     "data": {
      "text/plain": [
       "'NZ Māori Party calls for a ‘divorce’ from the British Monarchy'"
      ]
     },
     "execution_count": 15,
     "metadata": {},
     "output_type": "execute_result"
    }
   ],
   "source": [
    "test = 'NZ M\\u0101ori Party calls for a \\u2018divorce\\u2019 from the British Monarchy'\n",
    "test.encode('utf-16', 'surrogatepass').decode('utf-16')"
   ]
  },
  {
   "cell_type": "code",
   "execution_count": 26,
   "metadata": {},
   "outputs": [],
   "source": [
    "with open('bitchute_data.json', 'r') as f:\n",
    "    bitchute = json.load(f)"
   ]
  },
  {
   "cell_type": "code",
   "execution_count": 22,
   "metadata": {},
   "outputs": [],
   "source": [
    "for item in bitchute:\n",
    "    title = item['title'].encode('utf-16', 'surrogatepass').decode('utf-16')\n",
    "    desc = item['description'].encode('utf-16', 'surrogatepass').decode('utf-16') \n",
    "    url = item['url']\n",
    "    temp_dic['url'].append(url)\n",
    "    temp_dic['title'].append(title)\n",
    "    temp_dic['desc'].append(desc)"
   ]
  },
  {
   "cell_type": "code",
   "execution_count": 28,
   "metadata": {},
   "outputs": [
    {
     "data": {
      "text/html": [
       "<div>\n",
       "<style scoped>\n",
       "    .dataframe tbody tr th:only-of-type {\n",
       "        vertical-align: middle;\n",
       "    }\n",
       "\n",
       "    .dataframe tbody tr th {\n",
       "        vertical-align: top;\n",
       "    }\n",
       "\n",
       "    .dataframe thead th {\n",
       "        text-align: right;\n",
       "    }\n",
       "</style>\n",
       "<table border=\"1\" class=\"dataframe\">\n",
       "  <thead>\n",
       "    <tr style=\"text-align: right;\">\n",
       "      <th></th>\n",
       "      <th>url</th>\n",
       "      <th>title</th>\n",
       "      <th>desc</th>\n",
       "    </tr>\n",
       "  </thead>\n",
       "  <tbody>\n",
       "    <tr>\n",
       "      <th>270</th>\n",
       "      <td>https://www.bitchute.com/video/fkp0fAGrYJSE/</td>\n",
       "      <td>Pope Francis Doesn't Expect To Be Pope Much Lo...</td>\n",
       "      <td>The segment has \"Pope Francis\" saying that he ...</td>\n",
       "    </tr>\n",
       "    <tr>\n",
       "      <th>271</th>\n",
       "      <td>https://www.bitchute.com/video/8TzX7lBvuyT9/</td>\n",
       "      <td>Bill Gates Caught on Video Admitting Vaccines ...</td>\n",
       "      <td>Instead of injecting a piece of a virus into a...</td>\n",
       "    </tr>\n",
       "    <tr>\n",
       "      <th>272</th>\n",
       "      <td>https://www.bitchute.com/video/ZZTZfRBdmopZ/</td>\n",
       "      <td>Old Turkish Muslim Sucker Punches a Couple for...</td>\n",
       "      <td>This couple kissed on a train in Turkey and wa...</td>\n",
       "    </tr>\n",
       "    <tr>\n",
       "      <th>273</th>\n",
       "      <td>https://www.bitchute.com/video/tjgnaLRL9uzE/</td>\n",
       "      <td>Woman a Towel Runs Through Snow-Covered Street...</td>\n",
       "      <td>Not much information on what's happening here....</td>\n",
       "    </tr>\n",
       "    <tr>\n",
       "      <th>274</th>\n",
       "      <td>https://www.bitchute.com/video/MfGbLHnNOccJ/</td>\n",
       "      <td>Road Rage Attack on Mother and Child at McDona...</td>\n",
       "      <td>RICHMOND (CBS SF) — A Bay Point woman wanted i...</td>\n",
       "    </tr>\n",
       "  </tbody>\n",
       "</table>\n",
       "</div>"
      ],
      "text/plain": [
       "                                              url  \\\n",
       "270  https://www.bitchute.com/video/fkp0fAGrYJSE/   \n",
       "271  https://www.bitchute.com/video/8TzX7lBvuyT9/   \n",
       "272  https://www.bitchute.com/video/ZZTZfRBdmopZ/   \n",
       "273  https://www.bitchute.com/video/tjgnaLRL9uzE/   \n",
       "274  https://www.bitchute.com/video/MfGbLHnNOccJ/   \n",
       "\n",
       "                                                 title  \\\n",
       "270  Pope Francis Doesn't Expect To Be Pope Much Lo...   \n",
       "271  Bill Gates Caught on Video Admitting Vaccines ...   \n",
       "272  Old Turkish Muslim Sucker Punches a Couple for...   \n",
       "273  Woman a Towel Runs Through Snow-Covered Street...   \n",
       "274  Road Rage Attack on Mother and Child at McDona...   \n",
       "\n",
       "                                                  desc  \n",
       "270  The segment has \"Pope Francis\" saying that he ...  \n",
       "271  Instead of injecting a piece of a virus into a...  \n",
       "272  This couple kissed on a train in Turkey and wa...  \n",
       "273  Not much information on what's happening here....  \n",
       "274  RICHMOND (CBS SF) — A Bay Point woman wanted i...  "
      ]
     },
     "execution_count": 28,
     "metadata": {},
     "output_type": "execute_result"
    }
   ],
   "source": [
    "df.tail()"
   ]
  },
  {
   "cell_type": "code",
   "execution_count": 27,
   "metadata": {},
   "outputs": [],
   "source": [
    "df = pd.DataFrame(temp_dic)"
   ]
  },
  {
   "cell_type": "code",
   "execution_count": null,
   "metadata": {},
   "outputs": [],
   "source": [
    "df.head()"
   ]
  },
  {
   "cell_type": "code",
   "execution_count": 29,
   "metadata": {},
   "outputs": [],
   "source": [
    "df.to_csv('./data/extra_data.csv', index=False)"
   ]
  },
  {
   "cell_type": "code",
   "execution_count": null,
   "metadata": {},
   "outputs": [],
   "source": []
  }
 ],
 "metadata": {
  "interpreter": {
   "hash": "08eac26dc1f80337b7d87e94e7159a5bad95c2e85f47efef91c61359b3afbfe9"
  },
  "kernelspec": {
   "display_name": "Python 3.8.12 ('ml')",
   "language": "python",
   "name": "python3"
  },
  "language_info": {
   "codemirror_mode": {
    "name": "ipython",
    "version": 3
   },
   "file_extension": ".py",
   "mimetype": "text/x-python",
   "name": "python",
   "nbconvert_exporter": "python",
   "pygments_lexer": "ipython3",
   "version": "3.8.12"
  },
  "orig_nbformat": 4
 },
 "nbformat": 4,
 "nbformat_minor": 2
}
