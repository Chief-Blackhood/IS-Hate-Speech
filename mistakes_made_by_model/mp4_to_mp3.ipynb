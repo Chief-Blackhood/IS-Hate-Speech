{
 "cells": [
  {
   "cell_type": "code",
   "execution_count": 1,
   "metadata": {},
   "outputs": [],
   "source": [
    "from moviepy.editor import *\n",
    "from tqdm import tqdm_notebook"
   ]
  },
  {
   "cell_type": "code",
   "execution_count": 2,
   "metadata": {},
   "outputs": [],
   "source": [
    "def convert(mp4, mp3):\n",
    "    videoclip = VideoFileClip(mp4)\n",
    "    audioclip = videoclip.audio\n",
    "    audioclip.write_audiofile(mp3, fps=16000, logger=None)\n",
    "    audioclip.close()\n",
    "    videoclip.close()"
   ]
  },
  {
   "cell_type": "code",
   "execution_count": 9,
   "metadata": {},
   "outputs": [
    {
     "name": "stdout",
     "output_type": "stream",
     "text": [
      "1\n"
     ]
    }
   ],
   "source": [
    "PARENT_DIR = '/media/shrey2809/DATA'\n",
    "SOURCE = 'extra'\n",
    "DIR = f'{PARENT_DIR}/{SOURCE}'\n",
    "videos = os.listdir(f\"{DIR}_videos\")\n",
    "print(len(videos))"
   ]
  },
  {
   "cell_type": "code",
   "execution_count": 10,
   "metadata": {},
   "outputs": [
    {
     "data": {
      "application/vnd.jupyter.widget-view+json": {
       "model_id": "32966c451f9d4014bb283bcaaf7535be",
       "version_major": 2,
       "version_minor": 0
      },
      "text/plain": [
       "  0%|          | 0/1 [00:00<?, ?it/s]"
      ]
     },
     "metadata": {},
     "output_type": "display_data"
    }
   ],
   "source": [
    "for vid in tqdm_notebook(videos):\n",
    "    name = vid.split('.mp4')[0]\n",
    "    convert(f\"{DIR}_videos/{vid}\", f\"{DIR}_audio/{name}.mp3\") "
   ]
  },
  {
   "cell_type": "code",
   "execution_count": null,
   "metadata": {},
   "outputs": [],
   "source": []
  }
 ],
 "metadata": {
  "interpreter": {
   "hash": "926329d8d5ada43347605dab57bd38d1d84dc33bc3d0025c1ed6b0ef069babb1"
  },
  "kernelspec": {
   "display_name": "Python 3.8.10 ('is')",
   "language": "python",
   "name": "python3"
  },
  "language_info": {
   "codemirror_mode": {
    "name": "ipython",
    "version": 3
   },
   "file_extension": ".py",
   "mimetype": "text/x-python",
   "name": "python",
   "nbconvert_exporter": "python",
   "pygments_lexer": "ipython3",
   "version": "3.8.10"
  },
  "orig_nbformat": 4
 },
 "nbformat": 4,
 "nbformat_minor": 2
}
