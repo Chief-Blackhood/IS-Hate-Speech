{
 "cells": [
  {
   "cell_type": "code",
   "execution_count": 2,
   "id": "07009776-1b42-4002-bb15-f6b25228640c",
   "metadata": {},
   "outputs": [],
   "source": [
    "import twitter_creds\n",
    "import requests\n",
    "import base64\n",
    "from pprint import pprint"
   ]
  },
  {
   "cell_type": "code",
   "execution_count": 3,
   "id": "c11f2f14-6a2c-438e-9d53-4041a75597a8",
   "metadata": {},
   "outputs": [],
   "source": [
    "def get_bearer_header():\n",
    "    uri_token_endpoint = 'https://api.twitter.com/oauth2/token'\n",
    "    key_secret = f\"{twitter_creds.consumer_key}:{twitter_creds.consumer_key_secret}\".encode('ascii')\n",
    "    b64_encoded_key = base64.b64encode(key_secret)\n",
    "    b64_encoded_key = b64_encoded_key.decode('ascii')\n",
    "\n",
    "    auth_headers = {\n",
    "        'Authorization': 'Basic {}'.format(b64_encoded_key),\n",
    "        'Content-Type': 'application/x-www-form-urlencoded;charset=UTF-8'\n",
    "    }\n",
    "\n",
    "    auth_data = {\n",
    "        'grant_type': 'client_credentials'\n",
    "    }\n",
    "\n",
    "    auth_resp = requests.post(uri_token_endpoint, headers=auth_headers, data=auth_data)\n",
    "    bearer_token = auth_resp.json()['access_token']\n",
    "\n",
    "    bearer_header = {\n",
    "       'Accept-Encoding': 'gzip',\n",
    "       'Authorization': 'Bearer {}'.format(bearer_token),\n",
    "       'oauth_consumer_key': twitter_creds.consumer_key \n",
    "    }\n",
    "    return bearer_header"
   ]
  },
  {
   "cell_type": "code",
   "execution_count": 4,
   "id": "b3786a13-a69d-4a7b-ab07-2d8dcbe20cb5",
   "metadata": {},
   "outputs": [],
   "source": [
    "def getConversationId(id):\n",
    "    uri = 'https://api.twitter.com/2/tweets?'\n",
    "\n",
    "    params = {\n",
    "        'ids':id,\n",
    "        'tweet.fields':'conversation_id',\n",
    "        'max_results': 100\n",
    "    }\n",
    "\n",
    "    bearer_header = get_bearer_header()\n",
    "    resp = requests.get(uri, headers=bearer_header, params=params)\n",
    "    return resp.json()['data'][0]['conversation_id']"
   ]
  },
  {
   "cell_type": "code",
   "execution_count": 19,
   "id": "60868ee2-2a77-452b-989f-9d2a51b65190",
   "metadata": {},
   "outputs": [],
   "source": [
    "\n",
    "#   --url 'ids=1225917697675886593&tweet.fields=author_id,conversation_id,created_at,in_reply_to_user_id,referenced_tweets&expansions=author_id,in_reply_to_user_id,referenced_tweets.id&user.fields=name,username' \\\n",
    "#   --header 'Authorization: Bearer $BEARER_TOKEN' \n",
    "\n",
    "\n",
    "def getConversation(conversation_id):\n",
    "    data = {}\n",
    "    uri = 'https://api.twitter.com/2/tweets/search/recent?'\n",
    "\n",
    "    params = {\n",
    "        'query': f'ids:{conversation_id}',\n",
    "        'tweet.fields': 'author_id,conversation_id,created_at,in_reply_to_user_id,referenced_tweets', \n",
    "        'expansions': 'author_id,in_reply_to_user_id,referenced_tweets.id&user.fields=name,username',\n",
    "        'max_results': 100\n",
    "    }\n",
    "\n",
    "    bearer_header = get_bearer_header()\n",
    "    token = ''\n",
    "    while token != None:\n",
    "        if token != '':\n",
    "            params['next_token'] = token\n",
    "        resp = requests.get(uri, headers=bearer_header, params=params).json()\n",
    "        try:\n",
    "            token = resp['meta']['next_token']\n",
    "        except:\n",
    "            break\n",
    "        if not data:\n",
    "            print(\"empty\")\n",
    "            data['data'] = resp['data']\n",
    "        else:\n",
    "            print(\"updating\")\n",
    "            data['data'].extend(resp['data'])\n",
    "        print(resp['meta']['result_count'])\n",
    "    return data"
   ]
  },
  {
   "cell_type": "code",
   "execution_count": 14,
   "id": "21fa6351-3f7b-45bb-ac31-2b7c11c27739",
   "metadata": {},
   "outputs": [
    {
     "data": {
      "text/plain": [
       "'1478993643516018692'"
      ]
     },
     "execution_count": 14,
     "metadata": {},
     "output_type": "execute_result"
    }
   ],
   "source": [
    "getConversationId(1478993643516018692)"
   ]
  },
  {
   "cell_type": "code",
   "execution_count": 20,
   "id": "5dd1ae8f-b957-494e-8f1f-853932ba1844",
   "metadata": {},
   "outputs": [],
   "source": [
    "conversations = getConversation(1478993643516018692)"
   ]
  },
  {
   "cell_type": "code",
   "execution_count": 21,
   "id": "3a0ae814-1241-4746-b9df-c564cac40294",
   "metadata": {},
   "outputs": [
    {
     "ename": "KeyError",
     "evalue": "'data'",
     "output_type": "error",
     "traceback": [
      "\u001b[0;31m---------------------------------------------------------------------------\u001b[0m",
      "\u001b[0;31mKeyError\u001b[0m                                  Traceback (most recent call last)",
      "\u001b[0;32m/var/folders/63/8sk6p42d28b00trfq5r8lp0h0000gn/T/ipykernel_1993/632442367.py\u001b[0m in \u001b[0;36m<module>\u001b[0;34m\u001b[0m\n\u001b[0;32m----> 1\u001b[0;31m \u001b[0mconversations\u001b[0m\u001b[0;34m[\u001b[0m\u001b[0;34m'data'\u001b[0m\u001b[0;34m]\u001b[0m\u001b[0;34m[\u001b[0m\u001b[0;34m:\u001b[0m\u001b[0;36m10\u001b[0m\u001b[0;34m]\u001b[0m\u001b[0;34m\u001b[0m\u001b[0;34m\u001b[0m\u001b[0m\n\u001b[0m",
      "\u001b[0;31mKeyError\u001b[0m: 'data'"
     ]
    }
   ],
   "source": [
    "conversations['data'][:10]"
   ]
  },
  {
   "cell_type": "code",
   "execution_count": null,
   "id": "49910011",
   "metadata": {},
   "outputs": [],
   "source": []
  }
 ],
 "metadata": {
  "kernelspec": {
   "display_name": "Python 3",
   "language": "python",
   "name": "python3"
  },
  "language_info": {
   "codemirror_mode": {
    "name": "ipython",
    "version": 3
   },
   "file_extension": ".py",
   "mimetype": "text/x-python",
   "name": "python",
   "nbconvert_exporter": "python",
   "pygments_lexer": "ipython3",
   "version": "3.8.9"
  }
 },
 "nbformat": 4,
 "nbformat_minor": 5
}
