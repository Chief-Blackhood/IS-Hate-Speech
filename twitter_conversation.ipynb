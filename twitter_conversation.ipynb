{
 "cells": [
  {
   "cell_type": "code",
   "execution_count": 16,
   "id": "07009776-1b42-4002-bb15-f6b25228640c",
   "metadata": {},
   "outputs": [],
   "source": [
    "import twitter_creds\n",
    "import requests\n",
    "import base64\n",
    "from pprint import pprint"
   ]
  },
  {
   "cell_type": "code",
   "execution_count": 7,
   "id": "c11f2f14-6a2c-438e-9d53-4041a75597a8",
   "metadata": {},
   "outputs": [],
   "source": [
    "def get_bearer_header():\n",
    "    uri_token_endpoint = 'https://api.twitter.com/oauth2/token'\n",
    "    key_secret = f\"{twitter_creds.consumer_key}:{twitter_creds.consumer_key_secret}\".encode('ascii')\n",
    "    b64_encoded_key = base64.b64encode(key_secret)\n",
    "    b64_encoded_key = b64_encoded_key.decode('ascii')\n",
    "\n",
    "    auth_headers = {\n",
    "        'Authorization': 'Basic {}'.format(b64_encoded_key),\n",
    "        'Content-Type': 'application/x-www-form-urlencoded;charset=UTF-8'\n",
    "    }\n",
    "\n",
    "    auth_data = {\n",
    "        'grant_type': 'client_credentials'\n",
    "    }\n",
    "\n",
    "    auth_resp = requests.post(uri_token_endpoint, headers=auth_headers, data=auth_data)\n",
    "    bearer_token = auth_resp.json()['access_token']\n",
    "\n",
    "    bearer_header = {\n",
    "       'Accept-Encoding': 'gzip',\n",
    "       'Authorization': 'Bearer {}'.format(bearer_token),\n",
    "       'oauth_consumer_key': twitter_creds.consumer_key \n",
    "    }\n",
    "    return bearer_header"
   ]
  },
  {
   "cell_type": "code",
   "execution_count": 8,
   "id": "b3786a13-a69d-4a7b-ab07-2d8dcbe20cb5",
   "metadata": {},
   "outputs": [],
   "source": [
    "def getConversationId(id):\n",
    "    uri = 'https://api.twitter.com/2/tweets?'\n",
    "\n",
    "    params = {\n",
    "        'ids':id,\n",
    "        'tweet.fields':'conversation_id'\n",
    "    }\n",
    "\n",
    "    bearer_header = get_bearer_header()\n",
    "    resp = requests.get(uri, headers=bearer_header, params=params)\n",
    "    return resp.json()['data'][0]['conversation_id']"
   ]
  },
  {
   "cell_type": "code",
   "execution_count": 13,
   "id": "60868ee2-2a77-452b-989f-9d2a51b65190",
   "metadata": {},
   "outputs": [],
   "source": [
    "# query=conversation_id:1279940000004973111\n",
    "# &tweet.fields=in_reply_to_user_id,author_id,created_at,conversation_id' \\ \n",
    "\n",
    "\n",
    "def getConversation(conversation_id):\n",
    "    uri = 'https://api.twitter.com/2/tweets/search/recent?'\n",
    "\n",
    "    params = {\n",
    "        'query': f'conversation_id:{conversation_id}',\n",
    "        'tweet.fields': 'in_reply_to_user_id', \n",
    "        'tweet.fields':'conversation_id'\n",
    "    }\n",
    "\n",
    "    bearer_header = get_bearer_header()\n",
    "    resp = requests.get(uri, headers=bearer_header, params=params)\n",
    "    return resp.json()"
   ]
  },
  {
   "cell_type": "code",
   "execution_count": 14,
   "id": "21fa6351-3f7b-45bb-ac31-2b7c11c27739",
   "metadata": {},
   "outputs": [
    {
     "data": {
      "text/plain": [
       "'1478993643516018692'"
      ]
     },
     "execution_count": 14,
     "metadata": {},
     "output_type": "execute_result"
    }
   ],
   "source": [
    "getConversationId(1478993643516018692)"
   ]
  },
  {
   "cell_type": "code",
   "execution_count": 18,
   "id": "5dd1ae8f-b957-494e-8f1f-853932ba1844",
   "metadata": {},
   "outputs": [
    {
     "name": "stdout",
     "output_type": "stream",
     "text": [
      "{'data': [{'conversation_id': '1478993643516018692',\n",
      "           'id': '1479038964677812225',\n",
      "           'text': '@XiaomiIndia Ready and excited for the Hypercharge '\n",
      "                   'revolution\\n'\n",
      "                   '#xiaomi11hyperchear'},\n",
      "          {'conversation_id': '1478993643516018692',\n",
      "           'id': '1479038962484203522',\n",
      "           'text': '@XiaomiIndia BYAKKO \\n'\n",
      "                   'The next 100x gem with a experienced team. Don’t miss '\n",
      "                   'it! \\n'\n",
      "                   'JOIN THE WL: https://t.co/IkgVvGLH8l\\n'\n",
      "                   'SHILL GROUP: https://t.co/7pGonh1bGS\\n'\n",
      "                   'MAIN GROUP: https://t.co/IoCbRQSG3f'},\n",
      "          {'conversation_id': '1478993643516018692',\n",
      "           'id': '1479038799745216512',\n",
      "           'text': '@XiaomiIndia Tax chori 😂🤣🤣👌'},\n",
      "          {'conversation_id': '1478993643516018692',\n",
      "           'id': '1479038503136600065',\n",
      "           'text': '@XiaomiIndia Noted  \\n'\n",
      "                   '#Xiaomi11iHypercharge\\n'\n",
      "                   '#HyperchargeRevolution\\n'\n",
      "                   '@XiaomiIndia'},\n",
      "          {'conversation_id': '1478993643516018692',\n",
      "           'id': '1479038171585257473',\n",
      "           'text': '@XiaomiIndia Ready and excited for the Hypercharge '\n",
      "                   'Revolution 🤩\\n'\n",
      "                   '\\n'\n",
      "                   '#Xiaomi11iHypercharge\\n'\n",
      "                   '#HyperchargeRevolution\\n'\n",
      "                   '@XiaomiIndia'},\n",
      "          {'conversation_id': '1478993643516018692',\n",
      "           'id': '1479037947491938305',\n",
      "           'text': '@XiaomiIndia Ready \\n'\n",
      "                   '\\n'\n",
      "                   '#Xiaomi11iHypercharge\\n'\n",
      "                   '#HyperchargeRevolution\\n'\n",
      "                   '@XiaomiIndia'},\n",
      "          {'conversation_id': '1478993643516018692',\n",
      "           'id': '1479037574362513408',\n",
      "           'text': '@XiaomiIndia #Xiaomi11iHypercharge\\n'\n",
      "                   'Noted &amp; excited\\n'\n",
      "                   '#HyperchargeRevolution'},\n",
      "          {'conversation_id': '1478993643516018692',\n",
      "           'id': '1479036965001388032',\n",
      "           'text': '@XiaomiIndia Super excited........@XiaomiIndia \\n'\n",
      "                   '#HyperChargeRevolution \\n'\n",
      "                   '#Xiaomi11iHypercharge'},\n",
      "          {'conversation_id': '1478993643516018692',\n",
      "           'id': '1479036387240202240',\n",
      "           'text': '@XiaomiIndia Done'},\n",
      "          {'conversation_id': '1478993643516018692',\n",
      "           'id': '1479036027138285572',\n",
      "           'text': '@XiaomiIndia #Xiaomi11iHypercharge \\n'\n",
      "                   '#HyperChargeRevolution \\n'\n",
      "                   'Jhakaas xiaomi ♥️🔥'}],\n",
      " 'meta': {'newest_id': '1479038964677812225',\n",
      "          'next_token': 'b26v89c19zqg8o3fpe194gh4mlgq6r280j5hvbl92be65',\n",
      "          'oldest_id': '1479036027138285572',\n",
      "          'result_count': 10}}\n"
     ]
    }
   ],
   "source": [
    "pprint(getConversation(1478993643516018692))"
   ]
  },
  {
   "cell_type": "code",
   "execution_count": null,
   "id": "3a0ae814-1241-4746-b9df-c564cac40294",
   "metadata": {},
   "outputs": [],
   "source": []
  }
 ],
 "metadata": {
  "kernelspec": {
   "display_name": "Python 3",
   "language": "python",
   "name": "python3"
  },
  "language_info": {
   "codemirror_mode": {
    "name": "ipython",
    "version": 3
   },
   "file_extension": ".py",
   "mimetype": "text/x-python",
   "name": "python",
   "nbconvert_exporter": "python",
   "pygments_lexer": "ipython3",
   "version": "3.8.10"
  }
 },
 "nbformat": 4,
 "nbformat_minor": 5
}
