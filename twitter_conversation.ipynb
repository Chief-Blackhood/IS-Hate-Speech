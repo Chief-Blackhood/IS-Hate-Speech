{
 "cells": [
  {
   "cell_type": "code",
   "execution_count": 2,
   "id": "07009776-1b42-4002-bb15-f6b25228640c",
   "metadata": {},
   "outputs": [],
   "source": [
    "import twitter_creds\n",
    "import requests\n",
    "import base64\n",
    "from pprint import pprint"
   ]
  },
  {
   "cell_type": "code",
   "execution_count": 3,
   "id": "c11f2f14-6a2c-438e-9d53-4041a75597a8",
   "metadata": {},
   "outputs": [],
   "source": [
    "def get_bearer_header():\n",
    "    uri_token_endpoint = 'https://api.twitter.com/oauth2/token'\n",
    "    key_secret = f\"{twitter_creds.consumer_key}:{twitter_creds.consumer_key_secret}\".encode('ascii')\n",
    "    b64_encoded_key = base64.b64encode(key_secret)\n",
    "    b64_encoded_key = b64_encoded_key.decode('ascii')\n",
    "\n",
    "    auth_headers = {\n",
    "        'Authorization': 'Basic {}'.format(b64_encoded_key),\n",
    "        'Content-Type': 'application/x-www-form-urlencoded;charset=UTF-8'\n",
    "    }\n",
    "\n",
    "    auth_data = {\n",
    "        'grant_type': 'client_credentials'\n",
    "    }\n",
    "\n",
    "    auth_resp = requests.post(uri_token_endpoint, headers=auth_headers, data=auth_data)\n",
    "    bearer_token = auth_resp.json()['access_token']\n",
    "\n",
    "    bearer_header = {\n",
    "       'Accept-Encoding': 'gzip',\n",
    "       'Authorization': 'Bearer {}'.format(bearer_token),\n",
    "       'oauth_consumer_key': twitter_creds.consumer_key \n",
    "    }\n",
    "    return bearer_header"
   ]
  },
  {
   "cell_type": "code",
   "execution_count": 4,
   "id": "b3786a13-a69d-4a7b-ab07-2d8dcbe20cb5",
   "metadata": {},
   "outputs": [],
   "source": [
    "def getConversationId(id):\n",
    "    uri = 'https://api.twitter.com/2/tweets?'\n",
    "\n",
    "    params = {\n",
    "        'ids':id,\n",
    "        'tweet.fields':'conversation_id',\n",
    "        'max_results': 100\n",
    "    }\n",
    "\n",
    "    bearer_header = get_bearer_header()\n",
    "    resp = requests.get(uri, headers=bearer_header, params=params)\n",
    "    return resp.json()['data'][0]['conversation_id']"
   ]
  },
  {
   "cell_type": "code",
   "execution_count": 39,
   "id": "60868ee2-2a77-452b-989f-9d2a51b65190",
   "metadata": {},
   "outputs": [],
   "source": [
    "\n",
    "#   --url 'https://api.twitter.com/2/tweets/search/recent?query=conversation_id:1279940000004973111&tweet.fields=in_reply_to_user_id,author_id,created_at,conversation_id' \\\n",
    "#   --header 'Authorization: Bearer $BEARER_TOKEN'  \n",
    "\n",
    "\n",
    "def getConversation(conversation_id):\n",
    "    data = {}\n",
    "    shown = False\n",
    "    uri = 'https://api.twitter.com/2/tweets/search/recent'\n",
    "\n",
    "    params = {\n",
    "        'query': f'conversation_id:{conversation_id}',\n",
    "        'tweet.fields': 'in_reply_to_user_id,author_id,created_at,conversation_id', \n",
    "    }\n",
    "\n",
    "    bearer_header = get_bearer_header()\n",
    "    token = ''\n",
    "    while token != None:\n",
    "        if token != '':\n",
    "            params['next_token'] = token\n",
    "        resp = requests.get(uri, headers=bearer_header, params=params).json()\n",
    "        if not shown:\n",
    "            print(resp)\n",
    "            shown = True\n",
    "        try:\n",
    "            token = resp['meta']['next_token']\n",
    "        except:\n",
    "            break\n",
    "        if not data:\n",
    "            # print(\"empty\")\n",
    "            data['data'] = resp['data']\n",
    "        else:\n",
    "            # print(\"updating\")\n",
    "            data['data'].extend(resp['data'])\n",
    "        # print(resp['meta']['result_count'])\n",
    "    return data"
   ]
  },
  {
   "cell_type": "code",
   "execution_count": 14,
   "id": "21fa6351-3f7b-45bb-ac31-2b7c11c27739",
   "metadata": {},
   "outputs": [
    {
     "data": {
      "text/plain": [
       "'1478993643516018692'"
      ]
     },
     "execution_count": 14,
     "metadata": {},
     "output_type": "execute_result"
    }
   ],
   "source": [
    "getConversationId(1478993643516018692)"
   ]
  },
  {
   "cell_type": "code",
   "execution_count": 40,
   "id": "5dd1ae8f-b957-494e-8f1f-853932ba1844",
   "metadata": {},
   "outputs": [
    {
     "name": "stdout",
     "output_type": "stream",
     "text": [
      "{'data': [{'created_at': '2022-01-08T11:35:30.000Z', 'conversation_id': '1478993643516018692', 'text': '@XiaomiIndia When will you announce the winners??', 'id': '1479778785373290498', 'author_id': '927180770774368258', 'in_reply_to_user_id': '2646263522'}, {'created_at': '2022-01-08T10:29:17.000Z', 'conversation_id': '1478993643516018692', 'text': '@XiaomiIndia 💯🔥🔥\\n\\n#Xiaomi11iHyperCharge #HyperchargeRevolution #Xiaomi11i #Xiaomi11iSeries @XiaomiIndia @manukumarjain', 'id': '1479762124905742337', 'author_id': '1058371116136194048', 'in_reply_to_user_id': '2646263522'}, {'created_at': '2022-01-08T08:03:06.000Z', 'conversation_id': '1478993643516018692', 'text': \"@XiaomiIndia Great spirit, that's the way to go! #HyperchargeRevolution\\xa0 #Xiaomi11iHypercharge\", 'id': '1479725335021121537', 'author_id': '1318969101599952896', 'in_reply_to_user_id': '2646263522'}, {'created_at': '2022-01-08T06:05:01.000Z', 'conversation_id': '1478993643516018692', 'text': '@XiaomiIndia Ready \\n\\n#Xiaomi11iHypercharge\\n#HyperchargeRevolution\\n@xiaomiindia1', 'id': '1479695620067713027', 'author_id': '1283744156930600961', 'in_reply_to_user_id': '2646263522'}, {'created_at': '2022-01-08T06:02:10.000Z', 'conversation_id': '1478993643516018692', 'text': '@XiaomiIndia Ready \\n#Xiaomi11i\\u202f\\u202f\\u202f\\n#Xiaomi11iHypercharge \\n#HyperchargeRevolution \\n#Xiaomi11iSeries\\n@XiaomiIndia \\n\\nWish to win😊😊', 'id': '1479694902569144321', 'author_id': '1434009012979191811', 'in_reply_to_user_id': '2646263522'}, {'created_at': '2022-01-08T04:31:58.000Z', 'conversation_id': '1478993643516018692', 'text': '@XiaomiIndia #Xiaomi11iHypercharge\\n#HyperchargeRevolution\\n\\nAns: \\n1. 15 minutes\\n2. 360Hz \\n3. 120Hz \\n4. FHD+ AMOLED display + Dolby Atmos + Dual Symmetrical Stereo speakers\\n5. high 120° FOV\\n6. IR Blaster\\n7. All of the Above\\n8. 108MP\\n9. Corning Gorilla glass 5\\n10. 8 Bands \\n11. 1200 nits', 'id': '1479672202446336005', 'author_id': '864120969132036096', 'in_reply_to_user_id': '2646263522'}, {'created_at': '2022-01-08T03:18:53.000Z', 'conversation_id': '1478993643516018692', 'text': \"@XiaomiIndia Xiaomi India fools it's Customers.There is no meaning of warranty with Xiaomi &amp; they will make you pay for servicing your phone even if it's under warranty by telling lies.\", 'id': '1479653810876211201', 'author_id': '714494653475598336', 'in_reply_to_user_id': '2646263522'}, {'created_at': '2022-01-08T01:17:12.000Z', 'conversation_id': '1478993643516018692', 'text': '@XiaomiIndia #Xiomi11iHyperCharged and #HyperchargeRevolution', 'id': '1479623185641336835', 'author_id': '1424736077030465543', 'in_reply_to_user_id': '2646263522'}, {'created_at': '2022-01-07T18:27:43.000Z', 'conversation_id': '1478993643516018692', 'text': '@XiaomiIndia https://t.co/SMlrwZn2nv', 'id': '1479520136084135937', 'author_id': '1077547208168243200', 'in_reply_to_user_id': '2646263522'}, {'created_at': '2022-01-07T16:31:35.000Z', 'conversation_id': '1478993643516018692', 'text': '@XiaomiIndia #Xioami11iHypercharge\\n#HyperchargeRevolution\\nTUHIN ROY', 'id': '1479490911054622720', 'author_id': '3251333814', 'in_reply_to_user_id': '2646263522'}], 'meta': {'newest_id': '1479778785373290498', 'oldest_id': '1479490911054622720', 'result_count': 10, 'next_token': 'b26v89c19zqg8o3fpe194p1tpfqp40mksuxk905n93hj1'}}\n"
     ]
    }
   ],
   "source": [
    "conversations = getConversation(1478993643516018692)"
   ]
  },
  {
   "cell_type": "code",
   "execution_count": 41,
   "id": "3a0ae814-1241-4746-b9df-c564cac40294",
   "metadata": {},
   "outputs": [
    {
     "data": {
      "text/plain": [
       "[{'created_at': '2022-01-08T11:35:30.000Z',\n",
       "  'conversation_id': '1478993643516018692',\n",
       "  'text': '@XiaomiIndia When will you announce the winners??',\n",
       "  'id': '1479778785373290498',\n",
       "  'author_id': '927180770774368258',\n",
       "  'in_reply_to_user_id': '2646263522'},\n",
       " {'created_at': '2022-01-08T10:29:17.000Z',\n",
       "  'conversation_id': '1478993643516018692',\n",
       "  'text': '@XiaomiIndia 💯🔥🔥\\n\\n#Xiaomi11iHyperCharge #HyperchargeRevolution #Xiaomi11i #Xiaomi11iSeries @XiaomiIndia @manukumarjain',\n",
       "  'id': '1479762124905742337',\n",
       "  'author_id': '1058371116136194048',\n",
       "  'in_reply_to_user_id': '2646263522'},\n",
       " {'created_at': '2022-01-08T08:03:06.000Z',\n",
       "  'conversation_id': '1478993643516018692',\n",
       "  'text': \"@XiaomiIndia Great spirit, that's the way to go! #HyperchargeRevolution\\xa0 #Xiaomi11iHypercharge\",\n",
       "  'id': '1479725335021121537',\n",
       "  'author_id': '1318969101599952896',\n",
       "  'in_reply_to_user_id': '2646263522'},\n",
       " {'created_at': '2022-01-08T06:05:01.000Z',\n",
       "  'conversation_id': '1478993643516018692',\n",
       "  'text': '@XiaomiIndia Ready \\n\\n#Xiaomi11iHypercharge\\n#HyperchargeRevolution\\n@xiaomiindia1',\n",
       "  'id': '1479695620067713027',\n",
       "  'author_id': '1283744156930600961',\n",
       "  'in_reply_to_user_id': '2646263522'},\n",
       " {'created_at': '2022-01-08T06:02:10.000Z',\n",
       "  'conversation_id': '1478993643516018692',\n",
       "  'text': '@XiaomiIndia Ready \\n#Xiaomi11i\\u202f\\u202f\\u202f\\n#Xiaomi11iHypercharge \\n#HyperchargeRevolution \\n#Xiaomi11iSeries\\n@XiaomiIndia \\n\\nWish to win😊😊',\n",
       "  'id': '1479694902569144321',\n",
       "  'author_id': '1434009012979191811',\n",
       "  'in_reply_to_user_id': '2646263522'},\n",
       " {'created_at': '2022-01-08T04:31:58.000Z',\n",
       "  'conversation_id': '1478993643516018692',\n",
       "  'text': '@XiaomiIndia #Xiaomi11iHypercharge\\n#HyperchargeRevolution\\n\\nAns: \\n1. 15 minutes\\n2. 360Hz \\n3. 120Hz \\n4. FHD+ AMOLED display + Dolby Atmos + Dual Symmetrical Stereo speakers\\n5. high 120° FOV\\n6. IR Blaster\\n7. All of the Above\\n8. 108MP\\n9. Corning Gorilla glass 5\\n10. 8 Bands \\n11. 1200 nits',\n",
       "  'id': '1479672202446336005',\n",
       "  'author_id': '864120969132036096',\n",
       "  'in_reply_to_user_id': '2646263522'},\n",
       " {'created_at': '2022-01-08T03:18:53.000Z',\n",
       "  'conversation_id': '1478993643516018692',\n",
       "  'text': \"@XiaomiIndia Xiaomi India fools it's Customers.There is no meaning of warranty with Xiaomi &amp; they will make you pay for servicing your phone even if it's under warranty by telling lies.\",\n",
       "  'id': '1479653810876211201',\n",
       "  'author_id': '714494653475598336',\n",
       "  'in_reply_to_user_id': '2646263522'},\n",
       " {'created_at': '2022-01-08T01:17:12.000Z',\n",
       "  'conversation_id': '1478993643516018692',\n",
       "  'text': '@XiaomiIndia #Xiomi11iHyperCharged and #HyperchargeRevolution',\n",
       "  'id': '1479623185641336835',\n",
       "  'author_id': '1424736077030465543',\n",
       "  'in_reply_to_user_id': '2646263522'},\n",
       " {'created_at': '2022-01-07T18:27:43.000Z',\n",
       "  'conversation_id': '1478993643516018692',\n",
       "  'text': '@XiaomiIndia https://t.co/SMlrwZn2nv',\n",
       "  'id': '1479520136084135937',\n",
       "  'author_id': '1077547208168243200',\n",
       "  'in_reply_to_user_id': '2646263522'},\n",
       " {'created_at': '2022-01-07T16:31:35.000Z',\n",
       "  'conversation_id': '1478993643516018692',\n",
       "  'text': '@XiaomiIndia #Xioami11iHypercharge\\n#HyperchargeRevolution\\nTUHIN ROY',\n",
       "  'id': '1479490911054622720',\n",
       "  'author_id': '3251333814',\n",
       "  'in_reply_to_user_id': '2646263522'}]"
      ]
     },
     "execution_count": 41,
     "metadata": {},
     "output_type": "execute_result"
    }
   ],
   "source": [
    "conversations['data'][:10]"
   ]
  },
  {
   "cell_type": "code",
   "execution_count": null,
   "id": "49910011",
   "metadata": {},
   "outputs": [],
   "source": []
  }
 ],
 "metadata": {
  "kernelspec": {
   "display_name": "Python 3",
   "language": "python",
   "name": "python3"
  },
  "language_info": {
   "codemirror_mode": {
    "name": "ipython",
    "version": 3
   },
   "file_extension": ".py",
   "mimetype": "text/x-python",
   "name": "python",
   "nbconvert_exporter": "python",
   "pygments_lexer": "ipython3",
   "version": "3.8.9"
  }
 },
 "nbformat": 4,
 "nbformat_minor": 5
}
