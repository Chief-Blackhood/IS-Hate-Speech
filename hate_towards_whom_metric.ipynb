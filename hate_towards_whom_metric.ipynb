{
 "cells": [
  {
   "cell_type": "code",
   "execution_count": 1,
   "metadata": {},
   "outputs": [],
   "source": [
    "import os\n",
    "import sys\n",
    "import numpy as np\n",
    "from sklearn.metrics import hamming_loss, accuracy_score, precision_score, recall_score, f1_score"
   ]
  },
  {
   "cell_type": "code",
   "execution_count": 2,
   "metadata": {},
   "outputs": [],
   "source": [
    "preds = np.load('test_preds_charmed-river-32.npy')\n",
    "labels = np.load('test_labels_charmed-river-32.npy')"
   ]
  },
  {
   "cell_type": "code",
   "execution_count": 3,
   "metadata": {},
   "outputs": [],
   "source": [
    "preds = 1/(1 + np.exp(-preds))"
   ]
  },
  {
   "cell_type": "code",
   "execution_count": 4,
   "metadata": {},
   "outputs": [
    {
     "name": "stdout",
     "output_type": "stream",
     "text": [
      "Thresh: 0.0 \tHamming Loss: 0.7951690821256039 \tAcc Score: 0.0\n",
      "Thresh: 0.1 \tHamming Loss: 0.13333333333333333 \tAcc Score: 0.5990338164251208\n",
      "Thresh: 0.2 \tHamming Loss: 0.12560386473429952 \tAcc Score: 0.6328502415458938\n",
      "Thresh: 0.30000000000000004 \tHamming Loss: 0.11690821256038647 \tAcc Score: 0.6666666666666666\n",
      "Thresh: 0.4 \tHamming Loss: 0.11594202898550725 \tAcc Score: 0.6763285024154589\n",
      "Thresh: 0.5 \tHamming Loss: 0.11400966183574879 \tAcc Score: 0.6908212560386473\n",
      "Thresh: 0.6000000000000001 \tHamming Loss: 0.10821256038647344 \tAcc Score: 0.6859903381642513\n",
      "Thresh: 0.7000000000000001 \tHamming Loss: 0.09855072463768116 \tAcc Score: 0.6666666666666666\n",
      "Thresh: 0.8 \tHamming Loss: 0.10048309178743961 \tAcc Score: 0.6280193236714976\n",
      "Thresh: 0.9 \tHamming Loss: 0.10144927536231885 \tAcc Score: 0.6038647342995169\n",
      "Thresh: 1.0 \tHamming Loss: 0.20483091787439614 \tAcc Score: 0.0\n"
     ]
    }
   ],
   "source": [
    "for thresh in np.linspace(0, 1, 11):\n",
    "    copy_preds = preds.copy()\n",
    "    copy_preds[copy_preds >= thresh] = 1\n",
    "    copy_preds[copy_preds < thresh] = 0\n",
    "    print(\"Thresh:\", thresh, \"\\tHamming Loss:\", hamming_loss(labels, copy_preds), \"\\tAcc Score:\", accuracy_score(labels, copy_preds))"
   ]
  },
  {
   "cell_type": "code",
   "execution_count": 5,
   "metadata": {},
   "outputs": [],
   "source": [
    "preds[preds >= 0.5] = 1\n",
    "preds[preds < 0.5] = 0"
   ]
  },
  {
   "cell_type": "code",
   "execution_count": 6,
   "metadata": {},
   "outputs": [
    {
     "name": "stdout",
     "output_type": "stream",
     "text": [
      "Organisation Precision: 0.375 Recall: 0.2727272727272727 F1 Score: 0.3157894736842105\n",
      "Location Precision: 0.4 Recall: 0.3333333333333333 F1 Score: 0.3636363636363636\n",
      "Individual Precision: 0.6111111111111112 Recall: 0.6226415094339622 F1 Score: 0.616822429906542\n",
      "Community Precision: 0.5277777777777778 Recall: 0.5588235294117647 F1 Score: 0.5428571428571428\n",
      "None Precision: 0.9038461538461539 Recall: 0.9215686274509803 F1 Score: 0.9126213592233009\n"
     ]
    }
   ],
   "source": [
    "mapping = {0: \"Organisation\", 1: \"Location\", 2: \"Individual\", 3: \"Community\", 4: \"None\"}\n",
    "for i in range(0, 5):\n",
    "    print(f\"{mapping[i]} Precision: {precision_score(labels[:, i], preds[:, i])} Recall: {recall_score(labels[:, i], preds[:, i])} F1 Score: {f1_score(labels[:, i], preds[:, i])}\")"
   ]
  },
  {
   "cell_type": "code",
   "execution_count": null,
   "metadata": {},
   "outputs": [],
   "source": []
  }
 ],
 "metadata": {
  "kernelspec": {
   "display_name": "Python 3.9.12 ('pytorch_env')",
   "language": "python",
   "name": "python3"
  },
  "language_info": {
   "codemirror_mode": {
    "name": "ipython",
    "version": 3
   },
   "file_extension": ".py",
   "mimetype": "text/x-python",
   "name": "python",
   "nbconvert_exporter": "python",
   "pygments_lexer": "ipython3",
   "version": "3.9.12"
  },
  "orig_nbformat": 4,
  "vscode": {
   "interpreter": {
    "hash": "e1c52e40170142f5541aa09caa5b6b3842649e4fc0a41584079d4a414bf3cd2c"
   }
  }
 },
 "nbformat": 4,
 "nbformat_minor": 2
}
