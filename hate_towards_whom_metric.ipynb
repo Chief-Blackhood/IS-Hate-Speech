{
 "cells": [
  {
   "cell_type": "code",
   "execution_count": 1,
   "metadata": {},
   "outputs": [],
   "source": [
    "import os\n",
    "import sys\n",
    "import numpy as np\n",
    "from sklearn.metrics import hamming_loss, accuracy_score, precision_score, recall_score, f1_score"
   ]
  },
  {
   "cell_type": "code",
   "execution_count": 2,
   "metadata": {},
   "outputs": [],
   "source": [
    "preds = np.load('test_preds_charmed-river-32.npy')\n",
    "labels = np.load('test_labels_charmed-river-32.npy')"
   ]
  },
  {
   "cell_type": "code",
   "execution_count": 3,
   "metadata": {},
   "outputs": [],
   "source": [
    "preds = 1/(1 + np.exp(-preds))"
   ]
  },
  {
   "cell_type": "code",
   "execution_count": 4,
   "metadata": {},
   "outputs": [],
   "source": [
    "def hamming_score(y_true, y_pred):\n",
    "    acc_list = []\n",
    "    for i in range(y_true.shape[0]):\n",
    "        set_true = set( np.where(y_true[i])[0] )\n",
    "        set_pred = set( np.where(y_pred[i])[0] )\n",
    "        tmp_a = None\n",
    "        if len(set_true) == 0 and len(set_pred) == 0:\n",
    "            tmp_a = 1\n",
    "        else:\n",
    "            tmp_a = len(set_true.intersection(set_pred))/\\\n",
    "                    float( len(set_true.union(set_pred)) )\n",
    "        acc_list.append(tmp_a)\n",
    "    \n",
    "    return np.mean(acc_list)"
   ]
  },
  {
   "cell_type": "code",
   "execution_count": 5,
   "metadata": {},
   "outputs": [
    {
     "name": "stdout",
     "output_type": "stream",
     "text": [
      "Thresh: 0.0 \tHamming Loss: 0.7951690821256039 \tHamming Score: 0.20483091787439614\n",
      "Thresh: 0.1 \tHamming Loss: 0.13333333333333333 \tHamming Score: 0.717391304347826\n",
      "Thresh: 0.2 \tHamming Loss: 0.12560386473429952 \tHamming Score: 0.7254428341384863\n",
      "Thresh: 0.30000000000000004 \tHamming Loss: 0.11690821256038647 \tHamming Score: 0.7294685990338164\n",
      "Thresh: 0.4 \tHamming Loss: 0.11594202898550725 \tHamming Score: 0.7125603864734299\n",
      "Thresh: 0.5 \tHamming Loss: 0.11400966183574879 \tHamming Score: 0.7125603864734299\n",
      "Thresh: 0.6000000000000001 \tHamming Loss: 0.10821256038647344 \tHamming Score: 0.6956521739130435\n",
      "Thresh: 0.7000000000000001 \tHamming Loss: 0.09855072463768116 \tHamming Score: 0.6739130434782609\n",
      "Thresh: 0.8 \tHamming Loss: 0.10048309178743961 \tHamming Score: 0.6352657004830918\n",
      "Thresh: 0.9 \tHamming Loss: 0.10144927536231885 \tHamming Score: 0.6086956521739131\n",
      "Thresh: 1.0 \tHamming Loss: 0.20483091787439614 \tHamming Score: 0.0\n"
     ]
    }
   ],
   "source": [
    "for thresh in np.linspace(0, 1, 11):\n",
    "    copy_preds = preds.copy()\n",
    "    copy_preds[copy_preds >= thresh] = 1\n",
    "    copy_preds[copy_preds < thresh] = 0\n",
    "    print(\"Thresh:\", thresh, \"\\tHamming Loss:\", hamming_loss(labels, copy_preds), \"\\tHamming Score:\", hamming_score(labels, copy_preds))"
   ]
  },
  {
   "cell_type": "code",
   "execution_count": 6,
   "metadata": {},
   "outputs": [],
   "source": [
    "preds[preds >= 0.3] = 1\n",
    "preds[preds < 0.3] = 0"
   ]
  },
  {
   "cell_type": "code",
   "execution_count": 7,
   "metadata": {},
   "outputs": [
    {
     "name": "stdout",
     "output_type": "stream",
     "text": [
      "Organisation Precision: 0.4444444444444444 Recall: 0.36363636363636365 F1 Score: 0.39999999999999997\n",
      "Location Precision: 0.38461538461538464 Recall: 0.4166666666666667 F1 Score: 0.4\n",
      "Individual Precision: 0.5606060606060606 Recall: 0.6981132075471698 F1 Score: 0.6218487394957982\n",
      "Community Precision: 0.5319148936170213 Recall: 0.7352941176470589 F1 Score: 0.617283950617284\n",
      "None Precision: 0.8962264150943396 Recall: 0.9313725490196079 F1 Score: 0.9134615384615385\n"
     ]
    }
   ],
   "source": [
    "mapping = {0: \"Organisation\", 1: \"Location\", 2: \"Individual\", 3: \"Community\", 4: \"None\"}\n",
    "for i in range(0, 5):\n",
    "    print(f\"{mapping[i]} Precision: {precision_score(labels[:, i], preds[:, i])} Recall: {recall_score(labels[:, i], preds[:, i])} F1 Score: {f1_score(labels[:, i], preds[:, i])}\")"
   ]
  },
  {
   "cell_type": "code",
   "execution_count": null,
   "metadata": {},
   "outputs": [],
   "source": []
  }
 ],
 "metadata": {
  "kernelspec": {
   "display_name": "Python 3.9.12 ('pytorch_env')",
   "language": "python",
   "name": "python3"
  },
  "language_info": {
   "codemirror_mode": {
    "name": "ipython",
    "version": 3
   },
   "file_extension": ".py",
   "mimetype": "text/x-python",
   "name": "python",
   "nbconvert_exporter": "python",
   "pygments_lexer": "ipython3",
   "version": "3.9.12"
  },
  "orig_nbformat": 4,
  "vscode": {
   "interpreter": {
    "hash": "e1c52e40170142f5541aa09caa5b6b3842649e4fc0a41584079d4a414bf3cd2c"
   }
  }
 },
 "nbformat": 4,
 "nbformat_minor": 2
}
