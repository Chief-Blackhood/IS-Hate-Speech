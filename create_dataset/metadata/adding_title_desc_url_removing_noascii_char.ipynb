{
 "cells": [
  {
   "cell_type": "code",
   "execution_count": 120,
   "metadata": {},
   "outputs": [],
   "source": [
    "import json\n",
    "import pandas as pd\n",
    "# from keybert import KeyBert"
   ]
  },
  {
   "cell_type": "code",
   "execution_count": 121,
   "metadata": {},
   "outputs": [],
   "source": [
    "with open('youtube_data.json', 'r') as f:\n",
    "    data = json.load(f)"
   ]
  },
  {
   "cell_type": "code",
   "execution_count": 122,
   "metadata": {},
   "outputs": [],
   "source": [
    "temp_dic = ({'url': [], 'title': [], 'desc': []})"
   ]
  },
  {
   "cell_type": "code",
   "execution_count": 123,
   "metadata": {},
   "outputs": [],
   "source": [
    "for item in data:\n",
    "    title = item['stats']['title'].encode('utf-16', 'surrogatepass').decode('utf-16')\n",
    "    desc = item['stats']['description'].encode('utf-16', 'surrogatepass').decode('utf-16') \n",
    "    url = item['url']\n",
    "    temp_dic['url'].append(url)\n",
    "    temp_dic['title'].append(title)\n",
    "    temp_dic['desc'].append(desc)"
   ]
  },
  {
   "cell_type": "code",
   "execution_count": 124,
   "metadata": {},
   "outputs": [
    {
     "data": {
      "text/plain": [
       "'NZ Māori Party calls for a ‘divorce’ from the British Monarchy'"
      ]
     },
     "execution_count": 124,
     "metadata": {},
     "output_type": "execute_result"
    }
   ],
   "source": [
    "test = 'NZ M\\u0101ori Party calls for a \\u2018divorce\\u2019 from the British Monarchy'\n",
    "test.encode('utf-16', 'surrogatepass').decode('utf-16')"
   ]
  },
  {
   "cell_type": "code",
   "execution_count": 125,
   "metadata": {},
   "outputs": [],
   "source": [
    "with open('bitchute_data.json', 'r') as f:\n",
    "    bitchute = json.load(f)"
   ]
  },
  {
   "cell_type": "code",
   "execution_count": 126,
   "metadata": {},
   "outputs": [],
   "source": [
    "\n",
    "with open('metadata/non_hate_youtube_data.json', 'r') as f:\n",
    "    non_hate = json.load(f)"
   ]
  },
  {
   "cell_type": "code",
   "execution_count": 127,
   "metadata": {},
   "outputs": [],
   "source": [
    "for item in bitchute:\n",
    "    title = item['title'].encode('utf-16', 'surrogatepass').decode('utf-16')\n",
    "    desc = item['description'].encode('utf-16', 'surrogatepass').decode('utf-16') \n",
    "    url = item['url']\n",
    "    temp_dic['url'].append(url)\n",
    "    temp_dic['title'].append(title)\n",
    "    temp_dic['desc'].append(desc)"
   ]
  },
  {
   "cell_type": "code",
   "execution_count": 128,
   "metadata": {},
   "outputs": [],
   "source": [
    "for item in non_hate:\n",
    "    title = item['stats']['title'].encode('utf-16', 'surrogatepass').decode('utf-16')\n",
    "    desc = item['stats']['description'].encode('utf-16', 'surrogatepass').decode('utf-16') \n",
    "    url = item['url']\n",
    "    temp_dic['url'].append(url)\n",
    "    temp_dic['title'].append(title)\n",
    "    temp_dic['desc'].append(desc)"
   ]
  },
  {
   "cell_type": "code",
   "execution_count": 129,
   "metadata": {},
   "outputs": [],
   "source": [
    "df = pd.DataFrame(temp_dic)"
   ]
  },
  {
   "cell_type": "code",
   "execution_count": 130,
   "metadata": {},
   "outputs": [
    {
     "data": {
      "text/html": [
       "<div>\n",
       "<style scoped>\n",
       "    .dataframe tbody tr th:only-of-type {\n",
       "        vertical-align: middle;\n",
       "    }\n",
       "\n",
       "    .dataframe tbody tr th {\n",
       "        vertical-align: top;\n",
       "    }\n",
       "\n",
       "    .dataframe thead th {\n",
       "        text-align: right;\n",
       "    }\n",
       "</style>\n",
       "<table border=\"1\" class=\"dataframe\">\n",
       "  <thead>\n",
       "    <tr style=\"text-align: right;\">\n",
       "      <th></th>\n",
       "      <th>url</th>\n",
       "      <th>title</th>\n",
       "      <th>desc</th>\n",
       "    </tr>\n",
       "  </thead>\n",
       "  <tbody>\n",
       "    <tr>\n",
       "      <th>0</th>\n",
       "      <td>https://www.youtube.com/watch?v=C0MjY_tpG-I</td>\n",
       "      <td>NZ Māori Party calls for a ‘divorce’ from the ...</td>\n",
       "      <td>Sky News host Peta Credlin says the New Zealan...</td>\n",
       "    </tr>\n",
       "    <tr>\n",
       "      <th>1</th>\n",
       "      <td>https://www.youtube.com/watch?v=vXoqfoAXR44</td>\n",
       "      <td>Is India preparing to take back PoK? Air Force...</td>\n",
       "      <td>Pakistan should start counting its days, as Pr...</td>\n",
       "    </tr>\n",
       "    <tr>\n",
       "      <th>2</th>\n",
       "      <td>https://www.youtube.com/watch?v=mndBZFdPyVw&amp;t=...</td>\n",
       "      <td>How To Make Veg Enchiladas | Vegetarian Enchil...</td>\n",
       "      <td>Veg Enchiladas Recipe | How To Make Enchiladas...</td>\n",
       "    </tr>\n",
       "    <tr>\n",
       "      <th>3</th>\n",
       "      <td>https://www.youtube.com/watch?v=6a_ONOdfJTU</td>\n",
       "      <td>CNN’s Medical Expert Gives HORRIFYING Reason W...</td>\n",
       "      <td>Enjoy Healthy Aging Support of Collagen \\nhttp...</td>\n",
       "    </tr>\n",
       "    <tr>\n",
       "      <th>4</th>\n",
       "      <td>https://www.youtube.com/watch?v=27q2nnvwfUQ&amp;t=14s</td>\n",
       "      <td>Salma Hayek Reveals What Her Daughter Valentin...</td>\n",
       "      <td>“Extra” Special Correspondent Samantha Harris ...</td>\n",
       "    </tr>\n",
       "  </tbody>\n",
       "</table>\n",
       "</div>"
      ],
      "text/plain": [
       "                                                 url  \\\n",
       "0        https://www.youtube.com/watch?v=C0MjY_tpG-I   \n",
       "1        https://www.youtube.com/watch?v=vXoqfoAXR44   \n",
       "2  https://www.youtube.com/watch?v=mndBZFdPyVw&t=...   \n",
       "3        https://www.youtube.com/watch?v=6a_ONOdfJTU   \n",
       "4  https://www.youtube.com/watch?v=27q2nnvwfUQ&t=14s   \n",
       "\n",
       "                                               title  \\\n",
       "0  NZ Māori Party calls for a ‘divorce’ from the ...   \n",
       "1  Is India preparing to take back PoK? Air Force...   \n",
       "2  How To Make Veg Enchiladas | Vegetarian Enchil...   \n",
       "3  CNN’s Medical Expert Gives HORRIFYING Reason W...   \n",
       "4  Salma Hayek Reveals What Her Daughter Valentin...   \n",
       "\n",
       "                                                desc  \n",
       "0  Sky News host Peta Credlin says the New Zealan...  \n",
       "1  Pakistan should start counting its days, as Pr...  \n",
       "2  Veg Enchiladas Recipe | How To Make Enchiladas...  \n",
       "3  Enjoy Healthy Aging Support of Collagen \\nhttp...  \n",
       "4  “Extra” Special Correspondent Samantha Harris ...  "
      ]
     },
     "execution_count": 130,
     "metadata": {},
     "output_type": "execute_result"
    }
   ],
   "source": [
    "df.head()"
   ]
  },
  {
   "cell_type": "code",
   "execution_count": 131,
   "metadata": {},
   "outputs": [],
   "source": [
    "df.to_csv('./data/extra_data.csv', index=False)"
   ]
  },
  {
   "cell_type": "code",
   "execution_count": 132,
   "metadata": {},
   "outputs": [],
   "source": [
    "l = pd.read_csv('data/with_aug/train.csv')"
   ]
  },
  {
   "cell_type": "code",
   "execution_count": 133,
   "metadata": {},
   "outputs": [],
   "source": [
    "f = pd.merge(l, df, how='left', on='url')"
   ]
  },
  {
   "cell_type": "code",
   "execution_count": 134,
   "metadata": {},
   "outputs": [
    {
     "data": {
      "text/plain": [
       "False"
      ]
     },
     "execution_count": 134,
     "metadata": {},
     "output_type": "execute_result"
    }
   ],
   "source": [
    "f['title'].isnull().values.any()"
   ]
  },
  {
   "cell_type": "code",
   "execution_count": 135,
   "metadata": {},
   "outputs": [
    {
     "data": {
      "text/plain": [
       "[]"
      ]
     },
     "execution_count": 135,
     "metadata": {},
     "output_type": "execute_result"
    }
   ],
   "source": [
    "list(f[f.isnull().any(axis=1)]['url'].unique())"
   ]
  },
  {
   "cell_type": "code",
   "execution_count": null,
   "metadata": {},
   "outputs": [],
   "source": []
  }
 ],
 "metadata": {
  "interpreter": {
   "hash": "08eac26dc1f80337b7d87e94e7159a5bad95c2e85f47efef91c61359b3afbfe9"
  },
  "kernelspec": {
   "display_name": "Python 3.8.12 ('ml')",
   "language": "python",
   "name": "python3"
  },
  "language_info": {
   "codemirror_mode": {
    "name": "ipython",
    "version": 3
   },
   "file_extension": ".py",
   "mimetype": "text/x-python",
   "name": "python",
   "nbconvert_exporter": "python",
   "pygments_lexer": "ipython3",
   "version": "3.8.12"
  },
  "orig_nbformat": 4
 },
 "nbformat": 4,
 "nbformat_minor": 2
}
