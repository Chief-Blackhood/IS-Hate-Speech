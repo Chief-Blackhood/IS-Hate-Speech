{
 "cells": [
  {
   "cell_type": "code",
   "execution_count": 1,
   "id": "64caa03a-7a5a-4bb5-98c2-654d5c79516c",
   "metadata": {},
   "outputs": [],
   "source": [
    "import requests\n",
    "from bs4 import BeautifulSoup"
   ]
  },
  {
   "cell_type": "code",
   "execution_count": 2,
   "id": "ae00b790-14fb-4abb-a475-be01df37a9d9",
   "metadata": {},
   "outputs": [],
   "source": [
    "URL = \"https://www.bitchute.com/video/NGTyxsCNS5Yt/\"\n",
    "# URL = \"https://www.bitchute.com/video/R73tdXjvNqI/\"\n",
    "r = requests.get(URL)\n",
    "soup = BeautifulSoup(r.content, 'html.parser')\n",
    "video_data = {'url': URL}"
   ]
  },
  {
   "cell_type": "code",
   "execution_count": 3,
   "id": "5ff12734-920a-416b-a6cb-c46154a27090",
   "metadata": {},
   "outputs": [],
   "source": [
    "# Title\n",
    "video_data['title'] = soup.find('h1', attrs = {'class':'page-title'}).text"
   ]
  },
  {
   "cell_type": "code",
   "execution_count": 4,
   "id": "494dc631-68c3-4ebf-bae1-7efed82be62b",
   "metadata": {},
   "outputs": [],
   "source": [
    "# Numbers and Stats\n",
    "headers = {\n",
    "    'authority': 'www.bitchute.com',\n",
    "    'content-type': 'application/x-www-form-urlencoded; charset=UTF-8',\n",
    "    'origin': 'https://www.bitchute.com',\n",
    "    'referer': f'{URL}',\n",
    "    'cookie': 'csrftoken=rINo5VQtVi97l3XNI8dMIa9O6rhl0n9TYVdgpIuoievjMfdE0YQ1lnrA7q57z9ng',\n",
    "    'accept': '*/*'\n",
    "}\n",
    "data = 'csrfmiddlewaretoken=rINo5VQtVi97l3XNI8dMIa9O6rhl0n9TYVdgpIuoievjMfdE0YQ1lnrA7q57z9ng'\n",
    "res = requests.post(f'{URL}counts/', data = data, headers = headers).json()\n",
    "video_data.update(res)\n"
   ]
  },
  {
   "cell_type": "code",
   "execution_count": 5,
   "id": "d06a7f98-faf0-40e3-a1af-9ce718561d64",
   "metadata": {},
   "outputs": [
    {
     "data": {
      "text/plain": [
       "{'url': 'https://www.bitchute.com/video/NGTyxsCNS5Yt/',\n",
       " 'title': 'George Floyd Dancers',\n",
       " 'success': True,\n",
       " 'view_count': 50081,\n",
       " 'like_count': 8,\n",
       " 'dislike_count': 6,\n",
       " 'subscriber_count': 295}"
      ]
     },
     "execution_count": 5,
     "metadata": {},
     "output_type": "execute_result"
    }
   ],
   "source": [
    "video_data"
   ]
  },
  {
   "cell_type": "code",
   "execution_count": 6,
   "id": "0b2bd6e9-4026-48b1-b939-a999a8c00fa7",
   "metadata": {},
   "outputs": [],
   "source": [
    "# Video Description\n",
    "description_div = soup.find('div', attrs = {'class': 'video-detail-text', 'id':'video-description'})\n",
    "full_desc = description_div.find('div', attrs = {'class': 'full hidden'})\n",
    "desc = []\n",
    "for p in full_desc.find_all('p'):\n",
    "    desc.append(p.text)\n",
    "video_data['description'] = \" \".join(desc)"
   ]
  },
  {
   "cell_type": "code",
   "execution_count": 7,
   "id": "4f777eaa-e1a7-4109-9f82-8a88475c37f4",
   "metadata": {},
   "outputs": [
    {
     "data": {
      "text/plain": [
       "{'url': 'https://www.bitchute.com/video/NGTyxsCNS5Yt/',\n",
       " 'title': 'George Floyd Dancers',\n",
       " 'success': True,\n",
       " 'view_count': 50081,\n",
       " 'like_count': 8,\n",
       " 'dislike_count': 6,\n",
       " 'subscriber_count': 295,\n",
       " 'description': 'Sports... sigh.'}"
      ]
     },
     "execution_count": 7,
     "metadata": {},
     "output_type": "execute_result"
    }
   ],
   "source": [
    "video_data"
   ]
  },
  {
   "cell_type": "code",
   "execution_count": 8,
   "id": "26e87963-6c15-4098-9fec-414e50ee59f9",
   "metadata": {},
   "outputs": [],
   "source": [
    "# Tags\n",
    "tags_span = soup.find('span', attrs = {'class': 'tags', 'id':'video-hashtags'})\n",
    "tags = []\n",
    "for tag in tags_span.find_all('a'):\n",
    "    tags.append(tag.text[1:])\n",
    "video_data['tags'] = tags"
   ]
  },
  {
   "cell_type": "code",
   "execution_count": 9,
   "id": "5fc18733-e25e-4185-b6db-64a43b85b13a",
   "metadata": {},
   "outputs": [
    {
     "data": {
      "text/plain": [
       "{'url': 'https://www.bitchute.com/video/NGTyxsCNS5Yt/',\n",
       " 'title': 'George Floyd Dancers',\n",
       " 'success': True,\n",
       " 'view_count': 50081,\n",
       " 'like_count': 8,\n",
       " 'dislike_count': 6,\n",
       " 'subscriber_count': 295,\n",
       " 'description': 'Sports... sigh.',\n",
       " 'tags': ['blm', 'earthquake', 'queen']}"
      ]
     },
     "execution_count": 9,
     "metadata": {},
     "output_type": "execute_result"
    }
   ],
   "source": [
    "video_data"
   ]
  },
  {
   "cell_type": "code",
   "execution_count": 10,
   "id": "87b80d3b-857a-4238-ac42-1a4feb0f2d16",
   "metadata": {},
   "outputs": [],
   "source": [
    "# Video URL to download video\n",
    "video = soup.find('video', attrs = {'id': 'player', 'class': 'player'})\n",
    "video_data['video_url'] = video.source['src']"
   ]
  },
  {
   "cell_type": "code",
   "execution_count": 11,
   "id": "07254a07-f54c-426d-8bd9-a6bc732063c0",
   "metadata": {},
   "outputs": [
    {
     "data": {
      "text/plain": [
       "{'url': 'https://www.bitchute.com/video/NGTyxsCNS5Yt/',\n",
       " 'title': 'George Floyd Dancers',\n",
       " 'success': True,\n",
       " 'view_count': 50081,\n",
       " 'like_count': 8,\n",
       " 'dislike_count': 6,\n",
       " 'subscriber_count': 295,\n",
       " 'description': 'Sports... sigh.',\n",
       " 'tags': ['blm', 'earthquake', 'queen'],\n",
       " 'video_url': 'https://seed163.bitchute.com/yiXO3ebLbdPe/NGTyxsCNS5Yt.mp4'}"
      ]
     },
     "execution_count": 11,
     "metadata": {},
     "output_type": "execute_result"
    }
   ],
   "source": [
    "video_data"
   ]
  },
  {
   "cell_type": "code",
   "execution_count": 12,
   "id": "b52c4e73-f092-4a3c-abe0-a34febb2b09a",
   "metadata": {},
   "outputs": [],
   "source": [
    "# Comments\n",
    "headers = {\n",
    "    'authority': 'commentfreely.bitchute.com',\n",
    "    'content-type': 'application/x-www-form-urlencoded; charset=UTF-8',\n",
    "    'origin': 'https://www.bitchute.com',\n",
    "}\n",
    "data = 'cf_auth=eyJwcm9maWxlX2lkIjogImFub255bW91cyIsICJvd25lcl9pZCI6ICJmQjRBQWYxZnJoc00iLCAiZGlzcGxheV9uYW1lIjogImFub255bW91cyIsICJ0aHJlYWRfaWQiOiAiYmNfSWVoQTliTTNBUWwxIiwgImljb25fdXJsIjogIi9zdGF0aWMvdjEzNS9pbWFnZXMvYmxhbmstcHJvZmlsZS5wbmciLCAiY2ZfaXNfYWRtaW4iOiAiZmFsc2UifQ%3D%3D+8610c55261a3e3454e5cd41528c55e2e1a55f150761e6753a90b1ff4830366db+1641106687&commentCount=0&isNameValuesArrays=true'\n",
    "comments = requests.post('https://commentfreely.bitchute.com/api/get_comments/', data = data, headers = headers).json()\n",
    "video_data['comments'] = comments"
   ]
  },
  {
   "cell_type": "code",
   "execution_count": 13,
   "id": "790848f3-13d1-4c67-b92c-613339049020",
   "metadata": {},
   "outputs": [
    {
     "name": "stdout",
     "output_type": "stream",
     "text": [
      "['id', 'parent', 'created', 'modified', 'content', 'pings', 'creator', 'fullname', 'created_by_admin', 'created_by_current_user', 'up_vote_count', 'down_vote_count', 'user_vote', 'is_new', 'profile_picture_url', 'attachments']\n"
     ]
    }
   ],
   "source": [
    "print(video_data['comments']['names'])"
   ]
  },
  {
   "cell_type": "code",
   "execution_count": 14,
   "id": "3dc6d3d1-5003-4297-88d5-44d930923fb5",
   "metadata": {},
   "outputs": [
    {
     "name": "stdout",
     "output_type": "stream",
     "text": [
      "[['UjB7kDaD66EDcnsCruq2XgzG0Jt1KC9lThRZ', None, '2020-08-26 23:28:46.056913+00:00', None, \"What's the problem with busing? Can someone tell me? I hate biden but idk what the problem is with busing.\", [], 'IYNTrvvrUEBS', 'Jbranham', False, False, 1, 0, None, False, '/static/v136/images/blank-profile.png', []], ['Fxa7IE2n2VDJf5NLR4z2HO5ZOFXg4AeQgwWP', 'UjB7kDaD66EDcnsCruq2XgzG0Jt1KC9lThRZ', '2020-08-26 23:45:08.939402+00:00', None, 'I don’t know if they offered any non-racist arguments at the time, but on its face, I’d say that FORCED integration isn’t integration at all... its just forcing two very different communities together that may or may not want to associate with each other 🤷\\u200d♂️', [], 'MmRvsAbILav0', 'BCBill', False, False, 6, 0, None, False, '/static/v136/images/blank-profile.png', []]]\n"
     ]
    }
   ],
   "source": [
    "print(video_data['comments']['values'][:2])"
   ]
  },
  {
   "cell_type": "code",
   "execution_count": null,
   "id": "348fe906-e847-4595-9700-1ba77d2d0157",
   "metadata": {},
   "outputs": [],
   "source": []
  }
 ],
 "metadata": {
  "kernelspec": {
   "display_name": "Python 3",
   "language": "python",
   "name": "python3"
  },
  "language_info": {
   "codemirror_mode": {
    "name": "ipython",
    "version": 3
   },
   "file_extension": ".py",
   "mimetype": "text/x-python",
   "name": "python",
   "nbconvert_exporter": "python",
   "pygments_lexer": "ipython3",
   "version": "3.8.10"
  }
 },
 "nbformat": 4,
 "nbformat_minor": 5
}
