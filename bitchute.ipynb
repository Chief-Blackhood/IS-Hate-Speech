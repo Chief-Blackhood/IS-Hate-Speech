{
 "cells": [
  {
   "cell_type": "code",
   "execution_count": 2,
   "id": "64caa03a-7a5a-4bb5-98c2-654d5c79516c",
   "metadata": {},
   "outputs": [],
   "source": [
    "import requests\n",
    "from bs4 import BeautifulSoup\n",
    "\n"
   ]
  },
  {
   "cell_type": "code",
   "execution_count": 4,
   "id": "ae00b790-14fb-4abb-a475-be01df37a9d9",
   "metadata": {},
   "outputs": [],
   "source": [
    "URL = \"https://www.bitchute.com/video/IehA9bM3AQl1/\"\n",
    "# URL = \"https://www.bitchute.com/video/R73tdXjvNqI/\"\n",
    "r = requests.get(URL)\n",
    "soup = BeautifulSoup(r.content, 'html.parser')\n",
    "video_data = {'url': URL}"
   ]
  },
  {
   "cell_type": "code",
   "execution_count": 5,
   "id": "5ff12734-920a-416b-a6cb-c46154a27090",
   "metadata": {},
   "outputs": [],
   "source": [
    "# Title\n",
    "video_data['title'] = soup.find('h1', attrs = {'class':'page-title'}).text"
   ]
  },
  {
   "cell_type": "code",
   "execution_count": 10,
   "id": "494dc631-68c3-4ebf-bae1-7efed82be62b",
   "metadata": {},
   "outputs": [],
   "source": [
    "# Numbers and Stats\n",
    "headers = {\n",
    "    'authority': 'www.bitchute.com',\n",
    "    'content-type': 'application/x-www-form-urlencoded; charset=UTF-8',\n",
    "    'origin': 'https://www.bitchute.com',\n",
    "    'referer': f'{URL}',\n",
    "    'cookie': 'csrftoken=rINo5VQtVi97l3XNI8dMIa9O6rhl0n9TYVdgpIuoievjMfdE0YQ1lnrA7q57z9ng',\n",
    "    'accept': '*/*'\n",
    "}\n",
    "data = 'csrfmiddlewaretoken=rINo5VQtVi97l3XNI8dMIa9O6rhl0n9TYVdgpIuoievjMfdE0YQ1lnrA7q57z9ng'\n",
    "res = requests.post(f'{URL}counts/', data = data, headers = headers).json()\n",
    "video_data.update(res)\n"
   ]
  },
  {
   "cell_type": "code",
   "execution_count": 11,
   "id": "d06a7f98-faf0-40e3-a1af-9ce718561d64",
   "metadata": {},
   "outputs": [
    {
     "data": {
      "text/plain": [
       "{'url': 'https://www.bitchute.com/video/IehA9bM3AQl1/',\n",
       " 'title': 'Jim Crow Joe | The Racist History of Joe Biden',\n",
       " 'success': True,\n",
       " 'view_count': 49274,\n",
       " 'like_count': 246,\n",
       " 'dislike_count': 4,\n",
       " 'subscriber_count': 148,\n",
       " 'description': 'None'}"
      ]
     },
     "execution_count": 11,
     "metadata": {},
     "output_type": "execute_result"
    }
   ],
   "source": [
    "video_data"
   ]
  },
  {
   "cell_type": "code",
   "execution_count": 8,
   "id": "0b2bd6e9-4026-48b1-b939-a999a8c00fa7",
   "metadata": {},
   "outputs": [],
   "source": [
    "# Video Description\n",
    "description_div = soup.find('div', attrs = {'class': 'video-detail-text', 'id':'video-description'})\n",
    "full_desc = description_div.find('div', attrs = {'class': 'full hidden'})\n",
    "desc = []\n",
    "for p in full_desc.find_all('p'):\n",
    "    desc.append(p.text)\n",
    "video_data['description'] = \" \".join(desc)"
   ]
  },
  {
   "cell_type": "code",
   "execution_count": 9,
   "id": "4f777eaa-e1a7-4109-9f82-8a88475c37f4",
   "metadata": {},
   "outputs": [
    {
     "data": {
      "text/plain": [
       "{'url': 'https://www.bitchute.com/video/IehA9bM3AQl1/',\n",
       " 'title': 'Jim Crow Joe | The Racist History of Joe Biden',\n",
       " 'success': True,\n",
       " 'view_count': 49274,\n",
       " 'like_count': 246,\n",
       " 'dislike_count': 4,\n",
       " 'subscriber_count': 148,\n",
       " 'description': 'None'}"
      ]
     },
     "execution_count": 9,
     "metadata": {},
     "output_type": "execute_result"
    }
   ],
   "source": [
    "video_data"
   ]
  },
  {
   "cell_type": "code",
   "execution_count": 8,
   "id": "87b80d3b-857a-4238-ac42-1a4feb0f2d16",
   "metadata": {},
   "outputs": [],
   "source": [
    "# Video URL to download video\n",
    "video = soup.find('video', attrs = {'id': 'player', 'class': 'player'})\n",
    "video_data['video_url'] = video.source['src']\n"
   ]
  },
  {
   "cell_type": "code",
   "execution_count": 9,
   "id": "07254a07-f54c-426d-8bd9-a6bc732063c0",
   "metadata": {},
   "outputs": [
    {
     "data": {
      "text/plain": [
       "{'url': 'https://www.bitchute.com/video/IehA9bM3AQl1/',\n",
       " 'title': 'Jim Crow Joe | The Racist History of Joe Biden',\n",
       " 'success': True,\n",
       " 'view_count': 49273,\n",
       " 'like_count': 246,\n",
       " 'dislike_count': 4,\n",
       " 'subscriber_count': 148,\n",
       " 'description': 'None',\n",
       " 'video_url': 'https://seed305.bitchute.com/gULJTTe06YGT/IehA9bM3AQl1.mp4'}"
      ]
     },
     "execution_count": 9,
     "metadata": {},
     "output_type": "execute_result"
    }
   ],
   "source": [
    "video_data"
   ]
  },
  {
   "cell_type": "code",
   "execution_count": 10,
   "id": "b52c4e73-f092-4a3c-abe0-a34febb2b09a",
   "metadata": {},
   "outputs": [],
   "source": [
    "# Comments\n",
    "headers = {\n",
    "    'authority': 'commentfreely.bitchute.com',\n",
    "    'content-type': 'application/x-www-form-urlencoded; charset=UTF-8',\n",
    "    'origin': 'https://www.bitchute.com',\n",
    "}\n",
    "data = 'cf_auth=eyJwcm9maWxlX2lkIjogImFub255bW91cyIsICJvd25lcl9pZCI6ICJmQjRBQWYxZnJoc00iLCAiZGlzcGxheV9uYW1lIjogImFub255bW91cyIsICJ0aHJlYWRfaWQiOiAiYmNfSWVoQTliTTNBUWwxIiwgImljb25fdXJsIjogIi9zdGF0aWMvdjEzNS9pbWFnZXMvYmxhbmstcHJvZmlsZS5wbmciLCAiY2ZfaXNfYWRtaW4iOiAiZmFsc2UifQ%3D%3D+8610c55261a3e3454e5cd41528c55e2e1a55f150761e6753a90b1ff4830366db+1641106687&commentCount=0&isNameValuesArrays=true'\n",
    "comments = requests.post('https://commentfreely.bitchute.com/api/get_comments/', data = data, headers = headers).json()\n",
    "video_data['comments'] = comments"
   ]
  },
  {
   "cell_type": "code",
   "execution_count": 11,
   "id": "790848f3-13d1-4c67-b92c-613339049020",
   "metadata": {},
   "outputs": [
    {
     "name": "stdout",
     "output_type": "stream",
     "text": [
      "{'url': 'https://www.bitchute.com/video/IehA9bM3AQl1/', 'title': 'Jim Crow Joe | The Racist History of Joe Biden', 'success': True, 'view_count': 49273, 'like_count': 246, 'dislike_count': 4, 'subscriber_count': 148, 'description': 'None', 'video_url': 'https://seed305.bitchute.com/gULJTTe06YGT/IehA9bM3AQl1.mp4', 'comments': {'names': ['id', 'parent', 'created', 'modified', 'content', 'pings', 'creator', 'fullname', 'created_by_admin', 'created_by_current_user', 'up_vote_count', 'down_vote_count', 'user_vote', 'is_new', 'profile_picture_url', 'attachments'], 'values': [['UjB7kDaD66EDcnsCruq2XgzG0Jt1KC9lThRZ', None, '2020-08-26 23:28:46.056913+00:00', None, \"What's the problem with busing? Can someone tell me? I hate biden but idk what the problem is with busing.\", [], 'IYNTrvvrUEBS', 'Jbranham', False, False, 1, 0, None, False, '/static/v135/images/blank-profile.png', []], ['Fxa7IE2n2VDJf5NLR4z2HO5ZOFXg4AeQgwWP', 'UjB7kDaD66EDcnsCruq2XgzG0Jt1KC9lThRZ', '2020-08-26 23:45:08.939402+00:00', None, 'I don’t know if they offered any non-racist arguments at the time, but on its face, I’d say that FORCED integration isn’t integration at all... its just forcing two very different communities together that may or may not want to associate with each other 🤷\\u200d♂️', [], 'MmRvsAbILav0', 'BCBill', False, False, 6, 0, None, False, '/static/v135/images/blank-profile.png', []], ['WpzeVIaB1LSwuIeWr5JNjghJ19wsbZSKKRTc', 'Fxa7IE2n2VDJf5NLR4z2HO5ZOFXg4AeQgwWP', '2020-09-10 15:06:10.003661+00:00', None, \"I agree that government should not force people to associate with groups they don't want to. This is my issue with bussing, allow integration to happen naturally remove the barriers and unfair laws but don't force it. \", [], '3jEE5IhYP3gq', 'darkkent85', False, False, 3, 0, None, False, '/static/v135/images/blank-profile.png', []], ['ogbLm8uCtOnJDSmZp2xNTfQYUj85QECMEfFa', None, '2020-09-16 00:20:58.276088+00:00', None, 'I didn’t know Biden was so racist, he definitely got my vote. ', [], '86KLwW16j7ni', 'USFreeRadio', False, False, 8, 0, None, False, 'https://static-3.bitchute.com/live/profile_images/86KLwW16j7ni/KGWxqVu0thXCiDMsmRl8cggA_medium.jpg', []], ['Yoey5QOV5DaO8Qz3QvlsohFgUhak8llwjJyp', None, '2020-09-16 05:54:51.918591+00:00', None, \"What an interesting little film, wonder why the film isn't on YouTube as well?\\nYes in my dreams. We all know why it's not on ThemTube!\", [], 'YM1S43YAN56E', 'BufferTube', False, False, 4, 0, None, False, '/static/v135/images/blank-profile.png', []], ['8at9jt8HZe59NyYBnlMOUP9hcNhhWIhmVeIF', None, '2020-09-22 02:36:43.224699+00:00', '2020-09-22 02:37:23.309923+00:00', 'Wow, this is the 2nd video of RACIST JOE BIDEN. This time he said the N word. How can anyone love such hate??? #MyHeartCRIES #FoolsForDivision \\nGOD is separating His people, choose a side wisely in this battle between GOOD vs EVIL. ', [], 'mVtRLVltrKd1', 'Respect2Glory', False, False, 2, 0, None, False, '/static/v135/images/blank-profile.png', []], ['fFrGdbSdxJtIpmr5bIVy3HxsmXnmuzfJjway', 'ogbLm8uCtOnJDSmZp2xNTfQYUj85QECMEfFa', '2020-09-22 02:39:16.687119+00:00', None, \"He's not JUST racist. They are satanists, stealing and eating our children. \\n \\n(EVIDENCE LINKS BELOW) PRAY!!!! #GODisFORus!! Our Corrupt Leaders are under judgement and are being removed. Ask Jesus what to do, and you will outsmart our enemies, just as President Trump has been doing for 4 years. Trump will have a second term. SEE the rally sizes via youtube videos; Trump has thousands and thousands of supporters at each and every rally, while Biden is hard pressed to gain a hundred people. In fact, his prior rallies were 19 people, and 12 people before that were half media. \\n \\nEVIDENCE OF CORRUPT DEMOCRAPS -- Sidney Powell-Weiner laptop-HRC server • 98,603 views -- https://www.youtube.com/watch?v=s2JZffZUGhg -- Mar 12, 2020\\n \\nDEMS DAMNING SATANIC EVIDENCE - WARNING: ACTUAL CRIME SCENE PHOTOS ON THIS PAGE -- DO NOT VIEW IN PRESENCE OF CHILDREN -- https://beforeitsnews.com/alternative/2020/08/pedogate-2020-massive-update-3729028.html\\n \\nSMART PEOPLE in Miami threatened to boycott the restaurant Kamala visited. -- https://twitchy.com/brads-313037/2020/09/16/miami-restaurant-unhappy-with-the-visit-made-by-kamala-harris-as-customers-threaten-to-boycott/?fbclid=IwAR2p-thVQOZMSYS2w_50Xetm8FtF8DuP-n2nv2uVIsz0e2Rtl9Q92Lt-wx4 -- 16SEP2020 \\n \\nWATCH THIS VIDEO that the Corrupt DEMS do not want the world to see, which explains why the Corrupt Ones are hellbent against Trump, in their attempt to avoid arrests... \\n \\nDonald J. Trump: The Long Road to the White House (1980 - 2017) \\n-- https://www.youtube.com/watch?v=305-erOr3jk - youtube.com -- and while you're there, watch a few of the many #WalkAway videos to find out why so many DEMS have left the party. It's of Biblical proportions! \\n \\nWATCH the 'longer version of the videos' from the CLIPS that DEMS / MSM report on the news - TO SEE DEM LIES, that even a child can twist the facts to blame another person. The TELL is when they pile on absurdities to cement their lie. \\n \\n#Trump2020 The Sequel: FINISH DRAINING THE CORRUPT SWAMP !!! 🇺🇸🌟💝🌟🇺🇸 #GODisFORus!! #JesusANSWERS\", [], 'mVtRLVltrKd1', 'Respect2Glory', False, False, 9, 0, None, False, '/static/v135/images/blank-profile.png', []], ['MHUpgEkXLV5VPfA22d2hn961aD4rOml0Hu7Y', None, '2020-09-22 18:26:04.920838+00:00', None, \"The sad part is that the left will still vote for this racist prick anyway, because they don't actually care about their own supposed principles; they care about NOTHING MORE than feeling good about themselves, like they're on the right side of history or some shit!\", [], 'MgnAiNUdu4AQ', 'ThatNevadaAsshole', False, False, 7, 0, None, False, 'https://static-3.bitchute.com/live/profile_images/MgnAiNUdu4AQ/AkTMMklT3qYqlGoGeXRQXtEw_medium.jpg', []], ['oUYqDyk1Pj9JBefEnYY8EdiMbcUU7r7GAAgb', None, '2020-10-01 18:27:32.152573+00:00', None, 'How do we get Trump to tweet this?', [], 'w2aZ1VfaukqZ', 'Senior_Woodz', False, False, 4, 0, None, False, '/static/v135/images/blank-profile.png', []], ['kQxJO1qFFCiBAS3Eo15JQNyD7FluIcGZb5Un', None, '2020-10-03 18:33:41.348939+00:00', None, 'Who does a racist vote for now? Biden has the experience. ', [], 'G1JHG8hajjak', 'MaxRandom', False, False, 3, 0, None, False, 'https://static-3.bitchute.com/live/profile_images/G1JHG8hajjak/ACtDRdbgt665F12ddWbSbWpS_medium.jpg', []], ['hSqzSZMhxRTWIGNagOW16fxj7AoZlfu1GaDA', None, '2020-10-04 17:12:31.931611+00:00', None, 'WTF I love Joe Biden now', [], 'VE0zIo9sZgOt', 'Liveleak Highlights1', False, False, 5, 0, None, False, 'https://static-3.bitchute.com/live/profile_images/VE0zIo9sZgOt/LT6DNAvvITbAWKlA6GzEKVAh_medium.jpg', []], ['pobhrA7ew2sL41O3ZN1Y1pZM9hmmDTXA7Tdg', None, '2020-10-11 13:23:02.413327+00:00', None, \"You're not pro-Jim Crow? Very odd; our people must survive. \", [], 'k5So0Kyb3eL6', 'SlaveryAdvocate.com (D. Bones)', False, False, 0, 0, None, False, 'https://static-3.bitchute.com/live/profile_images/k5So0Kyb3eL6/YEKM8B0RP0ptPrKEOdhtkwvn_medium.jpg', []], ['DxAkqSc1suQlkvTzC0vnzU8nSyEO8nq0ja3G', 'MHUpgEkXLV5VPfA22d2hn961aD4rOml0Hu7Y', '2020-10-11 13:23:54.535046+00:00', None, '\"racist prick\" as opposed to the racially tratorous politicians?', [], 'k5So0Kyb3eL6', 'SlaveryAdvocate.com (D. Bones)', False, False, 5, 0, None, False, 'https://static-3.bitchute.com/live/profile_images/k5So0Kyb3eL6/YEKM8B0RP0ptPrKEOdhtkwvn_medium.jpg', []], ['ArsTE6wPSn8O8YMxVAaJe4WHAeRiNkBwqx2Q', 'UjB7kDaD66EDcnsCruq2XgzG0Jt1KC9lThRZ', '2020-10-20 13:19:10.787828+00:00', None, \"Forcing ppl to cohabitate against their will is a violation of human rights, especially when one group commits upwards of 90% of all violent crime and sexual assault against the other. Ppl have the right to raise their families in peace in whatever environment they feel is best suited for themselves and their families. I think everyone who wants to intermingle should have an option to do so and those who don't should be left alone to live life as they see fit. No person has the right to dictate how another person will live their life and raise their children. Forced cohabitation is immoral and unnecessary, there simply isn't any justification for it at all.\", [], 'XJXgYd2A7DhR', '14ForOurFuture', False, False, 1, 0, None, False, 'https://static-3.bitchute.com/live/profile_images/XJXgYd2A7DhR/pIJHKoevVpxMAc86ReLYyFBP_medium.jpg', []], ['hGUSz96o7mn3zUT8CV3VlEv4yWJG7pzzD86l', None, '2020-10-21 16:57:00.251372+00:00', None, 'You will not replace us.', [], 'HnUKDlNcxULH', 'Ku Klux Klan Archives', False, False, 0, 0, None, False, 'https://static-3.bitchute.com/live/profile_images/HnUKDlNcxULH/zREpzMFQydHbhYTkf5yPce8i_medium.jpg', []], ['AEqDl511uFIcPnA2Un0pRIoIL9fjeG1JSu80', None, '2020-10-29 09:41:19.352639+00:00', None, 'Shit if this Joe Biden ran for POTUS the majority would vote for him. Its either he is a flip flopping snake, a puppet or a demented soul now, probably all three he hasnt spoken with the zeal shown here in decades!\\n', [], '96oKa7fBZtcd', 'JohnConnor', False, False, 4, 0, None, False, '/static/v135/images/blank-profile.png', []], ['khklHWE7q2PPUQPbPb72gl2YbNyRKLfSMst4', 'WpzeVIaB1LSwuIeWr5JNjghJ19wsbZSKKRTc', '2020-11-05 01:30:06.766442+00:00', None, 'To late for that.\\nLong time since when US went multicultural.\\nSo easily divided as a nation with hardly no effort.\\n', [], 'Eu4H0zweX8Uv', 'Eagle21TrueGabriel', False, False, 0, 0, None, False, '/static/v135/images/blank-profile.png', []], ['9KTgSHvjbjkmzLPtXC8qjKcIood2Emh7bHbJ', None, '2020-11-08 06:08:15.168180+00:00', None, 'gtfo', [], 'yS2tLxl0qogX', 'iherky', False, False, 1, 0, None, False, '/static/v135/images/blank-profile.png', []], ['F01APnc2Fow18E5GKxqoZTj1Iy7AeuuT7Jqh', None, '2020-11-08 06:11:35.976035+00:00', None, 'If those crime bill that he passed was implemented as he envisioned, Hunter will be his first victim.\\n', [], 'x3SKdPJHUl8s', 'Heraclio_Fournier', False, False, 2, 0, None, False, '/static/v135/images/blank-profile.png', []], ['UzQXCuHxeLyYfyqoPoPpKYAc39ANO78RKxNv', None, '2020-11-08 06:27:01.852911+00:00', None, 'Show this to any BLM and they will make excuses and justify his actions.😂brain washed niggers', [], 'yARxe3H5kTRd', 'RobbinHood.', False, False, 11, 0, None, False, 'https://static-3.bitchute.com/live/profile_images/yARxe3H5kTRd/A3aJDB849PYN9WGDX1Rq8NAE_medium.jpg', []], ['onsAriJy6ziPkMfjT4AnSh2G677RF0740yWH', None, '2020-11-08 06:43:14.763508+00:00', None, 'Assassinating him will make him a hero, you fool!\\n', [], 'x3SKdPJHUl8s', 'Heraclio_Fournier', False, False, 0, 0, None, False, '/static/v135/images/blank-profile.png', []], ['goRYRttuTp9tNjritqCDkaYe9z8wfkcwSrBn', 'ArsTE6wPSn8O8YMxVAaJe4WHAeRiNkBwqx2Q', '2020-11-08 06:45:54.631700+00:00', None, 'Then they must go to an exclusive private school where their kids are in a sterilized environment. \\n', [], 'x3SKdPJHUl8s', 'Heraclio_Fournier', False, False, 0, 0, None, False, '/static/v135/images/blank-profile.png', []], ['T901zhrEt1ipwS4nQZKiyjLEyh84SbBpvEcp', None, '2020-11-08 13:38:04.204168+00:00', '2020-11-08 13:45:25.078529+00:00', 'That piece of shit just needs to croke! What a total piece of shit! I cannot believe that anyone would vote for this racist demon! And they call Trump racist!!!! I will go to war before this devil steps one foot back in the Whitehouse!', [], 'HhFjvEOLIt1d', 'spongehead', False, False, 7, 0, None, False, '/static/v135/images/blank-profile.png', []], ['S3IYTgaAhcQjxASumk0hHu4x4mLkTU1s4ytK', None, '2020-11-08 13:39:08.181974+00:00', '2020-11-08 13:46:03.856077+00:00', \"This is when cnn wasn't owned by damned globalist Traitors! Why the hell wasn't this shown before the election???\", [], 'HhFjvEOLIt1d', 'spongehead', False, False, 5, 0, None, False, '/static/v135/images/blank-profile.png', []], ['KMyEJWOLfBIROjBMkCeOyHUFTsnBoy4Dr0tW', None, '2020-11-08 13:46:42.155526+00:00', None, 'Exactly!!! But harris is worse! ', [], 'HhFjvEOLIt1d', 'spongehead', False, False, 2, 0, None, False, '/static/v135/images/blank-profile.png', []], ['UCBLcs7FIXRzJ65Tacrj2mIC6n4y8lVOrK6I', None, '2020-11-08 13:48:49.150039+00:00', None, 'Your a hero in my book! Fuck YouTube!! ', [], 'HhFjvEOLIt1d', 'spongehead', False, False, 3, 0, None, False, '/static/v135/images/blank-profile.png', []], ['P74OZaDSPUKdyQBduYf6rrrxALIQDQIxVGtF', None, '2020-11-17 07:56:38.709388+00:00', None, \"Whats really bullshit is you can't even find videos like this on YouTube or any of that bullshit so everyone can see the hypocrisy of everything their selling once and for all\", [], 'PwGuoRrgZcBh', 'Humboldtpatriot1', False, False, 5, 0, None, False, '/static/v135/images/blank-profile.png', []], ['DK9cxIxamLjnvGykaqT1NDXJyKtadGtt56QH', None, '2020-11-25 06:45:26.326952+00:00', None, 'Joe \"the potato\" Biden and Kamaltoe Harris will at least be super easy to make fun of for 4years, should the fraud be allowed to stand ', [], 'PqQG4W2IRVuG', 'Smuckie47', False, False, 1, 0, None, False, '/static/v135/images/blank-profile.png', []], ['OYD78FekftxwncXYHQRyt20rQyArLQ3VG2W3', None, '2020-12-12 00:29:06.001739+00:00', None, 'Biden might be 135 yrs old. ', [], '7nKnxNXLsVdY', 'SocialAssassin4Hire', False, False, 2, 0, None, False, 'https://static-3.bitchute.com/live/profile_images/7nKnxNXLsVdY/7p1gcoFfRq5gtdW00mRj8mWh_medium.jpg', []], ['iA0dDZFUtFElUxUxbJoe0xus6bSQYUQ8di2s', None, '2020-12-13 03:35:49.619996+00:00', None, 'not my problem ', [], 'BCQJuXnyKZq2', 'SherryHodges', False, False, 0, 0, None, False, '/static/v135/images/blank-profile.png', []], ['b2JvjSTG96SJe111EwmnAr86Tq9pZAVjHZMR', None, '2020-12-16 03:59:28.852309+00:00', None, 'Based Joe Biden', [], 'tZN0kBzvPDvJ', 'Lecherous', False, False, 1, 0, None, False, 'https://static-3.bitchute.com/live/profile_images/tZN0kBzvPDvJ/tOuxx6xSwimC4zOqZCD5HXxc_medium.jpg', []], ['oVdaukhoShMmwNcG4pvmm64ADcz4rzcfrX8p', None, '2020-12-19 03:10:02.292855+00:00', '2020-12-19 03:28:41.672512+00:00', 'this guy needs to be hung.he is a fricken crook. he is a puppet of the rich elites of the world. these elites are our enemies not china or russia etc. the gates, rothchilds, rockefellers, morgans of the world. we have to go after these evil people. this covid was no accident, wars are no accident. these evil bastards are responsible.', [], 'jJhryB2ZdTtO', 'tjoe425@yahoo.com', False, False, 8, 0, None, False, '/static/v135/images/blank-profile.png', []], ['2hj3xe5Gv1jtp4a7FpYqlFNvDbtnnSFUShfQ', None, '2020-12-30 17:55:23.263285+00:00', None, 'Biden seems filthy. Compared to him, Trump is an angel.', [], 'RywT4IDdQ3bX', 'mjnelson', False, False, 5, 0, None, False, '/static/v135/images/blank-profile.png', []], ['VYMPBdHEcWbkYHe302532H5WiG4pQwqR73Vn', None, '2021-01-08 20:34:21.671478+00:00', None, 'when will they open their eyes\\n', [], 'nKGYc5QbMIcR', 'Mr.Moral', False, False, 3, 0, None, False, '/static/v135/images/blank-profile.png', []], ['IWIF2Bjk4oSaP09GQkKdEcG2XP4uOJwp7yor', None, '2021-01-11 23:48:50.060479+00:00', None, '...proof positive that retarded slow Joe should be hung for high crimes along with his rapist, thieving son!', [], 'kw1FW9zapxRO', 'KCTHUMPER', False, False, 3, 0, None, False, '/static/v135/images/blank-profile.png', []], ['h8brYeewMxJKwJarKZm1QYthgMLlehSTkfNV', '2hj3xe5Gv1jtp4a7FpYqlFNvDbtnnSFUShfQ', '2021-01-21 02:22:17.517635+00:00', None, 'Biden has been plagiarizing the words and probably articles of others for decades. May he get caught every time since his literally demented brain has trouble coming up with stuff.', [], 'RywT4IDdQ3bX', 'mjnelson', False, False, 2, 0, None, False, '/static/v135/images/blank-profile.png', []], ['i4dHuq2v7SRjM0JNCS7oSKZEQJdkZnuQd55R', 'KMyEJWOLfBIROjBMkCeOyHUFTsnBoy4Dr0tW', '2021-01-21 02:24:00.427985+00:00', None, 'You sure she is worse? Or maybe her brain works better so she can do more.', [], 'RywT4IDdQ3bX', 'mjnelson', False, False, 0, 0, None, False, '/static/v135/images/blank-profile.png', []], ['U5Q9jXS0t5055HqpiSD8kmJZsOTDX5ZWGprg', 'F01APnc2Fow18E5GKxqoZTj1Iy7AeuuT7Jqh', '2021-01-21 02:25:38.927217+00:00', None, 'He may need to die before Hunter gets his. Papa protects!!!!!!', [], 'RywT4IDdQ3bX', 'mjnelson', False, False, 0, 0, None, False, '/static/v135/images/blank-profile.png', []], ['KPFpfJ2TYF1TMeIiYgK3RC7xvwZ0Pakn7X2T', 'AEqDl511uFIcPnA2Un0pRIoIL9fjeG1JSu80', '2021-01-21 02:26:33.945611+00:00', None, 'Or the reports of Election Fraud are correct in spite of the denials.', [], 'RywT4IDdQ3bX', 'mjnelson', False, False, 0, 0, None, False, '/static/v135/images/blank-profile.png', []], ['gZv08ZFudVZt9rhdkcjG7QoaaXxedxmG7jJL', 'hSqzSZMhxRTWIGNagOW16fxj7AoZlfu1GaDA', '2021-01-21 02:26:49.480415+00:00', None, 'Hang on to your wallet.', [], 'RywT4IDdQ3bX', 'mjnelson', False, False, 0, 0, None, False, '/static/v135/images/blank-profile.png', []], ['VhxlVNr4PtQPW96JVMgliIprj2GaZz5MO27B', None, '2021-01-21 19:01:43.119283+00:00', None, 'This is going to be a crazy four years.', [], '8wE4NTVqkFLN', 'VirtualPolymath', False, False, 3, 0, None, False, '/static/v135/images/blank-profile.png', []], ['CgjmFEShcpjaqF2EIjYa9VzYYMqOOhwoX0t1', None, '2021-01-24 15:55:05.639184+00:00', None, 'He was based literally call them niggers', [], 'GHYnWBGoeccu', 'borutooo', False, False, 4, 0, None, False, '/static/v135/images/blank-profile.png', []], ['MqjtMGYkRX6wleTpNZU2OngK245A66953ZiB', None, '2021-01-25 22:54:15.935971+00:00', None, 'wow, 30 years really makes a difference   :)\\n', [], 'L0isYtvmNRBl', 'markoschl', False, False, 1, 0, None, False, '/static/v135/images/blank-profile.png', []], ['j3Bg1RLG0pD6zJdmlg8ANqeY0hjYIyEKdXXX', None, '2021-01-26 18:09:35.412242+00:00', None, \"Youtube deleted this video because they know it's the truth\", [], 'R2GHZuE2zceF', 'hyruleharry12345', False, False, 3, 0, None, False, '/static/v135/images/blank-profile.png', []], ['KvpzHWlsxIHpd8P4goxEaVa0s8VRG7gzufHr', None, '2021-01-31 15:02:07.444728+00:00', None, 'The \"Biden\" in the White House is an imposter.  Compare earlobes and chin of NEW Biden vs pictures of Biden over six months old.  Two different people.  Watched a video of \"Biden\" skipping two steps at a time to board a helicopter.  The old Biden would not be able to do that.  Compare at Bing images     https://binged.it/2YC8Zfn', [], 'WiMmBkcEJGsa', 'Cooleck', False, False, 3, 0, None, False, '/static/v135/images/blank-profile.png', []], ['HDiN4EXyGt2ZRLuroyIcRoKRPj7sx3CsG3HD', 'j3Bg1RLG0pD6zJdmlg8ANqeY0hjYIyEKdXXX', '2021-02-15 05:43:54.790773+00:00', None, \"IKR? That's some bullshit and the Jews fucking own YouTube, so it should change its name to Jewtube.\", [], '1sZSNoDg25ey', 'Lucius_Irving', False, False, 2, 0, None, False, '/static/v135/images/blank-profile.png', []], ['aRpyIkuET5bm6RaOekXzmQ1G7yS6GJ7YtpMM', 'IWIF2Bjk4oSaP09GQkKdEcG2XP4uOJwp7yor', '2021-02-15 05:44:57.082210+00:00', None, 'I hear ya and the Bidens can suck my dick anytime.', [], '1sZSNoDg25ey', 'Lucius_Irving', False, False, 0, 0, None, False, '/static/v135/images/blank-profile.png', []], ['f3SMdH2hPAINXpboj5a94I1hWSdVzpuQbwQl', 'UCBLcs7FIXRzJ65Tacrj2mIC6n4y8lVOrK6I', '2021-02-15 05:45:50.173747+00:00', None, 'Fuck Jewtube indeed.', [], '1sZSNoDg25ey', 'Lucius_Irving', False, False, 2, 0, None, False, '/static/v135/images/blank-profile.png', []], ['EEd82Iz0QHavuqh0cJGRzo6Iv0t2VnoD4jmO', 'i4dHuq2v7SRjM0JNCS7oSKZEQJdkZnuQd55R', '2021-02-15 05:46:14.453729+00:00', None, \"She's still a bitch.\", [], '1sZSNoDg25ey', 'Lucius_Irving', False, False, 0, 0, None, False, '/static/v135/images/blank-profile.png', []], ['sUrGw5oDjxjshBwplYYCZQFfriKMTh96ND7d', 'UzQXCuHxeLyYfyqoPoPpKYAc39ANO78RKxNv', '2021-02-15 05:46:57.945347+00:00', None, 'Fuck the liberals!', [], '1sZSNoDg25ey', 'Lucius_Irving', False, False, 0, 0, None, False, '/static/v135/images/blank-profile.png', []], ['0qX2X5kSrKLTjEVmy4c9eCdGtdKLdfunXPBR', 'KPFpfJ2TYF1TMeIiYgK3RC7xvwZ0Pakn7X2T', '2021-02-15 05:47:41.417373+00:00', None, 'This motherfucker fucking cheated indeed.', [], '1sZSNoDg25ey', 'Lucius_Irving', False, False, 0, 0, None, False, '/static/v135/images/blank-profile.png', []], ['gsGnhSOqciiPgHIHQzUSRTmCmbV96H9x0dQX', 'hSqzSZMhxRTWIGNagOW16fxj7AoZlfu1GaDA', '2021-02-15 05:48:12.805874+00:00', None, 'Beat it normie!', [], '1sZSNoDg25ey', 'Lucius_Irving', False, False, 0, 0, None, False, '/static/v135/images/blank-profile.png', []], ['Sc7gXB0NBXrCqPam4erBaMhxKGpPYb0zukrP', None, '2021-02-15 05:49:22.210232+00:00', '2021-02-15 05:51:21.828871+00:00', \"Suck my dick Joe Biden! You're nothing but fake chickenshit! \", [], '1sZSNoDg25ey', 'Lucius_Irving', False, False, 0, 0, None, False, '/static/v135/images/blank-profile.png', []], ['sZ2Veh6XVMaMNXIaPXzdO8Wo3SA2lv7Jje0B', 'CgjmFEShcpjaqF2EIjYa9VzYYMqOOhwoX0t1', '2021-02-15 05:50:12.240322+00:00', None, 'Creepy Joe is an unbelievable motherfucker.', [], '1sZSNoDg25ey', 'Lucius_Irving', False, False, 3, 0, None, False, '/static/v135/images/blank-profile.png', []], ['RKtrhropWvF0gFjLgPLkJIy5nCTtK1Dvk7Cg', None, '2021-02-15 12:13:47.744589+00:00', '2021-02-15 15:19:33.176049+00:00', 'Racist Joe, stole the American democracy and got 30,000 solders in Washington to protect him from the \"Bad people\". ', [], 'Bn66qEWxdB5i', 'Tony Montana', False, False, 1, 0, None, False, '/static/v135/images/blank-profile.png', []], ['CDc0Rkkt2Slu3Bh1HUsoePAMJaes6Wj6NSWb', None, '2021-02-16 17:59:01.955923+00:00', None, 'Some good footage of the original Joe', [], '5t91I2vbGI1f', 'Tim', False, False, 1, 0, None, False, '/static/v135/images/blank-profile.png', []], ['98xapTGi7BFblULicFs0eGzf9SacYI8jmteS', None, '2021-02-17 19:06:44.955225+00:00', None, 'Everyone please share this on Facebook. Help wake people up. I have posted it for my 600 friends.\\n  (😅 where are these 600 \"friends\" when I need help moving?)', [], 'adfQfZfo0qTn', 'Cajunrhythm', False, False, 1, 0, None, False, '/static/v135/images/blank-profile.png', []], ['o2tZVqIGL42ioCZUBJRWOAmes0gmG7grOZ3Q', None, '2021-02-20 10:29:11.016043+00:00', None, \"Joe Biden is not a racist. He is a stalwart  warrior and the POTUS. You will bend the knee to Captain O'Biden\", [], 'S32pDPxmee11', 'GaiusBaltar', False, False, 0, 0, None, False, '/static/v135/images/blank-profile.png', []], ['FPIFZqsUPqdjVr1oq92AP0nibLAAZ9fQ6ld3', None, '2021-03-06 06:24:09.829487+00:00', '2021-03-06 06:26:25.229635+00:00', 'CNN 2020:Yay Biden hes a Superhero\\nBiden 2021: Im not a Socialist never was\\nCNN 2021: Biden is a horrible racist', [], 'kG3Z7MhurYSX', 'Toeknives', False, False, 1, 0, None, False, '/static/v135/images/blank-profile.png', []], ['jNUAXUQP3Yl3crxiNJC7OeXhgTtQMNRxsS7p', '8at9jt8HZe59NyYBnlMOUP9hcNhhWIhmVeIF', '2021-03-15 03:25:02.590286+00:00', None, 'Words are not hate.', [], 'YTj2joiafjdq', 'D0n_john', False, False, 0, 0, None, False, '/static/v135/images/blank-profile.png', []], ['eMKlXgn9uPyuAFOzvri1gaAyRPktbJuNyz1F', None, '2021-03-18 16:18:46.056338+00:00', '2021-03-18 16:24:42.426810+00:00', \"Slow Joe can't call Trump racist if he is racist himself. \", [], 'gvSBxitrdMW4', 'GeneralCommonSense', False, False, 1, 0, None, False, '/static/v135/images/blank-profile.png', []], ['NHi3zA2CylPBdOAI83QobhXTjom3wjUJpqYW', 'S3IYTgaAhcQjxASumk0hHu4x4mLkTU1s4ytK', '2021-03-22 16:57:22.969490+00:00', None, \"Mainstream media doesn't want you knowing this\", [], 'gvSBxitrdMW4', 'GeneralCommonSense', False, False, 1, 0, None, False, '/static/v135/images/blank-profile.png', []], ['wrAKIO0aT2enVfQaTMH2HxVaLWkYa5x9Kadl', None, '2021-04-01 03:23:23.247352+00:00', None, 'Seems Biden has a problem with Georgia trying to keep he and the meddling democrats from screwing up more elections? Biden called Georgias new voter legislation \"Jim Crow on steroids.\" He would know, Jim Crow was from the democrats.', [], 'NvQVjcu6G7Iq', 'Rider19', False, False, 1, 0, None, False, '/static/v135/images/blank-profile.png', []], ['ob74KxXKQt1OiZgfAzmoPUBjrRIiV2Z5HEe9', 'S3IYTgaAhcQjxASumk0hHu4x4mLkTU1s4ytK', '2021-04-01 03:31:31.300227+00:00', None, \"The same reason they hid Hunters lap top story. The media wanted Biden. Actually I think most lefties didn't vote for Biden. They voted against Trump. The left hates Trump so much they were willing to wreak our country.\", [], 'NvQVjcu6G7Iq', 'Rider19', False, False, 0, 0, None, False, '/static/v135/images/blank-profile.png', []], ['6Lhi2s7AllloqNiCj8TlctSyQzI8C1s7Vbvz', 'onsAriJy6ziPkMfjT4AnSh2G677RF0740yWH', '2021-04-01 03:32:58.622993+00:00', None, 'No, a martyr. ', [], 'NvQVjcu6G7Iq', 'Rider19', False, False, 0, 0, None, False, '/static/v135/images/blank-profile.png', []], ['X7zi8NU7YP4wpCGbk7TkP9NNyEIrvsaEBHaw', None, '2021-04-09 10:24:41.776045+00:00', None, 'Yes he is racist. The older he gets the harder it is for him to hide that fact.', [], 'zbMUEvyJ64Ff', 'SENNUSRET', False, False, 3, 0, None, False, '/static/v135/images/blank-profile.png', []], ['LEm6WRzek9jcgjIGfrviyxUddr9IrVggYO57', None, '2021-04-15 14:52:05.159186+00:00', None, 'https://youtu.be/Bk6KPhczPOw?t=1', [], 'EuTvMX09DJcw', 'Ozaka', False, False, 0, 0, None, False, '/static/v135/images/blank-profile.png', []], ['2VHMhdv3h7HQkgQGaXO21XuiiIA4ctrPpjgW', None, '2021-04-15 21:47:08.709357+00:00', None, 'Great video! ', [], 'ECRKJnoTSTKM', 'Lowlyfish', False, False, 0, 0, None, False, '/static/v135/images/blank-profile.png', []], ['AVUbcBYw5SgQQktj5sWXuh8IonftW1iy3X4q', None, '2021-05-01 16:26:52.522558+00:00', None, \"https://youtu.be/rFsq5dhyRt0  Tom Homan..The left planned the border crisis, it's 'by design' \", [], 'EuTvMX09DJcw', 'Ozaka', False, False, 2, 0, None, False, '/static/v135/images/blank-profile.png', []], ['GsmaJMCvVDFcihlyqXezTKSjfeEM80ibWZFB', None, '2021-05-12 23:05:16.479621+00:00', None, 'Democrats are the real racists.', [], 'MHNXv6M2y3Ku', 'G.B.', False, False, 3, 0, None, False, 'https://static-3.bitchute.com/live/profile_images/MHNXv6M2y3Ku/OD3Yw0z6JqBdLiKtUwIwNC4P_medium.jpg', []], ['yNk0rNKeVvRkp9S5L4gyXDusUrzf0VuK3BUy', 'ogbLm8uCtOnJDSmZp2xNTfQYUj85QECMEfFa', '2021-07-18 02:51:58.624965+00:00', None, 'You would be too if you were exposed to large numbers of blacks. That’s why Jim Crow was implemented in the first place. They behaved no differently during reconstruction than they do now. Jim Crow kept them in line.', [], 'e7dHoaAby2WE', 'ProudOldStockAmerican', False, False, 0, 0, None, False, '/static/v135/images/blank-profile.png', []], ['FqH6NcOzRGjyKHi55nYD1Mirk3cvDsIftDbi', None, '2021-07-18 02:54:10.038855+00:00', None, 'I like this Joe Biden more than the current one.', [], 'e7dHoaAby2WE', 'ProudOldStockAmerican', False, False, 1, 0, None, False, '/static/v135/images/blank-profile.png', []], ['a8Mvf8qxn2upCGVWNdrYwj84FuyBiEGXFgG8', None, '2021-07-20 06:06:42.041130+00:00', '2021-07-20 06:11:28.719588+00:00', 'now hes attacking whites, i guess the plan is to just beat down the minority, is he making these laws for himself or for us, maybe the prisons were flooded so they could be privatized', [], 'YwtFJbefQDmx', 'okwithsocialism', False, False, 0, 0, None, False, '/static/v135/images/blank-profile.png', []], ['Hd69GPK5S2AsHo6sanJw0qAGFAjFJChmT4Mv', None, '2021-08-08 02:39:50.495636+00:00', None, 'https://www.bitchute.com/video/Q7LSQPTZNoU1/\\n\\xa0The Chinese Communist Party is the single largest body of animal penis eating,\\xa0 Godless,\\xa0 human organ thieves,\\xa0 and intellectual property stealing, counterfeiting people in human history. I am at war with the CCP and all who do business with them under the guise that they are just trying to make a living and feed their families.\\xa0 Burn in the hell you are creating for yourselves cause we are coming for you.Reply', [], 'vYRoUT8QtX4Y', 'rmurdoch.thomson@gmail.com', False, False, 1, 0, None, False, '/static/v135/images/blank-profile.png', []], ['w7LCpdzidiy8cvAbBYywd63EC6lGPZ3t0Eqb', None, '2021-08-09 20:07:01.512464+00:00', None, 'They are all so cuked after niggers right now... Especially Biden... back then he was based I would say, but Soros needs niggers in the west more than anything... so they need to change their beliefs and genocide us with niggers. Too bad', [], 'TMAoa8WsZJtb', 'Romania Necenzurata', False, False, 1, 0, None, False, 'https://static-3.bitchute.com/live/profile_images/TMAoa8WsZJtb/D1lYwoC2cGBfYgjkeu7aAEzk_medium.jpg', []], ['QFAUlvMJK4T5pRUHHqNyTO6JbJjn01gAuLEb', None, '2021-08-10 08:58:13.716709+00:00', None, \"Look at his ears before and after.\\nAnd his eye colour changed too!\\n\\nHe's clearly and a clone!\", [], 'x0Al1cxjt0Sa', 'Jordyz96', False, False, 1, 0, None, False, '/static/v135/images/blank-profile.png', []], ['jxWAwTjsuivG6vmfEuPXtAPXc9NBKDWwe6Fj', None, '2021-08-10 20:35:29.564495+00:00', None, 'The womans reaction at 10:26 is priceless.  🤣', [], '1T1qVO1rQelC', 'Synthisis', False, False, 0, 0, None, False, 'https://static-3.bitchute.com/live/profile_images/1T1qVO1rQelC/lKgmXhSVcUspGk5VnnLvMbVR_medium.jpg', []], ['2lrXktBuqWnTW83mRNvaW29Addv1J71CPTpI', None, '2021-08-16 13:08:25.424952+00:00', None, \"Why couldn't we get this Joe Biden instead of the anti-White asshole we have now?\", [], 'fOf9RlXm7Jdm', 'pb&j', False, False, 2, 0, None, False, '/static/v135/images/blank-profile.png', []], ['A9hjhDoVnl5sjE3EtJad2wYxgOMiRY4k9KQk', None, '2021-08-25 17:43:01.077828+00:00', None, 'I sincerely invite you to watch my covid documentary (the ONLY Documentary out there which disproves its EXISTENCE)\\n\\nhttps://www.bitchute.com/video/VJmvdgskiq1U/\\n\\nThe video surpassed 20k views on bitchute alone!\\n\\nORIGINAL CONTENT \\n\\nThank you 🙏', [], 'G0aSulk8rg1I', 'The Middle Eastern who loves 🇺🇸', False, False, 1, 0, None, False, 'https://static-3.bitchute.com/live/profile_images/G0aSulk8rg1I/6Vi9hMmrp4Ka8gGXXzE6nUSr_medium.jpg', []], ['Rl37IlRTu9Y8YzMVTDAbWYIu1TuV6svW70sB', None, '2021-08-29 03:01:54.779699+00:00', None, \"https://www.bitchute.com/video/76EiBTjFkZeN/\\nDon't Make the Black Kids Angry \\nWhite Girl Bleed Alot \", [], 'vYRoUT8QtX4Y', 'rmurdoch.thomson@gmail.com', False, False, 0, 0, None, False, '/static/v135/images/blank-profile.png', []], ['rRhP7YWPfpQB1TN6zoHcH2ielXLXCSuMUOpl', None, '2021-08-29 10:14:30.625021+00:00', None, 'I bet that Bidens son is  dirtier  than Obama is', [], '6qdOkQTtEAjQ', 'no numbers no digits Saved', False, False, 0, 0, None, False, 'https://static-3.bitchute.com/live/profile_images/6qdOkQTtEAjQ/kolA5ar0i7GK6M2m6b8WlCxW_medium.jpg', []], ['yCXbgGiiwarxI9ASEDqz1In7RWY2sQ4ToFD6', None, '2021-08-31 13:46:29.616474+00:00', None, \"If California didn't have all those Dominion voting machines you, Kamal Aroush would not be in the Senate, Attorney General or anything else.  In Oakland California where you say you are from there is a public transit system called AC Transit and you got on the bus like everyone else.  Go back to Benghazi!\", [], 'PvLVLEbvcPRG', 'redolentone', False, False, 0, 0, None, False, 'https://static-3.bitchute.com/live/profile_images/PvLVLEbvcPRG/OZlsSL7XilG3iVUZMLItwVSL_medium.jpg', []], ['d9hY22S8V0zgZhcoJgiTle5u4gQtB7veWKUO', None, '2021-09-01 23:39:59.224548+00:00', None, 'IF ONLY White Dems / leftists like him ( that are latent racists ) would drop their phony love for blacks, and join hands with Based White Racist groups, channel all their wealth and power ,to buy back all the media , and regain all of OUR Power !!!!', [], 'PRaSkvpvP9wN', 'Venona', False, False, 1, 0, None, False, '/static/v135/images/blank-profile.png', []], ['zYuZfBtTzRRkdKDl6rSOv72anPEa5Q58FjHx', 'QFAUlvMJK4T5pRUHHqNyTO6JbJjn01gAuLEb', '2021-09-03 03:00:48.247660+00:00', None, \"Glad to see I'm not the only one that believes thAT!\", [], 'PRaSkvpvP9wN', 'Venona', False, False, 0, 0, None, False, '/static/v135/images/blank-profile.png', []], ['G2nVRq2JQG43CcTxE7yVV5i0z9htk4HJPfsv', None, '2021-09-04 15:59:00.192925+00:00', None, \"biden must've had a stroke or cerebral hemorrhage sometime between all this footage and when he became barry's VP. Or maybe, the Deep State tortured / brainwashed him, and fucked his brain up so that he's like a zombified version of himself, a version that's 100% controllable.\", [], 'PRaSkvpvP9wN', 'Venona', False, False, 0, 0, None, False, '/static/v135/images/blank-profile.png', []], ['rFo3ASbVkr55puIs3D9AiFZmPvUfpKDRgxJQ', None, '2021-09-07 19:53:23.200364+00:00', None, 'funny i was looking for this on youtube 2 show my friend and it was no where to be found. thanks bitchute', [], 'lz8GoI1zvR0h', 'BlueWoodVideos', False, False, 0, 0, None, False, '/static/v135/images/blank-profile.png', []], ['6b0oA07SbgIJO1i1pWBPlqX6zoymwbvpUTxh', None, '2021-09-21 20:16:41.685488+00:00', None, \"Biden's Lies Matter. Buck Fiden.\", [], 'hB9PnkToPtaT', 'Esoteric---', False, False, 1, 0, None, False, '/static/v135/images/blank-profile.png', []], ['LNsI8aEYyDF8XxtnvzvAXEREg5l8Rqb9huKu', None, '2021-10-12 19:47:14.201993+00:00', None, 'What a bunch of fake ass people', [], 'dz6vyv8PqsL7', 'Lonnybonani', False, False, 0, 0, None, False, '/static/v135/images/blank-profile.png', []], ['308igyJJcMQCoLPs8BuklKYdn1Dkyt7CoTrf', None, '2021-11-13 20:00:11.135000+00:00', None, \"NY BLM leader vows street protests if 'old ways' of policing return https://youtu.be/Ctl9BxdQ8w4?t=2\", [], 'EuTvMX09DJcw', 'Ozaka', False, False, 0, 0, None, False, '/static/v135/images/blank-profile.png', []], ['55Cj0KEoI3DlDjuHqWSXvoFnJAzj22wMlLfJ', None, '2021-11-17 07:15:36.270386+00:00', None, 'One thing I could do for grandpa here is own his momma for being a fucking child molesting, racist freakazoid. \\n\\nI could even make grandpa here my bitch any time seeing how blatantly stupid he is.', [], '1sZSNoDg25ey', 'Lucius_Irving', False, False, 0, 0, None, False, '/static/v135/images/blank-profile.png', []], ['ZRaBk9vgkZmF1NJrORi69EYXiTvbi9gp8zd4', None, '2021-11-25 07:52:02.751172+00:00', None, 'Burn in Hell Joe', [], 'X8R4knGGCTGP', 'wgrunert', False, False, 1, 0, None, False, '/static/v135/images/blank-profile.png', []], ['4X47yVEnw0NtV7KXwUCBEHzhViujs2GjHE9Y', 'rRhP7YWPfpQB1TN6zoHcH2ielXLXCSuMUOpl', '2021-12-26 05:38:00.151174+00:00', None, \"I bet he isn't.  Barry is smart.   That makes it even dirtier.  Hunter is a fumb duck, and is dirty because he just can't help it.\", [], '2KQvd909mNV3', 'MrLeeBlackson', False, False, 0, 0, None, False, '/static/v135/images/blank-profile.png', []], ['laZjxcwACBPYZJMXnUai346YPyWu2wkasyZw', None, '2021-12-29 19:15:20.700050+00:00', None, 'that was his script the jews gave him in the 70s.to get their pedo shabbas goy in.now he did a switch cause his whoremaster told him so.because the end goal was always to kill off aryan people.', [], 'E6asdO8iUSoJ', 'king_kool_kianztar', False, False, 0, 0, None, False, 'https://static-3.bitchute.com/live/profile_images/E6asdO8iUSoJ/jZWCjYRHNuq9WDAJcpqqYg26_medium.jpg', []]]}}\n"
     ]
    }
   ],
   "source": [
    "print(video_data)"
   ]
  },
  {
   "cell_type": "code",
   "execution_count": null,
   "id": "3dc6d3d1-5003-4297-88d5-44d930923fb5",
   "metadata": {},
   "outputs": [],
   "source": []
  }
 ],
 "metadata": {
  "kernelspec": {
   "display_name": "Python 3 (ipykernel)",
   "language": "python",
   "name": "python3"
  },
  "language_info": {
   "codemirror_mode": {
    "name": "ipython",
    "version": 3
   },
   "file_extension": ".py",
   "mimetype": "text/x-python",
   "name": "python",
   "nbconvert_exporter": "python",
   "pygments_lexer": "ipython3",
   "version": "3.8.8"
  }
 },
 "nbformat": 4,
 "nbformat_minor": 5
}
