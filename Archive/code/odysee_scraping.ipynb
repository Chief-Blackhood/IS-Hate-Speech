{
 "cells": [
  {
   "cell_type": "code",
   "execution_count": 1,
   "id": "886d51e3-2f47-4397-beed-d1b0c330a608",
   "metadata": {},
   "outputs": [],
   "source": [
    "from selenium import webdriver\n",
    "from selenium.webdriver.support.ui import WebDriverWait\n",
    "from selenium.webdriver.support import expected_conditions as EC\n",
    "from selenium.webdriver.common.by import By\n",
    "from selenium.common.exceptions import TimeoutException, WebDriverException\n",
    "import time"
   ]
  },
  {
   "cell_type": "code",
   "execution_count": 2,
   "id": "46ec64f9-e1fc-4fa7-88d1-861e0679e324",
   "metadata": {},
   "outputs": [],
   "source": [
    "video_data = {}\n",
    "delay = 6 #seconds"
   ]
  },
  {
   "cell_type": "code",
   "execution_count": 3,
   "id": "8a03f565-be47-4a10-8c66-1bbf610da087",
   "metadata": {},
   "outputs": [
    {
     "name": "stderr",
     "output_type": "stream",
     "text": [
      "/var/folders/63/8sk6p42d28b00trfq5r8lp0h0000gn/T/ipykernel_6920/698288784.py:2: DeprecationWarning: executable_path has been deprecated, please pass in a Service object\n",
      "  driver = webdriver.Chrome('/Users/chief-blackhood/chromedriver')\n"
     ]
    }
   ],
   "source": [
    "link = \"https://odysee.com/@johnstossel:7/anti-racist-racists:3\"\n",
    "driver = webdriver.Chrome('/Users/chief-blackhood/chromedriver')"
   ]
  },
  {
   "cell_type": "code",
   "execution_count": 4,
   "id": "e50bfe24-5e31-4e54-9a85-4e0605c9dea7",
   "metadata": {},
   "outputs": [],
   "source": [
    "driver.get(link)"
   ]
  },
  {
   "cell_type": "code",
   "execution_count": 5,
   "id": "ae4ab9ff-d688-4924-853f-25f86c1b8703",
   "metadata": {},
   "outputs": [],
   "source": [
    "def scroll_to_bottom(driver):\n",
    "\n",
    "    old_position = 0\n",
    "    new_position = None\n",
    "\n",
    "    while new_position != old_position:\n",
    "        # Get old scroll position\n",
    "        old_position = driver.execute_script(\n",
    "                (\"return (window.pageYOffset !== undefined) ?\"\n",
    "                 \" window.pageYOffset : (document.documentElement ||\"\n",
    "                 \" document.body.parentNode || document.body);\"))\n",
    "        # Sleep and Scroll\n",
    "        time.sleep(3)\n",
    "        driver.execute_script((\n",
    "                \"var scrollingElement = (document.scrollingElement ||\"\n",
    "                \" document.body);scrollingElement.scrollTop =\"\n",
    "                \" scrollingElement.scrollHeight;\"))\n",
    "        # Get new position\n",
    "        new_position = driver.execute_script(\n",
    "                (\"return (window.pageYOffset !== undefined) ?\"\n",
    "                 \" window.pageYOffset : (document.documentElement ||\"\n",
    "                 \" document.body.parentNode || document.body);\"))"
   ]
  },
  {
   "cell_type": "code",
   "execution_count": 6,
   "id": "7d276d7c-5d4d-40cc-8d65-cb6b4f909b47",
   "metadata": {},
   "outputs": [],
   "source": [
    "def show_replies(driver):\n",
    "    counter = 5\n",
    "    while counter:\n",
    "        try:\n",
    "            reply = driver.find_element(By.CSS_SELECTOR , '.comment__actions .button.button--link .icon--ChevronDown + .button__label')\n",
    "            if reply.is_displayed():\n",
    "                counter = 5\n",
    "                try:\n",
    "                    reply.click()\n",
    "                except WebDriverException:\n",
    "                    driver.execute_script(\"document.getElementById('vjs_video_3_html5_api').pause()\") # pause a video\n",
    "        except:\n",
    "            counter -= 1\n",
    "            time.sleep(1)"
   ]
  },
  {
   "cell_type": "code",
   "execution_count": 7,
   "id": "d3367cd5-6202-49d6-b9f5-b391b417c59a",
   "metadata": {},
   "outputs": [],
   "source": [
    "def pause_video(driver):\n",
    "    driver.execute_script(\"document.getElementById('vjs_video_3_html5_api').pause()\")"
   ]
  },
  {
   "cell_type": "code",
   "execution_count": 8,
   "id": "4546d52e-9e22-4a31-a823-f96514998dd2",
   "metadata": {},
   "outputs": [],
   "source": [
    "time.sleep(10)\n",
    "scroll_to_bottom(driver)\n",
    "show_replies(driver)\n",
    "# pause_video(driver)"
   ]
  },
  {
   "cell_type": "code",
   "execution_count": 52,
   "id": "111d9c94-4350-478b-b78d-c83f46b1e488",
   "metadata": {},
   "outputs": [],
   "source": [
    "def text_elm(attr, format_type=\"text\", n = 0):\n",
    "    res = \"\"\n",
    "    if format_type == \"text\":\n",
    "        res = WebDriverWait(driver, delay).until(\n",
    "                EC.presence_of_element_located((By.CSS_SELECTOR, attr))).text\n",
    "    elif format_type == \"list\":\n",
    "        # print([my_elem.get_attribute(\"innerHTML\") for my_elem in WebDriverWait(driver, delay).until(EC.visibility_of_all_elements_located((By.CLASS_NAME, \"class_name\")))])\n",
    "        res = WebDriverWait(driver, delay).until(\n",
    "                EC.presence_of_element_located((By.CSS_SELECTOR, attr)))#[n].text\n",
    "    return res"
   ]
  },
  {
   "cell_type": "code",
   "execution_count": 53,
   "id": "0dd97f18-ba33-42a5-96e5-6df209a523c9",
   "metadata": {},
   "outputs": [
    {
     "ename": "TypeError",
     "evalue": "'WebElement' object is not subscriptable",
     "output_type": "error",
     "traceback": [
      "\u001b[0;31m---------------------------------------------------------------------------\u001b[0m",
      "\u001b[0;31mTypeError\u001b[0m                                 Traceback (most recent call last)",
      "\u001b[0;32m/var/folders/63/8sk6p42d28b00trfq5r8lp0h0000gn/T/ipykernel_2596/720437594.py\u001b[0m in \u001b[0;36m<module>\u001b[0;34m\u001b[0m\n\u001b[1;32m      1\u001b[0m \u001b[0mtitle\u001b[0m \u001b[0;34m=\u001b[0m \u001b[0mtext_elm\u001b[0m\u001b[0;34m(\u001b[0m\u001b[0;34m'.card__title'\u001b[0m\u001b[0;34m)\u001b[0m\u001b[0;34m\u001b[0m\u001b[0;34m\u001b[0m\u001b[0m\n\u001b[1;32m      2\u001b[0m \u001b[0mupload_date\u001b[0m \u001b[0;34m=\u001b[0m \u001b[0mtext_elm\u001b[0m\u001b[0;34m(\u001b[0m\u001b[0;34m'.date_time'\u001b[0m\u001b[0;34m)\u001b[0m\u001b[0;34m\u001b[0m\u001b[0;34m\u001b[0m\u001b[0m\n\u001b[0;32m----> 3\u001b[0;31m \u001b[0mlikes\u001b[0m \u001b[0;34m=\u001b[0m \u001b[0mtext_elm\u001b[0m\u001b[0;34m(\u001b[0m\u001b[0;34m'.button__label'\u001b[0m\u001b[0;34m,\u001b[0m \u001b[0mformat_type\u001b[0m\u001b[0;34m=\u001b[0m\u001b[0;34m\"list\"\u001b[0m\u001b[0;34m,\u001b[0m \u001b[0mn\u001b[0m \u001b[0;34m=\u001b[0m \u001b[0;36m0\u001b[0m\u001b[0;34m)\u001b[0m\u001b[0;34m\u001b[0m\u001b[0;34m\u001b[0m\u001b[0m\n\u001b[0m\u001b[1;32m      4\u001b[0m \u001b[0;31m# title = driver.find_element_by_css_selector(\".card__title\")\u001b[0m\u001b[0;34m\u001b[0m\u001b[0;34m\u001b[0m\u001b[0;34m\u001b[0m\u001b[0m\n",
      "\u001b[0;32m/var/folders/63/8sk6p42d28b00trfq5r8lp0h0000gn/T/ipykernel_2596/213277520.py\u001b[0m in \u001b[0;36mtext_elm\u001b[0;34m(attr, format_type, n)\u001b[0m\n\u001b[1;32m      6\u001b[0m     \u001b[0;32melif\u001b[0m \u001b[0mformat_type\u001b[0m \u001b[0;34m==\u001b[0m \u001b[0;34m\"list\"\u001b[0m\u001b[0;34m:\u001b[0m\u001b[0;34m\u001b[0m\u001b[0;34m\u001b[0m\u001b[0m\n\u001b[1;32m      7\u001b[0m         \u001b[0;31m# print([my_elem.get_attribute(\"innerHTML\") for my_elem in WebDriverWait(driver, delay).until(EC.visibility_of_all_elements_located((By.CLASS_NAME, \"class_name\")))])\u001b[0m\u001b[0;34m\u001b[0m\u001b[0;34m\u001b[0m\u001b[0;34m\u001b[0m\u001b[0m\n\u001b[0;32m----> 8\u001b[0;31m         res = WebDriverWait(driver, delay).until(\n\u001b[0m\u001b[1;32m      9\u001b[0m                 EC.presence_of_element_located((By.CSS_SELECTOR, attr)))[n].text\n\u001b[1;32m     10\u001b[0m     \u001b[0;32mreturn\u001b[0m \u001b[0mres\u001b[0m\u001b[0;34m\u001b[0m\u001b[0;34m\u001b[0m\u001b[0m\n",
      "\u001b[0;31mTypeError\u001b[0m: 'WebElement' object is not subscriptable"
     ]
    }
   ],
   "source": [
    "title = text_elm('.card__title')\n",
    "upload_date = text_elm('.date_time')\n",
    "likes = text_elm('.button__label', format_type=\"list\", n = 0)\n",
    "# title = driver.find_element_by_css_selector(\".card__title\")"
   ]
  },
  {
   "cell_type": "code",
   "execution_count": null,
   "id": "1653a48b-1ade-4d11-872f-aba0a6d7dff3",
   "metadata": {},
   "outputs": [],
   "source": [
    "# print(title, upload_date)\n",
    "print(likes)"
   ]
  },
  {
   "cell_type": "code",
   "execution_count": null,
   "id": "fd7378d5-5fdd-481a-b1e4-08a12a4cd112",
   "metadata": {},
   "outputs": [],
   "source": []
  }
 ],
 "metadata": {
  "kernelspec": {
   "display_name": "Python 3 (ipykernel)",
   "language": "python",
   "name": "python3"
  },
  "language_info": {
   "codemirror_mode": {
    "name": "ipython",
    "version": 3
   },
   "file_extension": ".py",
   "mimetype": "text/x-python",
   "name": "python",
   "nbconvert_exporter": "python",
   "pygments_lexer": "ipython3",
   "version": "3.8.8"
  }
 },
 "nbformat": 4,
 "nbformat_minor": 5
}
